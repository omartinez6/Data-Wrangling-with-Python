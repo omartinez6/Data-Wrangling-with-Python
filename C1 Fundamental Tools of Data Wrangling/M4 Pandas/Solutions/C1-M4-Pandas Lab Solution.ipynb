{
 "cells": [
  {
   "cell_type": "markdown",
   "metadata": {
    "cell_id": "90a515d3ef2642a1b7efee3407fdfe78",
    "deepnote_app_coordinates": {
     "h": 5,
     "w": 12,
     "x": 0,
     "y": 403
    },
    "deepnote_cell_height": 555,
    "deepnote_cell_type": "markdown",
    "id": "2CdaJd-rP6b8"
   },
   "source": [
    "# Pandas\n",
    "\n",
    "This section is all about the package, Pandas. Are you ready? Let's go!\n",
    "\n",
    "You will find some small tasks in sections below. Most codes are hidden and you can only see the output.\n",
    "\n",
    "> Try to figure out by yourself, or search for references. Being able to search and find information needed is an important skill that benefits you and your career for a long time.\n",
    "\n",
    "\n",
    "\n"
   ]
  },
  {
   "cell_type": "markdown",
   "metadata": {
    "cell_id": "f4372d9d4687432a9a0781ce6eda75c9",
    "deepnote_app_coordinates": {
     "h": 5,
     "w": 12,
     "x": 0,
     "y": 409
    },
    "deepnote_cell_height": 69.59375,
    "deepnote_cell_type": "markdown",
    "id": "dRFhi328P6b_"
   },
   "source": [
    "## Set up the environment"
   ]
  },
  {
   "cell_type": "markdown",
   "metadata": {
    "cell_id": "334e46977b974454860c8497269b09f0",
    "deepnote_app_coordinates": {
     "h": 5,
     "w": 12,
     "x": 0,
     "y": 415
    },
    "deepnote_cell_height": 61.59375,
    "deepnote_cell_type": "markdown",
    "id": "PIQ3RexLP6b_"
   },
   "source": [
    "### Task: import pandas, and name it as pd"
   ]
  },
  {
   "cell_type": "code",
   "execution_count": null,
   "metadata": {
    "cell_id": "7e593ace6bbd4af8afce1d81e32baacc",
    "deepnote_app_coordinates": {
     "h": 5,
     "w": 12,
     "x": 0,
     "y": 421
    },
    "deepnote_app_is_code_hidden": true,
    "deepnote_cell_type": "code",
    "deepnote_to_be_reexecuted": false,
    "execution_millis": 1,
    "execution_start": 1664740594982,
    "id": "n7qiruks8HZ5",
    "source_hash": "9b82ee11"
   },
   "outputs": [],
   "source": [
    "import pandas as pd"
   ]
  },
  {
   "cell_type": "markdown",
   "metadata": {
    "cell_id": "ad1a329e9eed45cab92a509df41ecf97",
    "deepnote_app_coordinates": {
     "h": 5,
     "w": 12,
     "x": 0,
     "y": 427
    },
    "deepnote_cell_height": 69.59375,
    "deepnote_cell_type": "markdown",
    "id": "Bdt8FDD1i7nb"
   },
   "source": [
    "## Data Creation"
   ]
  },
  {
   "cell_type": "markdown",
   "metadata": {
    "cell_id": "975cf5c79b1045399d05bf0bb4b43545",
    "deepnote_app_coordinates": {
     "h": 5,
     "w": 12,
     "x": 0,
     "y": 433
    },
    "deepnote_cell_height": 144.796875,
    "deepnote_cell_type": "markdown",
    "id": "-epzW0mCpkX_"
   },
   "source": [
    "### Task\n",
    "Find the data [here](https://en.wikipedia.org/wiki/List_of_countries_by_GDP_(nominal)) for the GDP (nomial). For the top **10** countries, create a dataframe that has the names of country, the GDP of the country in 2021 (reported in 2022) by IMF in dollars , the population of the country (you can find the data [here](https://en.wikipedia.org/wiki/List_of_countries_and_dependencies_by_population))"
   ]
  },
  {
   "cell_type": "code",
   "execution_count": null,
   "metadata": {
    "cell_id": "301b5c5e805e4108998b7a12512fe6bd",
    "deepnote_app_coordinates": {
     "h": 5,
     "w": 12,
     "x": 0,
     "y": 439
    },
    "deepnote_app_is_code_hidden": true,
    "deepnote_cell_type": "code",
    "deepnote_to_be_reexecuted": false,
    "execution_millis": 0,
    "execution_start": 1664740594983,
    "id": "kPp9TBksKbRb",
    "source_hash": "3b4e8dca"
   },
   "outputs": [],
   "source": [
    "df = pd.DataFrame({'Country':['United States', 'China', 'Japan', 'Germany', 'India', 'United Kingdom', 'France', 'Canada', 'Italy', 'Brazil'],\n",
    "                   'GDP': [25346805, 19911593, 4912147, 4256540, 3534743, 3376003, 2936702, 2221218, 2058330, 1833274],\n",
    "                   'Population':[332943701, 1425881285, 125502000, 83695430, 1417945080, 67081234, 67874000, 38856839, 58906742, 214956683]})"
   ]
  },
  {
   "cell_type": "code",
   "execution_count": null,
   "metadata": {
    "cell_id": "bfec120b1f134c0e85efa20ec180da34",
    "deepnote_app_coordinates": {
     "h": 5,
     "w": 12,
     "x": 0,
     "y": 445
    },
    "deepnote_app_is_code_hidden": false,
    "deepnote_cell_type": "code",
    "deepnote_to_be_reexecuted": false,
    "execution_millis": 12,
    "execution_start": 1664740594987,
    "id": "37swxt9UM1DJ",
    "outputId": "6309dde0-496e-4b08-a4ce-a395cd55d92c",
    "source_hash": "f804c160"
   },
   "outputs": [
    {
     "data": {
      "application/vnd.deepnote.dataframe.v3+json": {
       "column_count": 3,
       "columns": [
        {
         "dtype": "object",
         "name": "Country",
         "stats": {
          "categories": [
           {
            "count": 1,
            "name": "United States"
           },
           {
            "count": 1,
            "name": "China"
           },
           {
            "count": 8,
            "name": "8 others"
           }
          ],
          "nan_count": 0,
          "unique_count": 10
         }
        },
        {
         "dtype": "int64",
         "name": "GDP",
         "stats": {
          "histogram": [
           {
            "bin_end": 4184627.1,
            "bin_start": 1833274,
            "count": 6
           },
           {
            "bin_end": 6535980.2,
            "bin_start": 4184627.1,
            "count": 2
           },
           {
            "bin_end": 8887333.3,
            "bin_start": 6535980.2,
            "count": 0
           },
           {
            "bin_end": 11238686.4,
            "bin_start": 8887333.3,
            "count": 0
           },
           {
            "bin_end": 13590039.5,
            "bin_start": 11238686.4,
            "count": 0
           },
           {
            "bin_end": 15941392.600000001,
            "bin_start": 13590039.5,
            "count": 0
           },
           {
            "bin_end": 18292745.700000003,
            "bin_start": 15941392.600000001,
            "count": 0
           },
           {
            "bin_end": 20644098.8,
            "bin_start": 18292745.700000003,
            "count": 1
           },
           {
            "bin_end": 22995451.900000002,
            "bin_start": 20644098.8,
            "count": 0
           },
           {
            "bin_end": 25346805,
            "bin_start": 22995451.900000002,
            "count": 1
           }
          ],
          "max": "25346805",
          "min": "1833274",
          "nan_count": 0,
          "unique_count": 10
         }
        },
        {
         "dtype": "int64",
         "name": "Population",
         "stats": {
          "histogram": [
           {
            "bin_end": 177559283.6,
            "bin_start": 38856839,
            "count": 6
           },
           {
            "bin_end": 316261728.2,
            "bin_start": 177559283.6,
            "count": 1
           },
           {
            "bin_end": 454964172.79999995,
            "bin_start": 316261728.2,
            "count": 1
           },
           {
            "bin_end": 593666617.4,
            "bin_start": 454964172.79999995,
            "count": 0
           },
           {
            "bin_end": 732369062,
            "bin_start": 593666617.4,
            "count": 0
           },
           {
            "bin_end": 871071506.5999999,
            "bin_start": 732369062,
            "count": 0
           },
           {
            "bin_end": 1009773951.1999999,
            "bin_start": 871071506.5999999,
            "count": 0
           },
           {
            "bin_end": 1148476395.8,
            "bin_start": 1009773951.1999999,
            "count": 0
           },
           {
            "bin_end": 1287178840.3999999,
            "bin_start": 1148476395.8,
            "count": 0
           },
           {
            "bin_end": 1425881285,
            "bin_start": 1287178840.3999999,
            "count": 2
           }
          ],
          "max": "1425881285",
          "min": "38856839",
          "nan_count": 0,
          "unique_count": 10
         }
        },
        {
         "dtype": "int64",
         "name": "_deepnote_index_column"
        }
       ],
       "row_count": 10,
       "rows": [
        {
         "Country": "United States",
         "GDP": "25346805",
         "Population": "332943701",
         "_deepnote_index_column": "0"
        },
        {
         "Country": "China",
         "GDP": "19911593",
         "Population": "1425881285",
         "_deepnote_index_column": "1"
        },
        {
         "Country": "Japan",
         "GDP": "4912147",
         "Population": "125502000",
         "_deepnote_index_column": "2"
        },
        {
         "Country": "Germany",
         "GDP": "4256540",
         "Population": "83695430",
         "_deepnote_index_column": "3"
        },
        {
         "Country": "India",
         "GDP": "3534743",
         "Population": "1417945080",
         "_deepnote_index_column": "4"
        },
        {
         "Country": "United Kingdom",
         "GDP": "3376003",
         "Population": "67081234",
         "_deepnote_index_column": "5"
        },
        {
         "Country": "France",
         "GDP": "2936702",
         "Population": "67874000",
         "_deepnote_index_column": "6"
        },
        {
         "Country": "Canada",
         "GDP": "2221218",
         "Population": "38856839",
         "_deepnote_index_column": "7"
        },
        {
         "Country": "Italy",
         "GDP": "2058330",
         "Population": "58906742",
         "_deepnote_index_column": "8"
        },
        {
         "Country": "Brazil",
         "GDP": "1833274",
         "Population": "214956683",
         "_deepnote_index_column": "9"
        }
       ]
      },
      "text/html": [
       "<div>\n",
       "<style scoped>\n",
       "    .dataframe tbody tr th:only-of-type {\n",
       "        vertical-align: middle;\n",
       "    }\n",
       "\n",
       "    .dataframe tbody tr th {\n",
       "        vertical-align: top;\n",
       "    }\n",
       "\n",
       "    .dataframe thead th {\n",
       "        text-align: right;\n",
       "    }\n",
       "</style>\n",
       "<table border=\"1\" class=\"dataframe\">\n",
       "  <thead>\n",
       "    <tr style=\"text-align: right;\">\n",
       "      <th></th>\n",
       "      <th>Country</th>\n",
       "      <th>GDP</th>\n",
       "      <th>Population</th>\n",
       "    </tr>\n",
       "  </thead>\n",
       "  <tbody>\n",
       "    <tr>\n",
       "      <th>0</th>\n",
       "      <td>United States</td>\n",
       "      <td>25346805</td>\n",
       "      <td>332943701</td>\n",
       "    </tr>\n",
       "    <tr>\n",
       "      <th>1</th>\n",
       "      <td>China</td>\n",
       "      <td>19911593</td>\n",
       "      <td>1425881285</td>\n",
       "    </tr>\n",
       "    <tr>\n",
       "      <th>2</th>\n",
       "      <td>Japan</td>\n",
       "      <td>4912147</td>\n",
       "      <td>125502000</td>\n",
       "    </tr>\n",
       "    <tr>\n",
       "      <th>3</th>\n",
       "      <td>Germany</td>\n",
       "      <td>4256540</td>\n",
       "      <td>83695430</td>\n",
       "    </tr>\n",
       "    <tr>\n",
       "      <th>4</th>\n",
       "      <td>India</td>\n",
       "      <td>3534743</td>\n",
       "      <td>1417945080</td>\n",
       "    </tr>\n",
       "    <tr>\n",
       "      <th>5</th>\n",
       "      <td>United Kingdom</td>\n",
       "      <td>3376003</td>\n",
       "      <td>67081234</td>\n",
       "    </tr>\n",
       "    <tr>\n",
       "      <th>6</th>\n",
       "      <td>France</td>\n",
       "      <td>2936702</td>\n",
       "      <td>67874000</td>\n",
       "    </tr>\n",
       "    <tr>\n",
       "      <th>7</th>\n",
       "      <td>Canada</td>\n",
       "      <td>2221218</td>\n",
       "      <td>38856839</td>\n",
       "    </tr>\n",
       "    <tr>\n",
       "      <th>8</th>\n",
       "      <td>Italy</td>\n",
       "      <td>2058330</td>\n",
       "      <td>58906742</td>\n",
       "    </tr>\n",
       "    <tr>\n",
       "      <th>9</th>\n",
       "      <td>Brazil</td>\n",
       "      <td>1833274</td>\n",
       "      <td>214956683</td>\n",
       "    </tr>\n",
       "  </tbody>\n",
       "</table>\n",
       "</div>"
      ],
      "text/plain": [
       "          Country       GDP  Population\n",
       "0   United States  25346805   332943701\n",
       "1           China  19911593  1425881285\n",
       "2           Japan   4912147   125502000\n",
       "3         Germany   4256540    83695430\n",
       "4           India   3534743  1417945080\n",
       "5  United Kingdom   3376003    67081234\n",
       "6          France   2936702    67874000\n",
       "7          Canada   2221218    38856839\n",
       "8           Italy   2058330    58906742\n",
       "9          Brazil   1833274   214956683"
      ]
     },
     "execution_count": 34,
     "metadata": {},
     "output_type": "execute_result"
    }
   ],
   "source": [
    "df"
   ]
  },
  {
   "cell_type": "code",
   "execution_count": null,
   "metadata": {
    "cell_id": "13609c4533464383b58129a2df703982",
    "deepnote_app_coordinates": {
     "h": 5,
     "w": 12,
     "x": 0,
     "y": 451
    },
    "deepnote_app_is_code_hidden": false,
    "deepnote_cell_type": "code",
    "deepnote_to_be_reexecuted": false,
    "execution_millis": 2,
    "execution_start": 1664740595043,
    "id": "_GAZ4AmpNokc",
    "outputId": "ab38ce3a-2285-4316-877f-c517ade35ab7",
    "source_hash": "de1e323c"
   },
   "outputs": [
    {
     "name": "stdout",
     "output_type": "stream",
     "text": [
      "<class 'pandas.core.frame.DataFrame'>\n",
      "RangeIndex: 10 entries, 0 to 9\n",
      "Data columns (total 3 columns):\n",
      " #   Column      Non-Null Count  Dtype \n",
      "---  ------      --------------  ----- \n",
      " 0   Country     10 non-null     object\n",
      " 1   GDP         10 non-null     int64 \n",
      " 2   Population  10 non-null     int64 \n",
      "dtypes: int64(2), object(1)\n",
      "memory usage: 368.0+ bytes\n"
     ]
    }
   ],
   "source": [
    "df.info()"
   ]
  },
  {
   "cell_type": "markdown",
   "metadata": {
    "cell_id": "f4f017cd73cd4186a711b11fb1548f39",
    "deepnote_app_coordinates": {
     "h": 5,
     "w": 12,
     "x": 0,
     "y": 457
    },
    "deepnote_cell_height": 69.59375,
    "deepnote_cell_type": "markdown",
    "id": "EyLQMJhzinAJ"
   },
   "source": [
    "## Data Accessing"
   ]
  },
  {
   "cell_type": "markdown",
   "metadata": {
    "cell_id": "116161d9478d4e648e15c6ce245bfa38",
    "deepnote_app_coordinates": {
     "h": 5,
     "w": 12,
     "x": 0,
     "y": 463
    },
    "deepnote_cell_height": 61.59375,
    "deepnote_cell_type": "markdown",
    "id": "SFohyeFoP6cE"
   },
   "source": [
    "### Task: List the countries and their GDP"
   ]
  },
  {
   "cell_type": "code",
   "execution_count": null,
   "metadata": {
    "cell_id": "daa2c1a518dd4a26b0424dbe4b640a90",
    "deepnote_app_coordinates": {
     "h": 5,
     "w": 12,
     "x": 0,
     "y": 469
    },
    "deepnote_app_is_code_hidden": true,
    "deepnote_cell_type": "code",
    "deepnote_to_be_reexecuted": false,
    "execution_millis": 3,
    "execution_start": 1664740595043,
    "id": "VZhO_7DyP6cE",
    "outputId": "d78a4119-57cb-4923-9c43-514c4bd1c25d",
    "source_hash": "2068454e"
   },
   "outputs": [
    {
     "data": {
      "application/vnd.deepnote.dataframe.v3+json": {
       "column_count": 2,
       "columns": [
        {
         "dtype": "object",
         "name": "Country",
         "stats": {
          "categories": [
           {
            "count": 1,
            "name": "United States"
           },
           {
            "count": 1,
            "name": "China"
           },
           {
            "count": 8,
            "name": "8 others"
           }
          ],
          "nan_count": 0,
          "unique_count": 10
         }
        },
        {
         "dtype": "int64",
         "name": "GDP",
         "stats": {
          "histogram": [
           {
            "bin_end": 4184627.1,
            "bin_start": 1833274,
            "count": 6
           },
           {
            "bin_end": 6535980.2,
            "bin_start": 4184627.1,
            "count": 2
           },
           {
            "bin_end": 8887333.3,
            "bin_start": 6535980.2,
            "count": 0
           },
           {
            "bin_end": 11238686.4,
            "bin_start": 8887333.3,
            "count": 0
           },
           {
            "bin_end": 13590039.5,
            "bin_start": 11238686.4,
            "count": 0
           },
           {
            "bin_end": 15941392.600000001,
            "bin_start": 13590039.5,
            "count": 0
           },
           {
            "bin_end": 18292745.700000003,
            "bin_start": 15941392.600000001,
            "count": 0
           },
           {
            "bin_end": 20644098.8,
            "bin_start": 18292745.700000003,
            "count": 1
           },
           {
            "bin_end": 22995451.900000002,
            "bin_start": 20644098.8,
            "count": 0
           },
           {
            "bin_end": 25346805,
            "bin_start": 22995451.900000002,
            "count": 1
           }
          ],
          "max": "25346805",
          "min": "1833274",
          "nan_count": 0,
          "unique_count": 10
         }
        },
        {
         "dtype": "int64",
         "name": "_deepnote_index_column"
        }
       ],
       "row_count": 10,
       "rows": [
        {
         "Country": "United States",
         "GDP": "25346805",
         "_deepnote_index_column": "0"
        },
        {
         "Country": "China",
         "GDP": "19911593",
         "_deepnote_index_column": "1"
        },
        {
         "Country": "Japan",
         "GDP": "4912147",
         "_deepnote_index_column": "2"
        },
        {
         "Country": "Germany",
         "GDP": "4256540",
         "_deepnote_index_column": "3"
        },
        {
         "Country": "India",
         "GDP": "3534743",
         "_deepnote_index_column": "4"
        },
        {
         "Country": "United Kingdom",
         "GDP": "3376003",
         "_deepnote_index_column": "5"
        },
        {
         "Country": "France",
         "GDP": "2936702",
         "_deepnote_index_column": "6"
        },
        {
         "Country": "Canada",
         "GDP": "2221218",
         "_deepnote_index_column": "7"
        },
        {
         "Country": "Italy",
         "GDP": "2058330",
         "_deepnote_index_column": "8"
        },
        {
         "Country": "Brazil",
         "GDP": "1833274",
         "_deepnote_index_column": "9"
        }
       ]
      },
      "text/html": [
       "<div>\n",
       "<style scoped>\n",
       "    .dataframe tbody tr th:only-of-type {\n",
       "        vertical-align: middle;\n",
       "    }\n",
       "\n",
       "    .dataframe tbody tr th {\n",
       "        vertical-align: top;\n",
       "    }\n",
       "\n",
       "    .dataframe thead th {\n",
       "        text-align: right;\n",
       "    }\n",
       "</style>\n",
       "<table border=\"1\" class=\"dataframe\">\n",
       "  <thead>\n",
       "    <tr style=\"text-align: right;\">\n",
       "      <th></th>\n",
       "      <th>Country</th>\n",
       "      <th>GDP</th>\n",
       "    </tr>\n",
       "  </thead>\n",
       "  <tbody>\n",
       "    <tr>\n",
       "      <th>0</th>\n",
       "      <td>United States</td>\n",
       "      <td>25346805</td>\n",
       "    </tr>\n",
       "    <tr>\n",
       "      <th>1</th>\n",
       "      <td>China</td>\n",
       "      <td>19911593</td>\n",
       "    </tr>\n",
       "    <tr>\n",
       "      <th>2</th>\n",
       "      <td>Japan</td>\n",
       "      <td>4912147</td>\n",
       "    </tr>\n",
       "    <tr>\n",
       "      <th>3</th>\n",
       "      <td>Germany</td>\n",
       "      <td>4256540</td>\n",
       "    </tr>\n",
       "    <tr>\n",
       "      <th>4</th>\n",
       "      <td>India</td>\n",
       "      <td>3534743</td>\n",
       "    </tr>\n",
       "    <tr>\n",
       "      <th>5</th>\n",
       "      <td>United Kingdom</td>\n",
       "      <td>3376003</td>\n",
       "    </tr>\n",
       "    <tr>\n",
       "      <th>6</th>\n",
       "      <td>France</td>\n",
       "      <td>2936702</td>\n",
       "    </tr>\n",
       "    <tr>\n",
       "      <th>7</th>\n",
       "      <td>Canada</td>\n",
       "      <td>2221218</td>\n",
       "    </tr>\n",
       "    <tr>\n",
       "      <th>8</th>\n",
       "      <td>Italy</td>\n",
       "      <td>2058330</td>\n",
       "    </tr>\n",
       "    <tr>\n",
       "      <th>9</th>\n",
       "      <td>Brazil</td>\n",
       "      <td>1833274</td>\n",
       "    </tr>\n",
       "  </tbody>\n",
       "</table>\n",
       "</div>"
      ],
      "text/plain": [
       "          Country       GDP\n",
       "0   United States  25346805\n",
       "1           China  19911593\n",
       "2           Japan   4912147\n",
       "3         Germany   4256540\n",
       "4           India   3534743\n",
       "5  United Kingdom   3376003\n",
       "6          France   2936702\n",
       "7          Canada   2221218\n",
       "8           Italy   2058330\n",
       "9          Brazil   1833274"
      ]
     },
     "execution_count": 36,
     "metadata": {},
     "output_type": "execute_result"
    }
   ],
   "source": [
    "df[['Country', 'GDP']]"
   ]
  },
  {
   "cell_type": "markdown",
   "metadata": {
    "cell_id": "a7fe395b463542e2850e672364b176e0",
    "deepnote_app_coordinates": {
     "h": 5,
     "w": 12,
     "x": 0,
     "y": 475
    },
    "deepnote_cell_height": 61.59375,
    "deepnote_cell_type": "markdown",
    "id": "2eMRijxEP6cE"
   },
   "source": [
    "### Task: List the countries and their population"
   ]
  },
  {
   "cell_type": "code",
   "execution_count": null,
   "metadata": {
    "cell_id": "aaae4ba1d1b5472ea088caac9ee59fe6",
    "deepnote_app_coordinates": {
     "h": 5,
     "w": 12,
     "x": 0,
     "y": 481
    },
    "deepnote_app_is_code_hidden": true,
    "deepnote_cell_type": "code",
    "deepnote_to_be_reexecuted": false,
    "execution_millis": 11,
    "execution_start": 1664740595046,
    "id": "Cn9P4tr5P6cE",
    "outputId": "e4d07bb9-d618-402e-9074-a44eb7693f51",
    "source_hash": "1cc62e67"
   },
   "outputs": [
    {
     "data": {
      "application/vnd.deepnote.dataframe.v3+json": {
       "column_count": 2,
       "columns": [
        {
         "dtype": "object",
         "name": "Country",
         "stats": {
          "categories": [
           {
            "count": 1,
            "name": "United States"
           },
           {
            "count": 1,
            "name": "China"
           },
           {
            "count": 8,
            "name": "8 others"
           }
          ],
          "nan_count": 0,
          "unique_count": 10
         }
        },
        {
         "dtype": "int64",
         "name": "Population",
         "stats": {
          "histogram": [
           {
            "bin_end": 177559283.6,
            "bin_start": 38856839,
            "count": 6
           },
           {
            "bin_end": 316261728.2,
            "bin_start": 177559283.6,
            "count": 1
           },
           {
            "bin_end": 454964172.79999995,
            "bin_start": 316261728.2,
            "count": 1
           },
           {
            "bin_end": 593666617.4,
            "bin_start": 454964172.79999995,
            "count": 0
           },
           {
            "bin_end": 732369062,
            "bin_start": 593666617.4,
            "count": 0
           },
           {
            "bin_end": 871071506.5999999,
            "bin_start": 732369062,
            "count": 0
           },
           {
            "bin_end": 1009773951.1999999,
            "bin_start": 871071506.5999999,
            "count": 0
           },
           {
            "bin_end": 1148476395.8,
            "bin_start": 1009773951.1999999,
            "count": 0
           },
           {
            "bin_end": 1287178840.3999999,
            "bin_start": 1148476395.8,
            "count": 0
           },
           {
            "bin_end": 1425881285,
            "bin_start": 1287178840.3999999,
            "count": 2
           }
          ],
          "max": "1425881285",
          "min": "38856839",
          "nan_count": 0,
          "unique_count": 10
         }
        },
        {
         "dtype": "int64",
         "name": "_deepnote_index_column"
        }
       ],
       "row_count": 10,
       "rows": [
        {
         "Country": "United States",
         "Population": "332943701",
         "_deepnote_index_column": "0"
        },
        {
         "Country": "China",
         "Population": "1425881285",
         "_deepnote_index_column": "1"
        },
        {
         "Country": "Japan",
         "Population": "125502000",
         "_deepnote_index_column": "2"
        },
        {
         "Country": "Germany",
         "Population": "83695430",
         "_deepnote_index_column": "3"
        },
        {
         "Country": "India",
         "Population": "1417945080",
         "_deepnote_index_column": "4"
        },
        {
         "Country": "United Kingdom",
         "Population": "67081234",
         "_deepnote_index_column": "5"
        },
        {
         "Country": "France",
         "Population": "67874000",
         "_deepnote_index_column": "6"
        },
        {
         "Country": "Canada",
         "Population": "38856839",
         "_deepnote_index_column": "7"
        },
        {
         "Country": "Italy",
         "Population": "58906742",
         "_deepnote_index_column": "8"
        },
        {
         "Country": "Brazil",
         "Population": "214956683",
         "_deepnote_index_column": "9"
        }
       ]
      },
      "text/html": [
       "<div>\n",
       "<style scoped>\n",
       "    .dataframe tbody tr th:only-of-type {\n",
       "        vertical-align: middle;\n",
       "    }\n",
       "\n",
       "    .dataframe tbody tr th {\n",
       "        vertical-align: top;\n",
       "    }\n",
       "\n",
       "    .dataframe thead th {\n",
       "        text-align: right;\n",
       "    }\n",
       "</style>\n",
       "<table border=\"1\" class=\"dataframe\">\n",
       "  <thead>\n",
       "    <tr style=\"text-align: right;\">\n",
       "      <th></th>\n",
       "      <th>Country</th>\n",
       "      <th>Population</th>\n",
       "    </tr>\n",
       "  </thead>\n",
       "  <tbody>\n",
       "    <tr>\n",
       "      <th>0</th>\n",
       "      <td>United States</td>\n",
       "      <td>332943701</td>\n",
       "    </tr>\n",
       "    <tr>\n",
       "      <th>1</th>\n",
       "      <td>China</td>\n",
       "      <td>1425881285</td>\n",
       "    </tr>\n",
       "    <tr>\n",
       "      <th>2</th>\n",
       "      <td>Japan</td>\n",
       "      <td>125502000</td>\n",
       "    </tr>\n",
       "    <tr>\n",
       "      <th>3</th>\n",
       "      <td>Germany</td>\n",
       "      <td>83695430</td>\n",
       "    </tr>\n",
       "    <tr>\n",
       "      <th>4</th>\n",
       "      <td>India</td>\n",
       "      <td>1417945080</td>\n",
       "    </tr>\n",
       "    <tr>\n",
       "      <th>5</th>\n",
       "      <td>United Kingdom</td>\n",
       "      <td>67081234</td>\n",
       "    </tr>\n",
       "    <tr>\n",
       "      <th>6</th>\n",
       "      <td>France</td>\n",
       "      <td>67874000</td>\n",
       "    </tr>\n",
       "    <tr>\n",
       "      <th>7</th>\n",
       "      <td>Canada</td>\n",
       "      <td>38856839</td>\n",
       "    </tr>\n",
       "    <tr>\n",
       "      <th>8</th>\n",
       "      <td>Italy</td>\n",
       "      <td>58906742</td>\n",
       "    </tr>\n",
       "    <tr>\n",
       "      <th>9</th>\n",
       "      <td>Brazil</td>\n",
       "      <td>214956683</td>\n",
       "    </tr>\n",
       "  </tbody>\n",
       "</table>\n",
       "</div>"
      ],
      "text/plain": [
       "          Country  Population\n",
       "0   United States   332943701\n",
       "1           China  1425881285\n",
       "2           Japan   125502000\n",
       "3         Germany    83695430\n",
       "4           India  1417945080\n",
       "5  United Kingdom    67081234\n",
       "6          France    67874000\n",
       "7          Canada    38856839\n",
       "8           Italy    58906742\n",
       "9          Brazil   214956683"
      ]
     },
     "execution_count": 37,
     "metadata": {},
     "output_type": "execute_result"
    }
   ],
   "source": [
    "df[['Country', 'Population']]"
   ]
  },
  {
   "cell_type": "markdown",
   "metadata": {
    "cell_id": "f72db9323cbe407c90944d6a364622c3",
    "deepnote_app_coordinates": {
     "h": 5,
     "w": 12,
     "x": 0,
     "y": 487
    },
    "deepnote_cell_height": 93.59375,
    "deepnote_cell_type": "markdown",
    "id": "LoNdmFLLP6cE"
   },
   "source": [
    "### Task: List the first country with its GDP and population"
   ]
  },
  {
   "cell_type": "code",
   "execution_count": null,
   "metadata": {
    "cell_id": "60aad3ddec09455bae5e72183180c10f",
    "deepnote_app_coordinates": {
     "h": 5,
     "w": 12,
     "x": 0,
     "y": 493
    },
    "deepnote_app_is_code_hidden": true,
    "deepnote_cell_type": "code",
    "deepnote_to_be_reexecuted": false,
    "execution_millis": 3,
    "execution_start": 1664740595081,
    "id": "-ZQs1pHRP6cE",
    "outputId": "a51eb3c9-7031-45b6-fe38-899312fead31",
    "source_hash": "52644606"
   },
   "outputs": [
    {
     "data": {
      "text/plain": [
       "Country       United States\n",
       "GDP                25346805\n",
       "Population        332943701\n",
       "Name: 0, dtype: object"
      ]
     },
     "execution_count": 38,
     "metadata": {},
     "output_type": "execute_result"
    }
   ],
   "source": [
    "df.loc[0]"
   ]
  },
  {
   "cell_type": "markdown",
   "metadata": {
    "cell_id": "b0ec0c3786504e47bb048cda2d24089d",
    "deepnote_app_coordinates": {
     "h": 5,
     "w": 12,
     "x": 0,
     "y": 499
    },
    "deepnote_cell_height": 69.59375,
    "deepnote_cell_type": "markdown",
    "id": "ugNQUF71P6cE"
   },
   "source": [
    "## Data Selection"
   ]
  },
  {
   "cell_type": "markdown",
   "metadata": {
    "cell_id": "f35305ee6ea74cd8a0074b6a89b3ffde",
    "deepnote_app_coordinates": {
     "h": 5,
     "w": 12,
     "x": 0,
     "y": 505
    },
    "deepnote_cell_height": 168.390625,
    "deepnote_cell_type": "markdown",
    "id": "zLIBTqWoP6cF"
   },
   "source": [
    "### Task: Show the countries whose GDP is more than 5 trillion dollars\n",
    "> (Hint: the data source has US$ Million as a unit, hence you need to choose GDP > 5,000,000 unit)\n",
    "\n",
    "\n"
   ]
  },
  {
   "cell_type": "code",
   "execution_count": null,
   "metadata": {
    "cell_id": "160efefbdf7b4314952fa7e3e3c5f46e",
    "deepnote_app_coordinates": {
     "h": 5,
     "w": 12,
     "x": 0,
     "y": 511
    },
    "deepnote_app_is_code_hidden": true,
    "deepnote_cell_type": "code",
    "deepnote_to_be_reexecuted": false,
    "execution_millis": 2,
    "execution_start": 1664740595082,
    "id": "eSaq0RCcP6cF",
    "outputId": "ae8257f4-b3e3-4dcb-9b6c-b7b5d6fe5ed2",
    "source_hash": "d68225b8"
   },
   "outputs": [
    {
     "data": {
      "application/vnd.deepnote.dataframe.v3+json": {
       "column_count": 3,
       "columns": [
        {
         "dtype": "object",
         "name": "Country",
         "stats": {
          "categories": [
           {
            "count": 1,
            "name": "United States"
           },
           {
            "count": 1,
            "name": "China"
           }
          ],
          "nan_count": 0,
          "unique_count": 2
         }
        },
        {
         "dtype": "int64",
         "name": "GDP",
         "stats": {
          "histogram": [
           {
            "bin_end": 20455114.2,
            "bin_start": 19911593,
            "count": 1
           },
           {
            "bin_end": 20998635.4,
            "bin_start": 20455114.2,
            "count": 0
           },
           {
            "bin_end": 21542156.6,
            "bin_start": 20998635.4,
            "count": 0
           },
           {
            "bin_end": 22085677.8,
            "bin_start": 21542156.6,
            "count": 0
           },
           {
            "bin_end": 22629199,
            "bin_start": 22085677.8,
            "count": 0
           },
           {
            "bin_end": 23172720.2,
            "bin_start": 22629199,
            "count": 0
           },
           {
            "bin_end": 23716241.4,
            "bin_start": 23172720.2,
            "count": 0
           },
           {
            "bin_end": 24259762.6,
            "bin_start": 23716241.4,
            "count": 0
           },
           {
            "bin_end": 24803283.8,
            "bin_start": 24259762.6,
            "count": 0
           },
           {
            "bin_end": 25346805,
            "bin_start": 24803283.8,
            "count": 1
           }
          ],
          "max": "25346805",
          "min": "19911593",
          "nan_count": 0,
          "unique_count": 2
         }
        },
        {
         "dtype": "int64",
         "name": "Population",
         "stats": {
          "histogram": [
           {
            "bin_end": 442237459.4,
            "bin_start": 332943701,
            "count": 1
           },
           {
            "bin_end": 551531217.8,
            "bin_start": 442237459.4,
            "count": 0
           },
           {
            "bin_end": 660824976.2,
            "bin_start": 551531217.8,
            "count": 0
           },
           {
            "bin_end": 770118734.6,
            "bin_start": 660824976.2,
            "count": 0
           },
           {
            "bin_end": 879412493,
            "bin_start": 770118734.6,
            "count": 0
           },
           {
            "bin_end": 988706251.4000001,
            "bin_start": 879412493,
            "count": 0
           },
           {
            "bin_end": 1098000009.8000002,
            "bin_start": 988706251.4000001,
            "count": 0
           },
           {
            "bin_end": 1207293768.2,
            "bin_start": 1098000009.8000002,
            "count": 0
           },
           {
            "bin_end": 1316587526.6,
            "bin_start": 1207293768.2,
            "count": 0
           },
           {
            "bin_end": 1425881285,
            "bin_start": 1316587526.6,
            "count": 1
           }
          ],
          "max": "1425881285",
          "min": "332943701",
          "nan_count": 0,
          "unique_count": 2
         }
        },
        {
         "dtype": "int64",
         "name": "_deepnote_index_column"
        }
       ],
       "row_count": 2,
       "rows": [
        {
         "Country": "United States",
         "GDP": "25346805",
         "Population": "332943701",
         "_deepnote_index_column": "0"
        },
        {
         "Country": "China",
         "GDP": "19911593",
         "Population": "1425881285",
         "_deepnote_index_column": "1"
        }
       ]
      },
      "text/html": [
       "<div>\n",
       "<style scoped>\n",
       "    .dataframe tbody tr th:only-of-type {\n",
       "        vertical-align: middle;\n",
       "    }\n",
       "\n",
       "    .dataframe tbody tr th {\n",
       "        vertical-align: top;\n",
       "    }\n",
       "\n",
       "    .dataframe thead th {\n",
       "        text-align: right;\n",
       "    }\n",
       "</style>\n",
       "<table border=\"1\" class=\"dataframe\">\n",
       "  <thead>\n",
       "    <tr style=\"text-align: right;\">\n",
       "      <th></th>\n",
       "      <th>Country</th>\n",
       "      <th>GDP</th>\n",
       "      <th>Population</th>\n",
       "    </tr>\n",
       "  </thead>\n",
       "  <tbody>\n",
       "    <tr>\n",
       "      <th>0</th>\n",
       "      <td>United States</td>\n",
       "      <td>25346805</td>\n",
       "      <td>332943701</td>\n",
       "    </tr>\n",
       "    <tr>\n",
       "      <th>1</th>\n",
       "      <td>China</td>\n",
       "      <td>19911593</td>\n",
       "      <td>1425881285</td>\n",
       "    </tr>\n",
       "  </tbody>\n",
       "</table>\n",
       "</div>"
      ],
      "text/plain": [
       "         Country       GDP  Population\n",
       "0  United States  25346805   332943701\n",
       "1          China  19911593  1425881285"
      ]
     },
     "execution_count": 39,
     "metadata": {},
     "output_type": "execute_result"
    }
   ],
   "source": [
    "df[df['GDP'] > 5000000]"
   ]
  },
  {
   "cell_type": "markdown",
   "metadata": {
    "cell_id": "aec10d78013f43bebad785ab47d471e7",
    "deepnote_app_coordinates": {
     "h": 5,
     "w": 12,
     "x": 0,
     "y": 517
    },
    "deepnote_cell_height": 93.59375,
    "deepnote_cell_type": "markdown",
    "id": "nZQKtpxlP6cF"
   },
   "source": [
    "### Task: Show the countries whose GDP is more than 3 trillion dollars"
   ]
  },
  {
   "cell_type": "code",
   "execution_count": null,
   "metadata": {
    "cell_id": "21f3238a2c79405491b16cba36c73731",
    "deepnote_app_coordinates": {
     "h": 5,
     "w": 12,
     "x": 0,
     "y": 523
    },
    "deepnote_app_is_code_hidden": true,
    "deepnote_cell_type": "code",
    "deepnote_to_be_reexecuted": false,
    "execution_millis": 9,
    "execution_start": 1664740595086,
    "id": "4i703wXkP6cF",
    "outputId": "2a3e4cee-69ce-4e1d-9008-fac43237f04e",
    "source_hash": "322d1aba"
   },
   "outputs": [
    {
     "data": {
      "application/vnd.deepnote.dataframe.v3+json": {
       "column_count": 3,
       "columns": [
        {
         "dtype": "object",
         "name": "Country",
         "stats": {
          "categories": [
           {
            "count": 1,
            "name": "United States"
           },
           {
            "count": 1,
            "name": "China"
           },
           {
            "count": 4,
            "name": "4 others"
           }
          ],
          "nan_count": 0,
          "unique_count": 6
         }
        },
        {
         "dtype": "int64",
         "name": "GDP",
         "stats": {
          "histogram": [
           {
            "bin_end": 5573083.2,
            "bin_start": 3376003,
            "count": 4
           },
           {
            "bin_end": 7770163.4,
            "bin_start": 5573083.2,
            "count": 0
           },
           {
            "bin_end": 9967243.600000001,
            "bin_start": 7770163.4,
            "count": 0
           },
           {
            "bin_end": 12164323.8,
            "bin_start": 9967243.600000001,
            "count": 0
           },
           {
            "bin_end": 14361404,
            "bin_start": 12164323.8,
            "count": 0
           },
           {
            "bin_end": 16558484.200000001,
            "bin_start": 14361404,
            "count": 0
           },
           {
            "bin_end": 18755564.400000002,
            "bin_start": 16558484.200000001,
            "count": 0
           },
           {
            "bin_end": 20952644.6,
            "bin_start": 18755564.400000002,
            "count": 1
           },
           {
            "bin_end": 23149724.8,
            "bin_start": 20952644.6,
            "count": 0
           },
           {
            "bin_end": 25346805,
            "bin_start": 23149724.8,
            "count": 1
           }
          ],
          "max": "25346805",
          "min": "3376003",
          "nan_count": 0,
          "unique_count": 6
         }
        },
        {
         "dtype": "int64",
         "name": "Population",
         "stats": {
          "histogram": [
           {
            "bin_end": 202961239.1,
            "bin_start": 67081234,
            "count": 3
           },
           {
            "bin_end": 338841244.2,
            "bin_start": 202961239.1,
            "count": 1
           },
           {
            "bin_end": 474721249.29999995,
            "bin_start": 338841244.2,
            "count": 0
           },
           {
            "bin_end": 610601254.4,
            "bin_start": 474721249.29999995,
            "count": 0
           },
           {
            "bin_end": 746481259.5,
            "bin_start": 610601254.4,
            "count": 0
           },
           {
            "bin_end": 882361264.5999999,
            "bin_start": 746481259.5,
            "count": 0
           },
           {
            "bin_end": 1018241269.6999999,
            "bin_start": 882361264.5999999,
            "count": 0
           },
           {
            "bin_end": 1154121274.8,
            "bin_start": 1018241269.6999999,
            "count": 0
           },
           {
            "bin_end": 1290001279.8999999,
            "bin_start": 1154121274.8,
            "count": 0
           },
           {
            "bin_end": 1425881285,
            "bin_start": 1290001279.8999999,
            "count": 2
           }
          ],
          "max": "1425881285",
          "min": "67081234",
          "nan_count": 0,
          "unique_count": 6
         }
        },
        {
         "dtype": "int64",
         "name": "_deepnote_index_column"
        }
       ],
       "row_count": 6,
       "rows": [
        {
         "Country": "United States",
         "GDP": "25346805",
         "Population": "332943701",
         "_deepnote_index_column": "0"
        },
        {
         "Country": "China",
         "GDP": "19911593",
         "Population": "1425881285",
         "_deepnote_index_column": "1"
        },
        {
         "Country": "Japan",
         "GDP": "4912147",
         "Population": "125502000",
         "_deepnote_index_column": "2"
        },
        {
         "Country": "Germany",
         "GDP": "4256540",
         "Population": "83695430",
         "_deepnote_index_column": "3"
        },
        {
         "Country": "India",
         "GDP": "3534743",
         "Population": "1417945080",
         "_deepnote_index_column": "4"
        },
        {
         "Country": "United Kingdom",
         "GDP": "3376003",
         "Population": "67081234",
         "_deepnote_index_column": "5"
        }
       ]
      },
      "text/html": [
       "<div>\n",
       "<style scoped>\n",
       "    .dataframe tbody tr th:only-of-type {\n",
       "        vertical-align: middle;\n",
       "    }\n",
       "\n",
       "    .dataframe tbody tr th {\n",
       "        vertical-align: top;\n",
       "    }\n",
       "\n",
       "    .dataframe thead th {\n",
       "        text-align: right;\n",
       "    }\n",
       "</style>\n",
       "<table border=\"1\" class=\"dataframe\">\n",
       "  <thead>\n",
       "    <tr style=\"text-align: right;\">\n",
       "      <th></th>\n",
       "      <th>Country</th>\n",
       "      <th>GDP</th>\n",
       "      <th>Population</th>\n",
       "    </tr>\n",
       "  </thead>\n",
       "  <tbody>\n",
       "    <tr>\n",
       "      <th>0</th>\n",
       "      <td>United States</td>\n",
       "      <td>25346805</td>\n",
       "      <td>332943701</td>\n",
       "    </tr>\n",
       "    <tr>\n",
       "      <th>1</th>\n",
       "      <td>China</td>\n",
       "      <td>19911593</td>\n",
       "      <td>1425881285</td>\n",
       "    </tr>\n",
       "    <tr>\n",
       "      <th>2</th>\n",
       "      <td>Japan</td>\n",
       "      <td>4912147</td>\n",
       "      <td>125502000</td>\n",
       "    </tr>\n",
       "    <tr>\n",
       "      <th>3</th>\n",
       "      <td>Germany</td>\n",
       "      <td>4256540</td>\n",
       "      <td>83695430</td>\n",
       "    </tr>\n",
       "    <tr>\n",
       "      <th>4</th>\n",
       "      <td>India</td>\n",
       "      <td>3534743</td>\n",
       "      <td>1417945080</td>\n",
       "    </tr>\n",
       "    <tr>\n",
       "      <th>5</th>\n",
       "      <td>United Kingdom</td>\n",
       "      <td>3376003</td>\n",
       "      <td>67081234</td>\n",
       "    </tr>\n",
       "  </tbody>\n",
       "</table>\n",
       "</div>"
      ],
      "text/plain": [
       "          Country       GDP  Population\n",
       "0   United States  25346805   332943701\n",
       "1           China  19911593  1425881285\n",
       "2           Japan   4912147   125502000\n",
       "3         Germany   4256540    83695430\n",
       "4           India   3534743  1417945080\n",
       "5  United Kingdom   3376003    67081234"
      ]
     },
     "execution_count": 40,
     "metadata": {},
     "output_type": "execute_result"
    }
   ],
   "source": [
    "df[df['GDP'] > 3000000]"
   ]
  },
  {
   "cell_type": "markdown",
   "metadata": {
    "cell_id": "4c0bf8084ba14ca7b61d9dbe97ff2445",
    "deepnote_app_coordinates": {
     "h": 5,
     "w": 12,
     "x": 0,
     "y": 529
    },
    "deepnote_cell_height": 93.59375,
    "deepnote_cell_type": "markdown",
    "id": "GAK2A9r7P6cF"
   },
   "source": [
    "### Task: Show the countries whose pupulation is more than 1 billion"
   ]
  },
  {
   "cell_type": "code",
   "execution_count": null,
   "metadata": {
    "cell_id": "a378a1d541e24ab8938ba608d2f0f644",
    "deepnote_app_coordinates": {
     "h": 5,
     "w": 12,
     "x": 0,
     "y": 535
    },
    "deepnote_app_is_code_hidden": true,
    "deepnote_cell_type": "code",
    "deepnote_to_be_reexecuted": false,
    "execution_millis": 12,
    "execution_start": 1664740595095,
    "id": "ZLHrhaEeP6cF",
    "outputId": "3504ed7d-aaa5-4c0f-d414-3929c2eee1d2",
    "source_hash": "b217f4fa"
   },
   "outputs": [
    {
     "data": {
      "application/vnd.deepnote.dataframe.v3+json": {
       "column_count": 3,
       "columns": [
        {
         "dtype": "object",
         "name": "Country",
         "stats": {
          "categories": [
           {
            "count": 1,
            "name": "China"
           },
           {
            "count": 1,
            "name": "India"
           }
          ],
          "nan_count": 0,
          "unique_count": 2
         }
        },
        {
         "dtype": "int64",
         "name": "GDP",
         "stats": {
          "histogram": [
           {
            "bin_end": 5172428,
            "bin_start": 3534743,
            "count": 1
           },
           {
            "bin_end": 6810113,
            "bin_start": 5172428,
            "count": 0
           },
           {
            "bin_end": 8447798,
            "bin_start": 6810113,
            "count": 0
           },
           {
            "bin_end": 10085483,
            "bin_start": 8447798,
            "count": 0
           },
           {
            "bin_end": 11723168,
            "bin_start": 10085483,
            "count": 0
           },
           {
            "bin_end": 13360853,
            "bin_start": 11723168,
            "count": 0
           },
           {
            "bin_end": 14998538,
            "bin_start": 13360853,
            "count": 0
           },
           {
            "bin_end": 16636223,
            "bin_start": 14998538,
            "count": 0
           },
           {
            "bin_end": 18273908,
            "bin_start": 16636223,
            "count": 0
           },
           {
            "bin_end": 19911593,
            "bin_start": 18273908,
            "count": 1
           }
          ],
          "max": "19911593",
          "min": "3534743",
          "nan_count": 0,
          "unique_count": 2
         }
        },
        {
         "dtype": "int64",
         "name": "Population",
         "stats": {
          "histogram": [
           {
            "bin_end": 1418738700.5,
            "bin_start": 1417945080,
            "count": 1
           },
           {
            "bin_end": 1419532321,
            "bin_start": 1418738700.5,
            "count": 0
           },
           {
            "bin_end": 1420325941.5,
            "bin_start": 1419532321,
            "count": 0
           },
           {
            "bin_end": 1421119562,
            "bin_start": 1420325941.5,
            "count": 0
           },
           {
            "bin_end": 1421913182.5,
            "bin_start": 1421119562,
            "count": 0
           },
           {
            "bin_end": 1422706803,
            "bin_start": 1421913182.5,
            "count": 0
           },
           {
            "bin_end": 1423500423.5,
            "bin_start": 1422706803,
            "count": 0
           },
           {
            "bin_end": 1424294044,
            "bin_start": 1423500423.5,
            "count": 0
           },
           {
            "bin_end": 1425087664.5,
            "bin_start": 1424294044,
            "count": 0
           },
           {
            "bin_end": 1425881285,
            "bin_start": 1425087664.5,
            "count": 1
           }
          ],
          "max": "1425881285",
          "min": "1417945080",
          "nan_count": 0,
          "unique_count": 2
         }
        },
        {
         "dtype": "int64",
         "name": "_deepnote_index_column"
        }
       ],
       "row_count": 2,
       "rows": [
        {
         "Country": "China",
         "GDP": "19911593",
         "Population": "1425881285",
         "_deepnote_index_column": "1"
        },
        {
         "Country": "India",
         "GDP": "3534743",
         "Population": "1417945080",
         "_deepnote_index_column": "4"
        }
       ]
      },
      "text/html": [
       "<div>\n",
       "<style scoped>\n",
       "    .dataframe tbody tr th:only-of-type {\n",
       "        vertical-align: middle;\n",
       "    }\n",
       "\n",
       "    .dataframe tbody tr th {\n",
       "        vertical-align: top;\n",
       "    }\n",
       "\n",
       "    .dataframe thead th {\n",
       "        text-align: right;\n",
       "    }\n",
       "</style>\n",
       "<table border=\"1\" class=\"dataframe\">\n",
       "  <thead>\n",
       "    <tr style=\"text-align: right;\">\n",
       "      <th></th>\n",
       "      <th>Country</th>\n",
       "      <th>GDP</th>\n",
       "      <th>Population</th>\n",
       "    </tr>\n",
       "  </thead>\n",
       "  <tbody>\n",
       "    <tr>\n",
       "      <th>1</th>\n",
       "      <td>China</td>\n",
       "      <td>19911593</td>\n",
       "      <td>1425881285</td>\n",
       "    </tr>\n",
       "    <tr>\n",
       "      <th>4</th>\n",
       "      <td>India</td>\n",
       "      <td>3534743</td>\n",
       "      <td>1417945080</td>\n",
       "    </tr>\n",
       "  </tbody>\n",
       "</table>\n",
       "</div>"
      ],
      "text/plain": [
       "  Country       GDP  Population\n",
       "1   China  19911593  1425881285\n",
       "4   India   3534743  1417945080"
      ]
     },
     "execution_count": 41,
     "metadata": {},
     "output_type": "execute_result"
    }
   ],
   "source": [
    "df[df['Population'] > 1000000000]"
   ]
  },
  {
   "cell_type": "markdown",
   "metadata": {
    "cell_id": "61dbd16a834144139636331100ddeb5c",
    "deepnote_app_coordinates": {
     "h": 5,
     "w": 12,
     "x": 0,
     "y": 541
    },
    "deepnote_cell_height": 93.59375,
    "deepnote_cell_type": "markdown",
    "id": "yymM4GIQP6cG"
   },
   "source": [
    "### Task: Show the countries whose pupulation is less than 300 million"
   ]
  },
  {
   "cell_type": "code",
   "execution_count": null,
   "metadata": {
    "cell_id": "34a57a88830e40889314151a34d48c70",
    "deepnote_app_coordinates": {
     "h": 5,
     "w": 12,
     "x": 0,
     "y": 547
    },
    "deepnote_app_is_code_hidden": true,
    "deepnote_cell_type": "code",
    "deepnote_to_be_reexecuted": false,
    "execution_millis": 47,
    "execution_start": 1664740595109,
    "id": "TvjRcKORP6cG",
    "outputId": "1e44f6a4-6a39-475b-e6ae-663a5af6dbc5",
    "source_hash": "5d23be5b"
   },
   "outputs": [
    {
     "data": {
      "application/vnd.deepnote.dataframe.v3+json": {
       "column_count": 3,
       "columns": [
        {
         "dtype": "object",
         "name": "Country",
         "stats": {
          "categories": [
           {
            "count": 1,
            "name": "Japan"
           },
           {
            "count": 1,
            "name": "Germany"
           },
           {
            "count": 5,
            "name": "5 others"
           }
          ],
          "nan_count": 0,
          "unique_count": 7
         }
        },
        {
         "dtype": "int64",
         "name": "GDP",
         "stats": {
          "histogram": [
           {
            "bin_end": 2141161.3,
            "bin_start": 1833274,
            "count": 2
           },
           {
            "bin_end": 2449048.6,
            "bin_start": 2141161.3,
            "count": 1
           },
           {
            "bin_end": 2756935.9,
            "bin_start": 2449048.6,
            "count": 0
           },
           {
            "bin_end": 3064823.2,
            "bin_start": 2756935.9,
            "count": 1
           },
           {
            "bin_end": 3372710.5,
            "bin_start": 3064823.2,
            "count": 0
           },
           {
            "bin_end": 3680597.8,
            "bin_start": 3372710.5,
            "count": 1
           },
           {
            "bin_end": 3988485.1,
            "bin_start": 3680597.8,
            "count": 0
           },
           {
            "bin_end": 4296372.4,
            "bin_start": 3988485.1,
            "count": 1
           },
           {
            "bin_end": 4604259.699999999,
            "bin_start": 4296372.4,
            "count": 0
           },
           {
            "bin_end": 4912147,
            "bin_start": 4604259.699999999,
            "count": 1
           }
          ],
          "max": "4912147",
          "min": "1833274",
          "nan_count": 0,
          "unique_count": 7
         }
        },
        {
         "dtype": "int64",
         "name": "Population",
         "stats": {
          "histogram": [
           {
            "bin_end": 56466823.4,
            "bin_start": 38856839,
            "count": 1
           },
           {
            "bin_end": 74076807.8,
            "bin_start": 56466823.4,
            "count": 3
           },
           {
            "bin_end": 91686792.19999999,
            "bin_start": 74076807.8,
            "count": 1
           },
           {
            "bin_end": 109296776.6,
            "bin_start": 91686792.19999999,
            "count": 0
           },
           {
            "bin_end": 126906761,
            "bin_start": 109296776.6,
            "count": 1
           },
           {
            "bin_end": 144516745.39999998,
            "bin_start": 126906761,
            "count": 0
           },
           {
            "bin_end": 162126729.79999998,
            "bin_start": 144516745.39999998,
            "count": 0
           },
           {
            "bin_end": 179736714.2,
            "bin_start": 162126729.79999998,
            "count": 0
           },
           {
            "bin_end": 197346698.6,
            "bin_start": 179736714.2,
            "count": 0
           },
           {
            "bin_end": 214956683,
            "bin_start": 197346698.6,
            "count": 1
           }
          ],
          "max": "214956683",
          "min": "38856839",
          "nan_count": 0,
          "unique_count": 7
         }
        },
        {
         "dtype": "int64",
         "name": "_deepnote_index_column"
        }
       ],
       "row_count": 7,
       "rows": [
        {
         "Country": "Japan",
         "GDP": "4912147",
         "Population": "125502000",
         "_deepnote_index_column": "2"
        },
        {
         "Country": "Germany",
         "GDP": "4256540",
         "Population": "83695430",
         "_deepnote_index_column": "3"
        },
        {
         "Country": "United Kingdom",
         "GDP": "3376003",
         "Population": "67081234",
         "_deepnote_index_column": "5"
        },
        {
         "Country": "France",
         "GDP": "2936702",
         "Population": "67874000",
         "_deepnote_index_column": "6"
        },
        {
         "Country": "Canada",
         "GDP": "2221218",
         "Population": "38856839",
         "_deepnote_index_column": "7"
        },
        {
         "Country": "Italy",
         "GDP": "2058330",
         "Population": "58906742",
         "_deepnote_index_column": "8"
        },
        {
         "Country": "Brazil",
         "GDP": "1833274",
         "Population": "214956683",
         "_deepnote_index_column": "9"
        }
       ]
      },
      "text/html": [
       "<div>\n",
       "<style scoped>\n",
       "    .dataframe tbody tr th:only-of-type {\n",
       "        vertical-align: middle;\n",
       "    }\n",
       "\n",
       "    .dataframe tbody tr th {\n",
       "        vertical-align: top;\n",
       "    }\n",
       "\n",
       "    .dataframe thead th {\n",
       "        text-align: right;\n",
       "    }\n",
       "</style>\n",
       "<table border=\"1\" class=\"dataframe\">\n",
       "  <thead>\n",
       "    <tr style=\"text-align: right;\">\n",
       "      <th></th>\n",
       "      <th>Country</th>\n",
       "      <th>GDP</th>\n",
       "      <th>Population</th>\n",
       "    </tr>\n",
       "  </thead>\n",
       "  <tbody>\n",
       "    <tr>\n",
       "      <th>2</th>\n",
       "      <td>Japan</td>\n",
       "      <td>4912147</td>\n",
       "      <td>125502000</td>\n",
       "    </tr>\n",
       "    <tr>\n",
       "      <th>3</th>\n",
       "      <td>Germany</td>\n",
       "      <td>4256540</td>\n",
       "      <td>83695430</td>\n",
       "    </tr>\n",
       "    <tr>\n",
       "      <th>5</th>\n",
       "      <td>United Kingdom</td>\n",
       "      <td>3376003</td>\n",
       "      <td>67081234</td>\n",
       "    </tr>\n",
       "    <tr>\n",
       "      <th>6</th>\n",
       "      <td>France</td>\n",
       "      <td>2936702</td>\n",
       "      <td>67874000</td>\n",
       "    </tr>\n",
       "    <tr>\n",
       "      <th>7</th>\n",
       "      <td>Canada</td>\n",
       "      <td>2221218</td>\n",
       "      <td>38856839</td>\n",
       "    </tr>\n",
       "    <tr>\n",
       "      <th>8</th>\n",
       "      <td>Italy</td>\n",
       "      <td>2058330</td>\n",
       "      <td>58906742</td>\n",
       "    </tr>\n",
       "    <tr>\n",
       "      <th>9</th>\n",
       "      <td>Brazil</td>\n",
       "      <td>1833274</td>\n",
       "      <td>214956683</td>\n",
       "    </tr>\n",
       "  </tbody>\n",
       "</table>\n",
       "</div>"
      ],
      "text/plain": [
       "          Country      GDP  Population\n",
       "2           Japan  4912147   125502000\n",
       "3         Germany  4256540    83695430\n",
       "5  United Kingdom  3376003    67081234\n",
       "6          France  2936702    67874000\n",
       "7          Canada  2221218    38856839\n",
       "8           Italy  2058330    58906742\n",
       "9          Brazil  1833274   214956683"
      ]
     },
     "execution_count": 42,
     "metadata": {},
     "output_type": "execute_result"
    }
   ],
   "source": [
    "df[df['Population'] < 300000000]"
   ]
  },
  {
   "cell_type": "markdown",
   "metadata": {
    "cell_id": "817ad486d40244dfab41fa869a598ee2",
    "deepnote_app_coordinates": {
     "h": 5,
     "w": 12,
     "x": 0,
     "y": 553
    },
    "deepnote_cell_height": 93.59375,
    "deepnote_cell_type": "markdown",
    "id": "hY-CcAlYP6cG"
   },
   "source": [
    "### Task: Show the countries whose pupulation is between 300 million and 500 million"
   ]
  },
  {
   "cell_type": "code",
   "execution_count": null,
   "metadata": {
    "cell_id": "05819401781a405f847951ff3a0aba6b",
    "deepnote_app_coordinates": {
     "h": 5,
     "w": 12,
     "x": 0,
     "y": 559
    },
    "deepnote_app_is_code_hidden": true,
    "deepnote_cell_type": "code",
    "deepnote_to_be_reexecuted": false,
    "execution_millis": 16,
    "execution_start": 1664740595150,
    "id": "H_k7GpbeP6cG",
    "outputId": "de17a72e-a9b4-4818-fe2f-d36f8bbff5bf",
    "source_hash": "2f05f761"
   },
   "outputs": [
    {
     "data": {
      "application/vnd.deepnote.dataframe.v3+json": {
       "column_count": 3,
       "columns": [
        {
         "dtype": "object",
         "name": "Country",
         "stats": {
          "categories": [
           {
            "count": 1,
            "name": "United States"
           }
          ],
          "nan_count": 0,
          "unique_count": 1
         }
        },
        {
         "dtype": "int64",
         "name": "GDP",
         "stats": {
          "histogram": [
           {
            "bin_end": 25346804.6,
            "bin_start": 25346804.5,
            "count": 0
           },
           {
            "bin_end": 25346804.7,
            "bin_start": 25346804.6,
            "count": 0
           },
           {
            "bin_end": 25346804.8,
            "bin_start": 25346804.7,
            "count": 0
           },
           {
            "bin_end": 25346804.9,
            "bin_start": 25346804.8,
            "count": 0
           },
           {
            "bin_end": 25346805,
            "bin_start": 25346804.9,
            "count": 0
           },
           {
            "bin_end": 25346805.1,
            "bin_start": 25346805,
            "count": 1
           },
           {
            "bin_end": 25346805.2,
            "bin_start": 25346805.1,
            "count": 0
           },
           {
            "bin_end": 25346805.3,
            "bin_start": 25346805.2,
            "count": 0
           },
           {
            "bin_end": 25346805.4,
            "bin_start": 25346805.3,
            "count": 0
           },
           {
            "bin_end": 25346805.5,
            "bin_start": 25346805.4,
            "count": 0
           }
          ],
          "max": "25346805",
          "min": "25346805",
          "nan_count": 0,
          "unique_count": 1
         }
        },
        {
         "dtype": "int64",
         "name": "Population",
         "stats": {
          "histogram": [
           {
            "bin_end": 332943700.6,
            "bin_start": 332943700.5,
            "count": 0
           },
           {
            "bin_end": 332943700.7,
            "bin_start": 332943700.6,
            "count": 0
           },
           {
            "bin_end": 332943700.8,
            "bin_start": 332943700.7,
            "count": 0
           },
           {
            "bin_end": 332943700.9,
            "bin_start": 332943700.8,
            "count": 0
           },
           {
            "bin_end": 332943701,
            "bin_start": 332943700.9,
            "count": 0
           },
           {
            "bin_end": 332943701.1,
            "bin_start": 332943701,
            "count": 1
           },
           {
            "bin_end": 332943701.2,
            "bin_start": 332943701.1,
            "count": 0
           },
           {
            "bin_end": 332943701.3,
            "bin_start": 332943701.2,
            "count": 0
           },
           {
            "bin_end": 332943701.4,
            "bin_start": 332943701.3,
            "count": 0
           },
           {
            "bin_end": 332943701.5,
            "bin_start": 332943701.4,
            "count": 0
           }
          ],
          "max": "332943701",
          "min": "332943701",
          "nan_count": 0,
          "unique_count": 1
         }
        },
        {
         "dtype": "int64",
         "name": "_deepnote_index_column"
        }
       ],
       "row_count": 1,
       "rows": [
        {
         "Country": "United States",
         "GDP": "25346805",
         "Population": "332943701",
         "_deepnote_index_column": "0"
        }
       ]
      },
      "text/html": [
       "<div>\n",
       "<style scoped>\n",
       "    .dataframe tbody tr th:only-of-type {\n",
       "        vertical-align: middle;\n",
       "    }\n",
       "\n",
       "    .dataframe tbody tr th {\n",
       "        vertical-align: top;\n",
       "    }\n",
       "\n",
       "    .dataframe thead th {\n",
       "        text-align: right;\n",
       "    }\n",
       "</style>\n",
       "<table border=\"1\" class=\"dataframe\">\n",
       "  <thead>\n",
       "    <tr style=\"text-align: right;\">\n",
       "      <th></th>\n",
       "      <th>Country</th>\n",
       "      <th>GDP</th>\n",
       "      <th>Population</th>\n",
       "    </tr>\n",
       "  </thead>\n",
       "  <tbody>\n",
       "    <tr>\n",
       "      <th>0</th>\n",
       "      <td>United States</td>\n",
       "      <td>25346805</td>\n",
       "      <td>332943701</td>\n",
       "    </tr>\n",
       "  </tbody>\n",
       "</table>\n",
       "</div>"
      ],
      "text/plain": [
       "         Country       GDP  Population\n",
       "0  United States  25346805   332943701"
      ]
     },
     "execution_count": 43,
     "metadata": {},
     "output_type": "execute_result"
    }
   ],
   "source": [
    "df[(df['Population'] > 300000000) & (df['Population'] < 500000000)]"
   ]
  },
  {
   "cell_type": "markdown",
   "metadata": {
    "cell_id": "ccaa3c6165a34760875af8c9a39054f9",
    "deepnote_app_coordinates": {
     "h": 5,
     "w": 12,
     "x": 0,
     "y": 565
    },
    "deepnote_cell_height": 69.59375,
    "deepnote_cell_type": "markdown",
    "id": "xhrKegkYP6cG"
   },
   "source": [
    "## Data Manipulation"
   ]
  },
  {
   "cell_type": "markdown",
   "metadata": {
    "cell_id": "5af8fd8bc0c74b33bf8cb630dba236a4",
    "deepnote_app_coordinates": {
     "h": 5,
     "w": 12,
     "x": 0,
     "y": 571
    },
    "deepnote_cell_height": 125.59375,
    "deepnote_cell_type": "markdown",
    "id": "N_u4K8VXP6cG"
   },
   "source": [
    "### Task: Create a new column, called \"GDP per capita\", based on the column \"GDP\" and the column \"Population\""
   ]
  },
  {
   "cell_type": "code",
   "execution_count": null,
   "metadata": {
    "cell_id": "4e1742aad19d4f9c878231aa7604543f",
    "deepnote_app_coordinates": {
     "h": 5,
     "w": 12,
     "x": 0,
     "y": 577
    },
    "deepnote_app_is_code_hidden": true,
    "deepnote_cell_type": "code",
    "deepnote_to_be_reexecuted": false,
    "execution_millis": 6,
    "execution_start": 1664740595164,
    "id": "M6FWNO46P6cG",
    "outputId": "1fabe913-52c7-4d6c-8fde-04a485e5c3a4",
    "source_hash": "e235224e"
   },
   "outputs": [
    {
     "data": {
      "application/vnd.deepnote.dataframe.v3+json": {
       "column_count": 4,
       "columns": [
        {
         "dtype": "object",
         "name": "Country",
         "stats": {
          "categories": [
           {
            "count": 1,
            "name": "United States"
           },
           {
            "count": 1,
            "name": "China"
           },
           {
            "count": 8,
            "name": "8 others"
           }
          ],
          "nan_count": 0,
          "unique_count": 10
         }
        },
        {
         "dtype": "int64",
         "name": "GDP",
         "stats": {
          "histogram": [
           {
            "bin_end": 4184627.1,
            "bin_start": 1833274,
            "count": 6
           },
           {
            "bin_end": 6535980.2,
            "bin_start": 4184627.1,
            "count": 2
           },
           {
            "bin_end": 8887333.3,
            "bin_start": 6535980.2,
            "count": 0
           },
           {
            "bin_end": 11238686.4,
            "bin_start": 8887333.3,
            "count": 0
           },
           {
            "bin_end": 13590039.5,
            "bin_start": 11238686.4,
            "count": 0
           },
           {
            "bin_end": 15941392.600000001,
            "bin_start": 13590039.5,
            "count": 0
           },
           {
            "bin_end": 18292745.700000003,
            "bin_start": 15941392.600000001,
            "count": 0
           },
           {
            "bin_end": 20644098.8,
            "bin_start": 18292745.700000003,
            "count": 1
           },
           {
            "bin_end": 22995451.900000002,
            "bin_start": 20644098.8,
            "count": 0
           },
           {
            "bin_end": 25346805,
            "bin_start": 22995451.900000002,
            "count": 1
           }
          ],
          "max": "25346805",
          "min": "1833274",
          "nan_count": 0,
          "unique_count": 10
         }
        },
        {
         "dtype": "int64",
         "name": "Population",
         "stats": {
          "histogram": [
           {
            "bin_end": 177559283.6,
            "bin_start": 38856839,
            "count": 6
           },
           {
            "bin_end": 316261728.2,
            "bin_start": 177559283.6,
            "count": 1
           },
           {
            "bin_end": 454964172.79999995,
            "bin_start": 316261728.2,
            "count": 1
           },
           {
            "bin_end": 593666617.4,
            "bin_start": 454964172.79999995,
            "count": 0
           },
           {
            "bin_end": 732369062,
            "bin_start": 593666617.4,
            "count": 0
           },
           {
            "bin_end": 871071506.5999999,
            "bin_start": 732369062,
            "count": 0
           },
           {
            "bin_end": 1009773951.1999999,
            "bin_start": 871071506.5999999,
            "count": 0
           },
           {
            "bin_end": 1148476395.8,
            "bin_start": 1009773951.1999999,
            "count": 0
           },
           {
            "bin_end": 1287178840.3999999,
            "bin_start": 1148476395.8,
            "count": 0
           },
           {
            "bin_end": 1425881285,
            "bin_start": 1287178840.3999999,
            "count": 2
           }
          ],
          "max": "1425881285",
          "min": "38856839",
          "nan_count": 0,
          "unique_count": 10
         }
        },
        {
         "dtype": "float64",
         "name": "GDP per capita",
         "stats": {
          "histogram": [
           {
            "bin_end": 0.009856517053475573,
            "bin_start": 0.002492863122738153,
            "count": 2
           },
           {
            "bin_end": 0.017220170984212992,
            "bin_start": 0.009856517053475573,
            "count": 1
           },
           {
            "bin_end": 0.024583824914950415,
            "bin_start": 0.017220170984212992,
            "count": 0
           },
           {
            "bin_end": 0.031947478845687834,
            "bin_start": 0.024583824914950415,
            "count": 0
           },
           {
            "bin_end": 0.03931113277642525,
            "bin_start": 0.031947478845687834,
            "count": 2
           },
           {
            "bin_end": 0.04667478670716267,
            "bin_start": 0.03931113277642525,
            "count": 1
           },
           {
            "bin_end": 0.05403844063790009,
            "bin_start": 0.04667478670716267,
            "count": 2
           },
           {
            "bin_end": 0.06140209456863751,
            "bin_start": 0.05403844063790009,
            "count": 1
           },
           {
            "bin_end": 0.06876574849937493,
            "bin_start": 0.06140209456863751,
            "count": 0
           },
           {
            "bin_end": 0.07612940243011235,
            "bin_start": 0.06876574849937493,
            "count": 1
           }
          ],
          "max": "0.07612940243011235",
          "min": "0.002492863122738153",
          "nan_count": 0,
          "unique_count": 10
         }
        },
        {
         "dtype": "int64",
         "name": "_deepnote_index_column"
        }
       ],
       "row_count": 10,
       "rows": [
        {
         "Country": "United States",
         "GDP": "25346805",
         "GDP per capita": "0.07612940243011235",
         "Population": "332943701",
         "_deepnote_index_column": "0"
        },
        {
         "Country": "China",
         "GDP": "19911593",
         "GDP per capita": "0.013964411490259513",
         "Population": "1425881285",
         "_deepnote_index_column": "1"
        },
        {
         "Country": "Japan",
         "GDP": "4912147",
         "GDP per capita": "0.03913998980095935",
         "Population": "125502000",
         "_deepnote_index_column": "2"
        },
        {
         "Country": "Germany",
         "GDP": "4256540",
         "GDP per capita": "0.05085749604249599",
         "Population": "83695430",
         "_deepnote_index_column": "3"
        },
        {
         "Country": "India",
         "GDP": "3534743",
         "GDP per capita": "0.002492863122738153",
         "Population": "1417945080",
         "_deepnote_index_column": "4"
        },
        {
         "Country": "United Kingdom",
         "GDP": "3376003",
         "GDP per capita": "0.050327085515451314",
         "Population": "67081234",
         "_deepnote_index_column": "5"
        },
        {
         "Country": "France",
         "GDP": "2936702",
         "GDP per capita": "0.04326696525915667",
         "Population": "67874000",
         "_deepnote_index_column": "6"
        },
        {
         "Country": "Canada",
         "GDP": "2221218",
         "GDP per capita": "0.05716414554462343",
         "Population": "38856839",
         "_deepnote_index_column": "7"
        },
        {
         "Country": "Italy",
         "GDP": "2058330",
         "GDP per capita": "0.034942180302553486",
         "Population": "58906742",
         "_deepnote_index_column": "8"
        },
        {
         "Country": "Brazil",
         "GDP": "1833274",
         "GDP per capita": "0.00852857410346251",
         "Population": "214956683",
         "_deepnote_index_column": "9"
        }
       ]
      },
      "text/html": [
       "<div>\n",
       "<style scoped>\n",
       "    .dataframe tbody tr th:only-of-type {\n",
       "        vertical-align: middle;\n",
       "    }\n",
       "\n",
       "    .dataframe tbody tr th {\n",
       "        vertical-align: top;\n",
       "    }\n",
       "\n",
       "    .dataframe thead th {\n",
       "        text-align: right;\n",
       "    }\n",
       "</style>\n",
       "<table border=\"1\" class=\"dataframe\">\n",
       "  <thead>\n",
       "    <tr style=\"text-align: right;\">\n",
       "      <th></th>\n",
       "      <th>Country</th>\n",
       "      <th>GDP</th>\n",
       "      <th>Population</th>\n",
       "      <th>GDP per capita</th>\n",
       "    </tr>\n",
       "  </thead>\n",
       "  <tbody>\n",
       "    <tr>\n",
       "      <th>0</th>\n",
       "      <td>United States</td>\n",
       "      <td>25346805</td>\n",
       "      <td>332943701</td>\n",
       "      <td>0.076129</td>\n",
       "    </tr>\n",
       "    <tr>\n",
       "      <th>1</th>\n",
       "      <td>China</td>\n",
       "      <td>19911593</td>\n",
       "      <td>1425881285</td>\n",
       "      <td>0.013964</td>\n",
       "    </tr>\n",
       "    <tr>\n",
       "      <th>2</th>\n",
       "      <td>Japan</td>\n",
       "      <td>4912147</td>\n",
       "      <td>125502000</td>\n",
       "      <td>0.039140</td>\n",
       "    </tr>\n",
       "    <tr>\n",
       "      <th>3</th>\n",
       "      <td>Germany</td>\n",
       "      <td>4256540</td>\n",
       "      <td>83695430</td>\n",
       "      <td>0.050857</td>\n",
       "    </tr>\n",
       "    <tr>\n",
       "      <th>4</th>\n",
       "      <td>India</td>\n",
       "      <td>3534743</td>\n",
       "      <td>1417945080</td>\n",
       "      <td>0.002493</td>\n",
       "    </tr>\n",
       "    <tr>\n",
       "      <th>5</th>\n",
       "      <td>United Kingdom</td>\n",
       "      <td>3376003</td>\n",
       "      <td>67081234</td>\n",
       "      <td>0.050327</td>\n",
       "    </tr>\n",
       "    <tr>\n",
       "      <th>6</th>\n",
       "      <td>France</td>\n",
       "      <td>2936702</td>\n",
       "      <td>67874000</td>\n",
       "      <td>0.043267</td>\n",
       "    </tr>\n",
       "    <tr>\n",
       "      <th>7</th>\n",
       "      <td>Canada</td>\n",
       "      <td>2221218</td>\n",
       "      <td>38856839</td>\n",
       "      <td>0.057164</td>\n",
       "    </tr>\n",
       "    <tr>\n",
       "      <th>8</th>\n",
       "      <td>Italy</td>\n",
       "      <td>2058330</td>\n",
       "      <td>58906742</td>\n",
       "      <td>0.034942</td>\n",
       "    </tr>\n",
       "    <tr>\n",
       "      <th>9</th>\n",
       "      <td>Brazil</td>\n",
       "      <td>1833274</td>\n",
       "      <td>214956683</td>\n",
       "      <td>0.008529</td>\n",
       "    </tr>\n",
       "  </tbody>\n",
       "</table>\n",
       "</div>"
      ],
      "text/plain": [
       "          Country       GDP  Population  GDP per capita\n",
       "0   United States  25346805   332943701        0.076129\n",
       "1           China  19911593  1425881285        0.013964\n",
       "2           Japan   4912147   125502000        0.039140\n",
       "3         Germany   4256540    83695430        0.050857\n",
       "4           India   3534743  1417945080        0.002493\n",
       "5  United Kingdom   3376003    67081234        0.050327\n",
       "6          France   2936702    67874000        0.043267\n",
       "7          Canada   2221218    38856839        0.057164\n",
       "8           Italy   2058330    58906742        0.034942\n",
       "9          Brazil   1833274   214956683        0.008529"
      ]
     },
     "execution_count": 44,
     "metadata": {},
     "output_type": "execute_result"
    }
   ],
   "source": [
    "df['GDP per capita'] = df['GDP'] / df['Population']\n",
    "df"
   ]
  },
  {
   "cell_type": "markdown",
   "metadata": {
    "cell_id": "47d96a9b5b0b4cbaad0424acb7715c0e",
    "deepnote_app_coordinates": {
     "h": 5,
     "w": 12,
     "x": 0,
     "y": 583
    },
    "deepnote_cell_height": 69.59375,
    "deepnote_cell_type": "markdown",
    "id": "JAUUqFVHP6cG"
   },
   "source": [
    "## Data Understanding"
   ]
  },
  {
   "cell_type": "markdown",
   "metadata": {
    "cell_id": "0541ef19aa11418194fe46f20a0967ff",
    "deepnote_app_coordinates": {
     "h": 5,
     "w": 12,
     "x": 0,
     "y": 589
    },
    "deepnote_cell_height": 425.390625,
    "deepnote_cell_type": "markdown",
    "id": "WVUmFsR6P6cH"
   },
   "source": [
    "### Task: With the three numeric columns, show the statsitics of each:\n",
    "\n",
    "\n",
    "1.   Count\n",
    "1.   Max\n",
    "1.   Min\n",
    "1.   Mean\n",
    "1.   Median\n",
    "1.   Quantiles\n",
    "1.   25% Quantile\n",
    "1.   50% Quantile\n",
    "1.   75% QUantile\n",
    "1.   Variance\n",
    "1.   Std\n",
    "1.   Total\n",
    "\n",
    "\n"
   ]
  },
  {
   "cell_type": "code",
   "execution_count": null,
   "metadata": {
    "cell_id": "d95e2d34cf5e46598d8191b50133fc56",
    "deepnote_app_coordinates": {
     "h": 5,
     "w": 12,
     "x": 0,
     "y": 595
    },
    "deepnote_app_is_code_hidden": true,
    "deepnote_cell_type": "code",
    "deepnote_to_be_reexecuted": false,
    "execution_millis": 25,
    "execution_start": 1664740595172,
    "id": "dWBRXImGP6cH",
    "outputId": "44c6c7f9-953c-4ac9-a363-96442c13f94a",
    "source_hash": "f88152d9"
   },
   "outputs": [
    {
     "data": {
      "application/vnd.deepnote.dataframe.v3+json": {
       "column_count": 3,
       "columns": [
        {
         "dtype": "float64",
         "name": "GDP",
         "stats": {
          "histogram": [
           {
            "bin_end": 2534689.5,
            "bin_start": 10,
            "count": 3
           },
           {
            "bin_end": 5069369,
            "bin_start": 2534689.5,
            "count": 2
           },
           {
            "bin_end": 7604048.5,
            "bin_start": 5069369,
            "count": 1
           },
           {
            "bin_end": 10138728,
            "bin_start": 7604048.5,
            "count": 1
           },
           {
            "bin_end": 12673407.5,
            "bin_start": 10138728,
            "count": 0
           },
           {
            "bin_end": 15208087,
            "bin_start": 12673407.5,
            "count": 0
           },
           {
            "bin_end": 17742766.5,
            "bin_start": 15208087,
            "count": 0
           },
           {
            "bin_end": 20277446,
            "bin_start": 17742766.5,
            "count": 0
           },
           {
            "bin_end": 22812125.5,
            "bin_start": 20277446,
            "count": 0
           },
           {
            "bin_end": 25346805,
            "bin_start": 22812125.5,
            "count": 1
           }
          ],
          "max": "25346805.0",
          "min": "10.0",
          "nan_count": 0,
          "unique_count": 8
         }
        },
        {
         "dtype": "float64",
         "name": "Population",
         "stats": {
          "histogram": [
           {
            "bin_end": 142588137.5,
            "bin_start": 10,
            "count": 4
           },
           {
            "bin_end": 285176265,
            "bin_start": 142588137.5,
            "count": 0
           },
           {
            "bin_end": 427764392.5,
            "bin_start": 285176265,
            "count": 2
           },
           {
            "bin_end": 570352520,
            "bin_start": 427764392.5,
            "count": 1
           },
           {
            "bin_end": 712940647.5,
            "bin_start": 570352520,
            "count": 0
           },
           {
            "bin_end": 855528775,
            "bin_start": 712940647.5,
            "count": 0
           },
           {
            "bin_end": 998116902.5,
            "bin_start": 855528775,
            "count": 0
           },
           {
            "bin_end": 1140705030,
            "bin_start": 998116902.5,
            "count": 0
           },
           {
            "bin_end": 1283293157.5,
            "bin_start": 1140705030,
            "count": 0
           },
           {
            "bin_end": 1425881285,
            "bin_start": 1283293157.5,
            "count": 1
           }
          ],
          "max": "1425881285.0",
          "min": "10.0",
          "nan_count": 0,
          "unique_count": 8
         }
        },
        {
         "dtype": "float64",
         "name": "GDP per capita",
         "stats": {
          "histogram": [
           {
            "bin_end": 1.0022435768104643,
            "bin_start": 0.002492863122738153,
            "count": 7
           },
           {
            "bin_end": 2.0019942904981907,
            "bin_start": 1.0022435768104643,
            "count": 0
           },
           {
            "bin_end": 3.0017450041859166,
            "bin_start": 2.0019942904981907,
            "count": 0
           },
           {
            "bin_end": 4.0014957178736426,
            "bin_start": 3.0017450041859166,
            "count": 0
           },
           {
            "bin_end": 5.001246431561369,
            "bin_start": 4.0014957178736426,
            "count": 0
           },
           {
            "bin_end": 6.0009971452490944,
            "bin_start": 5.001246431561369,
            "count": 0
           },
           {
            "bin_end": 7.000747858936821,
            "bin_start": 6.0009971452490944,
            "count": 0
           },
           {
            "bin_end": 8.000498572624547,
            "bin_start": 7.000747858936821,
            "count": 0
           },
           {
            "bin_end": 9.000249286312274,
            "bin_start": 8.000498572624547,
            "count": 0
           },
           {
            "bin_end": 10,
            "bin_start": 9.000249286312274,
            "count": 1
           }
          ],
          "max": "10.0",
          "min": "0.002492863122738153",
          "nan_count": 0,
          "unique_count": 8
         }
        },
        {
         "dtype": "object",
         "name": "_deepnote_index_column"
        }
       ],
       "row_count": 8,
       "rows": [
        {
         "GDP": "10.0",
         "GDP per capita": "10.0",
         "Population": "10.0",
         "_deepnote_index_column": "count"
        },
        {
         "GDP": "7038735.5",
         "GDP per capita": "0.03768131136118128",
         "Population": "383364299.4",
         "_deepnote_index_column": "mean"
        },
        {
         "GDP": "8371836.744955225",
         "GDP per capita": "0.02329233162111208",
         "Population": "554569304.2447789",
         "_deepnote_index_column": "std"
        },
        {
         "GDP": "1833274.0",
         "GDP per capita": "0.002492863122738153",
         "Population": "38856839.0",
         "_deepnote_index_column": "min"
        },
        {
         "GDP": "2400089.0",
         "GDP per capita": "0.019208853693333007",
         "Population": "67279425.5",
         "_deepnote_index_column": "25%"
        },
        {
         "GDP": "3455373.0",
         "GDP per capita": "0.041203477530058014",
         "Population": "104598715.0",
         "_deepnote_index_column": "50%"
        },
        {
         "GDP": "4748245.25",
         "GDP per capita": "0.05072489341073482",
         "Population": "303446946.5",
         "_deepnote_index_column": "75%"
        },
        {
         "GDP": "25346805.0",
         "GDP per capita": "0.07612940243011235",
         "Population": "1425881285.0",
         "_deepnote_index_column": "max"
        }
       ]
      },
      "text/html": [
       "<div>\n",
       "<style scoped>\n",
       "    .dataframe tbody tr th:only-of-type {\n",
       "        vertical-align: middle;\n",
       "    }\n",
       "\n",
       "    .dataframe tbody tr th {\n",
       "        vertical-align: top;\n",
       "    }\n",
       "\n",
       "    .dataframe thead th {\n",
       "        text-align: right;\n",
       "    }\n",
       "</style>\n",
       "<table border=\"1\" class=\"dataframe\">\n",
       "  <thead>\n",
       "    <tr style=\"text-align: right;\">\n",
       "      <th></th>\n",
       "      <th>GDP</th>\n",
       "      <th>Population</th>\n",
       "      <th>GDP per capita</th>\n",
       "    </tr>\n",
       "  </thead>\n",
       "  <tbody>\n",
       "    <tr>\n",
       "      <th>count</th>\n",
       "      <td>1.000000e+01</td>\n",
       "      <td>1.000000e+01</td>\n",
       "      <td>10.000000</td>\n",
       "    </tr>\n",
       "    <tr>\n",
       "      <th>mean</th>\n",
       "      <td>7.038736e+06</td>\n",
       "      <td>3.833643e+08</td>\n",
       "      <td>0.037681</td>\n",
       "    </tr>\n",
       "    <tr>\n",
       "      <th>std</th>\n",
       "      <td>8.371837e+06</td>\n",
       "      <td>5.545693e+08</td>\n",
       "      <td>0.023292</td>\n",
       "    </tr>\n",
       "    <tr>\n",
       "      <th>min</th>\n",
       "      <td>1.833274e+06</td>\n",
       "      <td>3.885684e+07</td>\n",
       "      <td>0.002493</td>\n",
       "    </tr>\n",
       "    <tr>\n",
       "      <th>25%</th>\n",
       "      <td>2.400089e+06</td>\n",
       "      <td>6.727943e+07</td>\n",
       "      <td>0.019209</td>\n",
       "    </tr>\n",
       "    <tr>\n",
       "      <th>50%</th>\n",
       "      <td>3.455373e+06</td>\n",
       "      <td>1.045987e+08</td>\n",
       "      <td>0.041203</td>\n",
       "    </tr>\n",
       "    <tr>\n",
       "      <th>75%</th>\n",
       "      <td>4.748245e+06</td>\n",
       "      <td>3.034469e+08</td>\n",
       "      <td>0.050725</td>\n",
       "    </tr>\n",
       "    <tr>\n",
       "      <th>max</th>\n",
       "      <td>2.534680e+07</td>\n",
       "      <td>1.425881e+09</td>\n",
       "      <td>0.076129</td>\n",
       "    </tr>\n",
       "  </tbody>\n",
       "</table>\n",
       "</div>"
      ],
      "text/plain": [
       "                GDP    Population  GDP per capita\n",
       "count  1.000000e+01  1.000000e+01       10.000000\n",
       "mean   7.038736e+06  3.833643e+08        0.037681\n",
       "std    8.371837e+06  5.545693e+08        0.023292\n",
       "min    1.833274e+06  3.885684e+07        0.002493\n",
       "25%    2.400089e+06  6.727943e+07        0.019209\n",
       "50%    3.455373e+06  1.045987e+08        0.041203\n",
       "75%    4.748245e+06  3.034469e+08        0.050725\n",
       "max    2.534680e+07  1.425881e+09        0.076129"
      ]
     },
     "execution_count": 45,
     "metadata": {},
     "output_type": "execute_result"
    }
   ],
   "source": [
    "df.describe()"
   ]
  },
  {
   "cell_type": "code",
   "execution_count": null,
   "metadata": {
    "cell_id": "5476ee3e74114ec8adf5a8bd4f66a675",
    "deepnote_app_coordinates": {
     "h": 5,
     "w": 12,
     "x": 0,
     "y": 601
    },
    "deepnote_app_is_code_hidden": true,
    "deepnote_cell_type": "code",
    "deepnote_to_be_reexecuted": false,
    "execution_millis": 16,
    "execution_start": 1664740595194,
    "id": "Z17C7WwOQcGI",
    "outputId": "37fb8eaf-df6b-4d3d-a389-d8490c3ec665",
    "source_hash": "d52a5e33"
   },
   "outputs": [
    {
     "data": {
      "text/plain": [
       "GDP               3.455373e+06\n",
       "Population        1.045987e+08\n",
       "GDP per capita    4.120348e-02\n",
       "dtype: float64"
      ]
     },
     "execution_count": 46,
     "metadata": {},
     "output_type": "execute_result"
    }
   ],
   "source": [
    "df.median()"
   ]
  },
  {
   "cell_type": "code",
   "execution_count": null,
   "metadata": {
    "cell_id": "4330bbb4f9c645d7a63b385543f607f0",
    "deepnote_app_coordinates": {
     "h": 5,
     "w": 12,
     "x": 0,
     "y": 607
    },
    "deepnote_app_is_code_hidden": true,
    "deepnote_cell_type": "code",
    "deepnote_to_be_reexecuted": false,
    "execution_millis": 9,
    "execution_start": 1664740595209,
    "id": "5j4zOU8HPtwa",
    "outputId": "219b09bc-97a1-4f5b-d148-104132e0ae2a",
    "source_hash": "bf4f01e3"
   },
   "outputs": [
    {
     "data": {
      "text/plain": [
       "GDP               7.008765e+13\n",
       "Population        3.075471e+17\n",
       "GDP per capita    5.425327e-04\n",
       "dtype: float64"
      ]
     },
     "execution_count": 47,
     "metadata": {},
     "output_type": "execute_result"
    }
   ],
   "source": [
    "df.var()"
   ]
  },
  {
   "cell_type": "code",
   "execution_count": null,
   "metadata": {
    "cell_id": "dd080ded30614312a0f88c70cedb27e8",
    "deepnote_app_coordinates": {
     "h": 5,
     "w": 12,
     "x": 0,
     "y": 613
    },
    "deepnote_app_is_code_hidden": true,
    "deepnote_cell_type": "code",
    "deepnote_to_be_reexecuted": false,
    "execution_millis": 4,
    "execution_start": 1664740595217,
    "id": "h2PdIBcNPxvV",
    "outputId": "c1bbd815-68d3-4cfc-e617-0e1bc328caa8",
    "source_hash": "4f2bcb55"
   },
   "outputs": [
    {
     "data": {
      "text/plain": [
       "Country           United StatesChinaJapanGermanyIndiaUnited King...\n",
       "GDP                                                        70387355\n",
       "Population                                               3833642994\n",
       "GDP per capita                                             0.376813\n",
       "dtype: object"
      ]
     },
     "execution_count": 48,
     "metadata": {},
     "output_type": "execute_result"
    }
   ],
   "source": [
    "df.sum()"
   ]
  }
 ],
 "metadata": {
  "colab": {
   "provenance": [],
   "toc_visible": true
  },
  "deepnote": {},
  "deepnote_app_layout": "article",
  "deepnote_execution_queue": [],
  "deepnote_notebook_id": "ea0a78f5003e420b9294549d2de07cb3",
  "deepnote_persisted_session": {
   "createdAt": "2022-10-02T20:31:46.191Z"
  },
  "kernelspec": {
   "display_name": "Python 3 (ipykernel)",
   "language": "python",
   "name": "python3"
  },
  "language_info": {
   "codemirror_mode": {
    "name": "ipython",
    "version": 3
   },
   "file_extension": ".py",
   "mimetype": "text/x-python",
   "name": "python",
   "nbconvert_exporter": "python",
   "pygments_lexer": "ipython3",
   "version": "3.12.2"
  }
 },
 "nbformat": 4,
 "nbformat_minor": 4
}
