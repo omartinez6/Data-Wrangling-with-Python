{
 "cells": [
  {
   "cell_type": "markdown",
   "metadata": {
    "cell_id": "1339ee23adcc4995b0c1098dfb74c86b",
    "deepnote_app_coordinates": {
     "h": 5,
     "w": 12,
     "x": 0,
     "y": 1
    },
    "deepnote_cell_height": 274,
    "deepnote_cell_type": "markdown",
    "id": "fe7l2Vy92BWu"
   },
   "source": [
    "# Numpy!\n",
    "\n",
    "This section is all about the package, Numpy. Are you ready? Let's go!\n",
    "\n",
    "You will find some small tasks in sections below. Most codes are hidden and you can only see the output.\n",
    "\n",
    "> Try to figure out by yourself, or search for references. Being able to search and find information needed is an important skill that benefits you and your career for a long time.\n",
    "\n",
    "\n",
    "\n"
   ]
  },
  {
   "cell_type": "markdown",
   "metadata": {
    "cell_id": "7d624a6df76947f89ce7fcabdfdef6b3",
    "deepnote_app_coordinates": {
     "h": 5,
     "w": 12,
     "x": 0,
     "y": 7
    },
    "deepnote_cell_height": 69.59375,
    "deepnote_cell_type": "markdown",
    "id": "eHesfjN3BPg0"
   },
   "source": [
    "## Import the package and rename it as np"
   ]
  },
  {
   "cell_type": "code",
   "execution_count": 1,
   "metadata": {
    "cell_id": "e385d77529924ccd9e6dd275c9bbd2a4",
    "deepnote_app_coordinates": {
     "h": 5,
     "w": 12,
     "x": 0,
     "y": 13
    },
    "deepnote_app_is_code_hidden": true,
    "deepnote_cell_type": "code",
    "deepnote_to_be_reexecuted": false,
    "execution_millis": 83455,
    "execution_start": 1664740594740,
    "id": "_QPNs2sOBQMT",
    "source_hash": "c2602aa8"
   },
   "outputs": [],
   "source": [
    "# your code is here\n",
    "import numpy as np"
   ]
  },
  {
   "cell_type": "markdown",
   "metadata": {
    "cell_id": "72b88926f4724243992dbd799b4d5f6b",
    "deepnote_app_coordinates": {
     "h": 5,
     "w": 12,
     "x": 0,
     "y": 19
    },
    "deepnote_cell_height": 69.59375,
    "deepnote_cell_type": "markdown",
    "id": "TTElGHtF2N7g"
   },
   "source": [
    "## Array Creation"
   ]
  },
  {
   "cell_type": "markdown",
   "metadata": {
    "cell_id": "6cf31a7e4a1047ccac9622632d323298",
    "deepnote_app_coordinates": {
     "h": 5,
     "w": 12,
     "x": 0,
     "y": 25
    },
    "deepnote_cell_height": 61.59375,
    "deepnote_cell_type": "markdown",
    "id": "0CtQu71C3PP8"
   },
   "source": [
    "### Task: Create a numpy array from a list of integers"
   ]
  },
  {
   "cell_type": "code",
   "execution_count": 4,
   "metadata": {
    "cell_id": "bb3c56dcd2384713905c252aef280c7e",
    "deepnote_app_coordinates": {
     "h": 5,
     "w": 12,
     "x": 0,
     "y": 31
    },
    "deepnote_app_is_code_hidden": true,
    "deepnote_cell_type": "code",
    "deepnote_to_be_reexecuted": false,
    "execution_millis": 191,
    "execution_start": 1664740594740,
    "id": "MMH_3H9r5wrz",
    "source_hash": "7fb83082"
   },
   "outputs": [
    {
     "name": "stdout",
     "output_type": "stream",
     "text": [
      "[1 2 3 4 5 6 7 8 9 0]\n"
     ]
    }
   ],
   "source": [
    "# your code is here\n",
    "lista = [1,2,3,4,5,6,7,8,9,0]\n",
    "np_array = np.array(lista)\n",
    "\n",
    "print(np_array)"
   ]
  },
  {
   "cell_type": "markdown",
   "metadata": {
    "cell_id": "63de87fdc99543cb8a98c76cf2937c70",
    "deepnote_app_coordinates": {
     "h": 5,
     "w": 12,
     "x": 0,
     "y": 37
    },
    "deepnote_cell_height": 93.59375,
    "deepnote_cell_type": "markdown",
    "id": "3FK5QxBO3dqS"
   },
   "source": [
    "### Task: Create a numpy array of size 6, filled with zeros"
   ]
  },
  {
   "cell_type": "code",
   "execution_count": 6,
   "metadata": {
    "cell_id": "462738ccd589428888b35fd7915b9e31",
    "deepnote_app_coordinates": {
     "h": 5,
     "w": 12,
     "x": 0,
     "y": 43
    },
    "deepnote_app_is_code_hidden": true,
    "deepnote_cell_type": "code",
    "deepnote_to_be_reexecuted": false,
    "execution_millis": 205,
    "execution_start": 1664740594743,
    "id": "w-XimSI88J1J",
    "source_hash": "781b9d75"
   },
   "outputs": [
    {
     "name": "stdout",
     "output_type": "stream",
     "text": [
      "[0. 0. 0. 0. 0. 0.]\n"
     ]
    }
   ],
   "source": [
    "# your code is here\n",
    "zero = np.zeros(6)\n",
    "print(zero)"
   ]
  },
  {
   "cell_type": "markdown",
   "metadata": {
    "cell_id": "369be64fee5a418690ab39066b143db2",
    "deepnote_app_coordinates": {
     "h": 5,
     "w": 12,
     "x": 0,
     "y": 49
    },
    "deepnote_cell_height": 93.59375,
    "deepnote_cell_type": "markdown",
    "id": "Db9Fwz4KI2al"
   },
   "source": [
    "### Task: Create a numpy array of size 6, filled with ones"
   ]
  },
  {
   "cell_type": "code",
   "execution_count": 7,
   "metadata": {
    "cell_id": "ff00da18e7eb423091729f9104ad11d1",
    "deepnote_app_coordinates": {
     "h": 5,
     "w": 12,
     "x": 0,
     "y": 55
    },
    "deepnote_app_is_code_hidden": true,
    "deepnote_cell_type": "code",
    "deepnote_to_be_reexecuted": false,
    "execution_millis": 207,
    "execution_start": 1664740594748,
    "id": "W-PCGPuPUSTv",
    "source_hash": "d5ee4131"
   },
   "outputs": [
    {
     "name": "stdout",
     "output_type": "stream",
     "text": [
      "[1. 1. 1. 1. 1. 1.]\n"
     ]
    }
   ],
   "source": [
    "# your code is here\n",
    "one = np.ones(6)\n",
    "print(one)"
   ]
  },
  {
   "cell_type": "markdown",
   "metadata": {
    "cell_id": "e774eabb00b34de9b9b2e4dfdaac29a0",
    "deepnote_app_coordinates": {
     "h": 5,
     "w": 12,
     "x": 0,
     "y": 61
    },
    "deepnote_cell_height": 62,
    "deepnote_cell_type": "markdown",
    "id": "42rLKWbe3l8m"
   },
   "source": [
    "### Task: Create a numpy array with values from 0 to 10"
   ]
  },
  {
   "cell_type": "code",
   "execution_count": 9,
   "metadata": {
    "cell_id": "357c82dd535b40ce9a7f26cfae138d3f",
    "deepnote_app_coordinates": {
     "h": 5,
     "w": 12,
     "x": 0,
     "y": 67
    },
    "deepnote_app_is_code_hidden": true,
    "deepnote_cell_type": "code",
    "deepnote_to_be_reexecuted": false,
    "execution_millis": 182,
    "execution_start": 1664740594774,
    "id": "ExbcAYLk8LYI",
    "source_hash": "6f5dffbe"
   },
   "outputs": [
    {
     "name": "stdout",
     "output_type": "stream",
     "text": [
      "[ 0  1  2  3  4  5  6  7  8  9 10]\n"
     ]
    }
   ],
   "source": [
    "# your code is here\n",
    "zero_to_ten = np.arange(0,11)\n",
    "print(zero_to_ten)"
   ]
  },
  {
   "cell_type": "markdown",
   "metadata": {
    "cell_id": "889dc86e0d4546a7a0c9692669523efc",
    "deepnote_app_coordinates": {
     "h": 5,
     "w": 12,
     "x": 0,
     "y": 73
    },
    "deepnote_cell_height": 94,
    "deepnote_cell_type": "markdown",
    "id": "c5314DLtJVyv"
   },
   "source": [
    "### Task: Create a numpy matrix of 2*3 integers, filled with zeros"
   ]
  },
  {
   "cell_type": "code",
   "execution_count": 11,
   "metadata": {
    "cell_id": "b1cdf8e8270447889759c789c17cc796",
    "deepnote_app_coordinates": {
     "h": 5,
     "w": 12,
     "x": 0,
     "y": 79
    },
    "deepnote_app_is_code_hidden": true,
    "deepnote_cell_type": "code",
    "deepnote_to_be_reexecuted": false,
    "execution_millis": 181,
    "execution_start": 1664740594775,
    "id": "JRNBES4MUTV2",
    "source_hash": "28403821"
   },
   "outputs": [
    {
     "name": "stdout",
     "output_type": "stream",
     "text": [
      "[[0. 0. 0.]\n",
      " [0. 0. 0.]]\n"
     ]
    }
   ],
   "source": [
    "# your code is here\n",
    "zero = np.zeros((2,3))\n",
    "print(zero)"
   ]
  },
  {
   "cell_type": "markdown",
   "metadata": {
    "cell_id": "ed6992dac1804acc8a73f0eb6b6f98ef",
    "deepnote_app_coordinates": {
     "h": 5,
     "w": 12,
     "x": 0,
     "y": 85
    },
    "deepnote_cell_height": 94,
    "deepnote_cell_type": "markdown",
    "id": "tyPLq8JwJcQR"
   },
   "source": [
    "### Task: Create a numpy matrix of 3*2 integers, filled with ones"
   ]
  },
  {
   "cell_type": "code",
   "execution_count": 12,
   "metadata": {
    "cell_id": "9186c7a1bf2441ff83cc6e372312a952",
    "deepnote_app_coordinates": {
     "h": 5,
     "w": 12,
     "x": 0,
     "y": 91
    },
    "deepnote_app_is_code_hidden": true,
    "deepnote_cell_type": "code",
    "deepnote_to_be_reexecuted": false,
    "execution_millis": 181,
    "execution_start": 1664740594776,
    "id": "BbZBfz_qUUgf",
    "source_hash": "6f2c4e40"
   },
   "outputs": [
    {
     "name": "stdout",
     "output_type": "stream",
     "text": [
      "[[1. 1.]\n",
      " [1. 1.]\n",
      " [1. 1.]]\n"
     ]
    }
   ],
   "source": [
    "# your code is here\n",
    "one = np.ones((3,2))\n",
    "print(one)"
   ]
  },
  {
   "cell_type": "markdown",
   "metadata": {
    "cell_id": "c45c13a8fc70463394860ec6cb4e2d5e",
    "deepnote_app_coordinates": {
     "h": 5,
     "w": 12,
     "x": 0,
     "y": 97
    },
    "deepnote_cell_height": 94,
    "deepnote_cell_type": "markdown",
    "id": "oIYfk1CJJs4R"
   },
   "source": [
    "### Task: Create a numpy matrix of 3*2 integers, filled with random integers in [0, 10]"
   ]
  },
  {
   "cell_type": "code",
   "execution_count": 13,
   "metadata": {
    "cell_id": "d2cb0c6ffaa74f1e85d0e173e92598ec",
    "deepnote_app_coordinates": {
     "h": 5,
     "w": 12,
     "x": 0,
     "y": 103
    },
    "deepnote_app_is_code_hidden": true,
    "deepnote_cell_type": "code",
    "deepnote_to_be_reexecuted": false,
    "execution_millis": 175,
    "execution_start": 1664740594783,
    "id": "f3rSXHN1UVJt",
    "source_hash": "6304eb41"
   },
   "outputs": [
    {
     "name": "stdout",
     "output_type": "stream",
     "text": [
      "[[8 0]\n",
      " [1 6]\n",
      " [8 6]]\n"
     ]
    }
   ],
   "source": [
    "# your code is here\n",
    "rand_matrix = np.random.randint(0,10,(3,2))\n",
    "print(rand_matrix)"
   ]
  },
  {
   "cell_type": "markdown",
   "metadata": {
    "cell_id": "fff45f9bf95e45809157e86eb45afc93",
    "deepnote_app_coordinates": {
     "h": 5,
     "w": 12,
     "x": 0,
     "y": 109
    },
    "deepnote_cell_height": 94,
    "deepnote_cell_type": "markdown",
    "id": "-61o4-pCJ7y8"
   },
   "source": [
    "### Task: Create a numpy matrix of 100 * 2, filled with random float value in [0, 1]"
   ]
  },
  {
   "cell_type": "code",
   "execution_count": 15,
   "metadata": {
    "cell_id": "d05bc737c9f1451c862547a08663ec45",
    "deepnote_app_coordinates": {
     "h": 5,
     "w": 12,
     "x": 0,
     "y": 115
    },
    "deepnote_app_is_code_hidden": true,
    "deepnote_cell_type": "code",
    "deepnote_to_be_reexecuted": false,
    "execution_millis": 174,
    "execution_start": 1664740594785,
    "id": "NpxV1fsOUVtd",
    "source_hash": "b0768213"
   },
   "outputs": [
    {
     "name": "stdout",
     "output_type": "stream",
     "text": [
      "[[0.21049802 0.58640275]\n",
      " [0.83100221 0.9109853 ]\n",
      " [0.51476044 0.05624128]\n",
      " [0.09142598 0.16911188]\n",
      " [0.76373307 0.09284086]\n",
      " [0.94582411 0.33120387]\n",
      " [0.14315497 0.43888425]\n",
      " [0.9947242  0.3231933 ]\n",
      " [0.56367516 0.38002768]\n",
      " [0.0945218  0.35086376]\n",
      " [0.12969761 0.21309446]\n",
      " [0.41445325 0.12992995]\n",
      " [0.13773493 0.50689164]\n",
      " [0.85709516 0.81010887]\n",
      " [0.17081328 0.94274757]\n",
      " [0.07464207 0.36398984]\n",
      " [0.01967158 0.25685437]\n",
      " [0.19016854 0.82705581]\n",
      " [0.83197279 0.48317247]\n",
      " [0.1165068  0.72871067]\n",
      " [0.39788129 0.18659163]\n",
      " [0.05109269 0.55964214]\n",
      " [0.49032129 0.91846467]\n",
      " [0.41871669 0.94444934]\n",
      " [0.89446303 0.63312049]\n",
      " [0.12677155 0.78549363]\n",
      " [0.89941678 0.87426947]\n",
      " [0.58231991 0.74122397]\n",
      " [0.09987094 0.5499998 ]\n",
      " [0.00246075 0.88829884]\n",
      " [0.33057518 0.54957537]\n",
      " [0.26797626 0.34804397]\n",
      " [0.12390263 0.7190601 ]\n",
      " [0.97414899 0.69250497]\n",
      " [0.11496703 0.08410296]\n",
      " [0.92162864 0.85979869]\n",
      " [0.84811567 0.15121334]\n",
      " [0.78886364 0.57452251]\n",
      " [0.54109967 0.87258418]\n",
      " [0.74365265 0.16578252]\n",
      " [0.74398025 0.30285214]\n",
      " [0.43838824 0.84541563]\n",
      " [0.48237975 0.03907584]\n",
      " [0.27922392 0.23166405]\n",
      " [0.58824132 0.14849937]\n",
      " [0.22932367 0.11034749]\n",
      " [0.7879122  0.38222577]\n",
      " [0.54885618 0.74822249]\n",
      " [0.61267881 0.60697821]\n",
      " [0.89810542 0.80305486]\n",
      " [0.78768175 0.53724953]\n",
      " [0.67806796 0.50853404]\n",
      " [0.22945481 0.06932051]\n",
      " [0.19686915 0.11293093]\n",
      " [0.88928504 0.66803183]\n",
      " [0.61451853 0.91932447]\n",
      " [0.47252255 0.53781381]\n",
      " [0.06647569 0.29468865]\n",
      " [0.78454687 0.87670015]\n",
      " [0.06977985 0.29875145]\n",
      " [0.1545463  0.02765922]\n",
      " [0.03440334 0.78040663]\n",
      " [0.53895748 0.06797255]\n",
      " [0.5301652  0.45804684]\n",
      " [0.57968229 0.43084495]\n",
      " [0.14766319 0.61949213]\n",
      " [0.19579757 0.59875574]\n",
      " [0.5447419  0.86244547]\n",
      " [0.07620876 0.70626307]\n",
      " [0.64619056 0.28468531]\n",
      " [0.3634762  0.59799202]\n",
      " [0.68909401 0.31644135]\n",
      " [0.73637913 0.4831265 ]\n",
      " [0.65409843 0.12026473]\n",
      " [0.84801075 0.8980413 ]\n",
      " [0.17323437 0.68854812]\n",
      " [0.07051627 0.64158016]\n",
      " [0.50608936 0.80023921]\n",
      " [0.6794158  0.21586261]\n",
      " [0.48826264 0.81660072]\n",
      " [0.2492734  0.6762369 ]\n",
      " [0.58094546 0.80315378]\n",
      " [0.59634921 0.79320997]\n",
      " [0.94925948 0.83924919]\n",
      " [0.98529501 0.18352155]\n",
      " [0.04234845 0.3159423 ]\n",
      " [0.71609179 0.243391  ]\n",
      " [0.64557148 0.08505725]\n",
      " [0.73934329 0.15685793]\n",
      " [0.62453813 0.84092761]\n",
      " [0.05487579 0.43463625]\n",
      " [0.02728458 0.92850529]\n",
      " [0.87164719 0.87548226]\n",
      " [0.42517764 0.86426818]\n",
      " [0.51058881 0.31151551]\n",
      " [0.74007005 0.47851776]\n",
      " [0.51793865 0.85924165]\n",
      " [0.78519232 0.7011947 ]\n",
      " [0.80130764 0.53914759]\n",
      " [0.76335708 0.66051066]]\n"
     ]
    }
   ],
   "source": [
    "# your code is here\n",
    "rand_matrix = np.random.random((100,2))\n",
    "print(rand_matrix)"
   ]
  },
  {
   "cell_type": "markdown",
   "metadata": {
    "cell_id": "dfdbf45e21b54b0f889e5d899f9a043d",
    "deepnote_app_coordinates": {
     "h": 5,
     "w": 12,
     "x": 0,
     "y": 121
    },
    "deepnote_cell_height": 94,
    "deepnote_cell_type": "markdown",
    "id": "jZ4l3axBJ5tJ"
   },
   "source": [
    "### Task: Create a numpy matrix of 2\\*3\\*4, filled with integers from 1 to 24."
   ]
  },
  {
   "cell_type": "code",
   "execution_count": 17,
   "metadata": {
    "cell_id": "dd4181fdbe7944d19c8d9be35fdaa341",
    "deepnote_app_coordinates": {
     "h": 5,
     "w": 12,
     "x": 0,
     "y": 127
    },
    "deepnote_app_is_code_hidden": true,
    "deepnote_cell_type": "code",
    "deepnote_to_be_reexecuted": false,
    "execution_millis": 151,
    "execution_start": 1664740594809,
    "id": "G3AKUvkMUWu2",
    "source_hash": "a9571c83"
   },
   "outputs": [
    {
     "name": "stdout",
     "output_type": "stream",
     "text": [
      "[[[17 10 11  1]\n",
      "  [20 17  6  8]\n",
      "  [16 13 10  9]]\n",
      "\n",
      " [[23 12 11  7]\n",
      "  [ 3  3  8 21]\n",
      "  [11 22  6  8]]]\n"
     ]
    }
   ],
   "source": [
    "# your code is here\n",
    "rand_matrix = np.random.randint(1,24,(2,3,4))\n",
    "print(rand_matrix)"
   ]
  },
  {
   "cell_type": "markdown",
   "metadata": {
    "cell_id": "bddbc097c1aa45fd8bb1e3f9e0e63901",
    "deepnote_app_coordinates": {
     "h": 5,
     "w": 12,
     "x": 0,
     "y": 133
    },
    "deepnote_cell_height": 70,
    "deepnote_cell_type": "markdown",
    "id": "1ut5x4Zl2RVu"
   },
   "source": [
    "## Array Indexing"
   ]
  },
  {
   "cell_type": "markdown",
   "metadata": {
    "cell_id": "2e0edb9da53940378b27d0465ee96d20",
    "deepnote_app_coordinates": {
     "h": 5,
     "w": 12,
     "x": 0,
     "y": 139
    },
    "deepnote_cell_height": 94,
    "deepnote_cell_type": "markdown",
    "id": "3iWGsCO4KpaD"
   },
   "source": [
    "### Task: Let X be a numpy array, and X = np.array([1, 2, 3, 4, 5])"
   ]
  },
  {
   "cell_type": "code",
   "execution_count": 52,
   "metadata": {
    "cell_id": "72ce2806409f48628e96cb27864b4a43",
    "deepnote_app_coordinates": {
     "h": 5,
     "w": 12,
     "x": 0,
     "y": 145
    },
    "deepnote_app_is_code_hidden": true,
    "deepnote_cell_type": "code",
    "deepnote_to_be_reexecuted": false,
    "execution_millis": 0,
    "execution_start": 1664740594811,
    "id": "oloub45JBXL6",
    "source_hash": "b480f2b"
   },
   "outputs": [],
   "source": [
    "# your code is here\n",
    "X = np.array([1, 2, 3, 4, 5])"
   ]
  },
  {
   "cell_type": "markdown",
   "metadata": {
    "cell_id": "9931735045864edfb9705e8f40cf91c9",
    "deepnote_app_coordinates": {
     "h": 5,
     "w": 12,
     "x": 0,
     "y": 151
    },
    "deepnote_cell_height": 62,
    "deepnote_cell_type": "markdown",
    "id": "dGUiTYKM4XTF"
   },
   "source": [
    "### Task: Show the first element of X"
   ]
  },
  {
   "cell_type": "code",
   "execution_count": 53,
   "metadata": {
    "cell_id": "8849781fd3ee40f2b6a3850090cd641e",
    "deepnote_app_coordinates": {
     "h": 5,
     "w": 12,
     "x": 0,
     "y": 157
    },
    "deepnote_app_is_code_hidden": true,
    "deepnote_cell_type": "code",
    "deepnote_to_be_reexecuted": false,
    "execution_millis": 148,
    "execution_start": 1664740594812,
    "id": "MQ9sEgvL8Mph",
    "source_hash": "f3a00d0b"
   },
   "outputs": [
    {
     "name": "stdout",
     "output_type": "stream",
     "text": [
      "1\n"
     ]
    }
   ],
   "source": [
    "# your code is here\n",
    "print(X[0])"
   ]
  },
  {
   "cell_type": "markdown",
   "metadata": {
    "cell_id": "d1744d94a4bd48a5bf6d7e323bfd8a98",
    "deepnote_app_coordinates": {
     "h": 5,
     "w": 12,
     "x": 0,
     "y": 163
    },
    "deepnote_cell_height": 62,
    "deepnote_cell_type": "markdown",
    "id": "VYkj8Sni5SLY"
   },
   "source": [
    "### Task: Show the last element of X"
   ]
  },
  {
   "cell_type": "code",
   "execution_count": 54,
   "metadata": {
    "cell_id": "675b3b9a076f4cd3b681db7bf5911f62",
    "deepnote_app_coordinates": {
     "h": 5,
     "w": 12,
     "x": 0,
     "y": 169
    },
    "deepnote_app_is_code_hidden": true,
    "deepnote_cell_type": "code",
    "deepnote_to_be_reexecuted": false,
    "execution_millis": 148,
    "execution_start": 1664740594813,
    "id": "ezJbefBc8NSc",
    "source_hash": "edb870c4"
   },
   "outputs": [
    {
     "name": "stdout",
     "output_type": "stream",
     "text": [
      "5\n"
     ]
    }
   ],
   "source": [
    "# your code is here\n",
    "print(X[-1])"
   ]
  },
  {
   "cell_type": "markdown",
   "metadata": {
    "cell_id": "8a0d1e6b3a314a65ad04883305c74621",
    "deepnote_app_coordinates": {
     "h": 5,
     "w": 12,
     "x": 0,
     "y": 175
    },
    "deepnote_cell_height": 62,
    "deepnote_cell_type": "markdown",
    "id": "-BEsJESu4hx0"
   },
   "source": [
    "### Task: Show the first 3 elements of X"
   ]
  },
  {
   "cell_type": "code",
   "execution_count": 55,
   "metadata": {
    "cell_id": "9ab33bdf07994a8d8645171216d5a0b9",
    "deepnote_app_coordinates": {
     "h": 5,
     "w": 12,
     "x": 0,
     "y": 181
    },
    "deepnote_app_is_code_hidden": true,
    "deepnote_cell_type": "code",
    "deepnote_to_be_reexecuted": false,
    "execution_millis": 83433,
    "execution_start": 1664740594835,
    "id": "GqsoQylO8Nz4",
    "source_hash": "9e584014"
   },
   "outputs": [
    {
     "name": "stdout",
     "output_type": "stream",
     "text": [
      "[1 2 3]\n"
     ]
    }
   ],
   "source": [
    "# your code is here\n",
    "print(X[:3])"
   ]
  },
  {
   "cell_type": "markdown",
   "metadata": {
    "cell_id": "8c68aa539db54e35af1e76524fa74dd0",
    "deepnote_app_coordinates": {
     "h": 5,
     "w": 12,
     "x": 0,
     "y": 187
    },
    "deepnote_cell_height": 61.59375,
    "deepnote_cell_type": "markdown",
    "id": "NOLUtTzDLD-l"
   },
   "source": [
    "### Task: Show the last 3 elements of X"
   ]
  },
  {
   "cell_type": "code",
   "execution_count": 56,
   "metadata": {
    "cell_id": "928fddc6c67e4790ab78eb6ce6033fef",
    "deepnote_app_coordinates": {
     "h": 5,
     "w": 12,
     "x": 0,
     "y": 193
    },
    "deepnote_app_is_code_hidden": true,
    "deepnote_cell_type": "code",
    "deepnote_to_be_reexecuted": false,
    "execution_millis": 111,
    "execution_start": 1664740594850,
    "id": "p_YG72N2UYjG",
    "source_hash": "60608f21"
   },
   "outputs": [
    {
     "name": "stdout",
     "output_type": "stream",
     "text": [
      "[4 5]\n"
     ]
    }
   ],
   "source": [
    "# your code is here\n",
    "print(X[-2:])"
   ]
  },
  {
   "cell_type": "markdown",
   "metadata": {
    "cell_id": "290cf7853b0d4e4ab4196e74ff1428c7",
    "deepnote_app_coordinates": {
     "h": 5,
     "w": 12,
     "x": 0,
     "y": 199
    },
    "deepnote_cell_height": 93.59375,
    "deepnote_cell_type": "markdown",
    "id": "_dzBCEzWLG3v"
   },
   "source": [
    "### Task: Show the elements of X whose index is odd (1, 3, 5, ...)"
   ]
  },
  {
   "cell_type": "code",
   "execution_count": 57,
   "metadata": {
    "cell_id": "281265d4fb47402b98935a1b28c7651e",
    "deepnote_app_coordinates": {
     "h": 5,
     "w": 12,
     "x": 0,
     "y": 205
    },
    "deepnote_app_is_code_hidden": true,
    "deepnote_cell_type": "code",
    "deepnote_to_be_reexecuted": false,
    "execution_millis": 111,
    "execution_start": 1664740594851,
    "id": "e-G7QckRUZIs",
    "source_hash": "fae66760"
   },
   "outputs": [
    {
     "name": "stdout",
     "output_type": "stream",
     "text": [
      "[1 3 5]\n"
     ]
    }
   ],
   "source": [
    "# your code is here\n",
    "print(X[::2])"
   ]
  },
  {
   "cell_type": "markdown",
   "metadata": {
    "cell_id": "573ff5d9fe6f45f5a3525db8c8eb3f8c",
    "deepnote_app_coordinates": {
     "h": 5,
     "w": 12,
     "x": 0,
     "y": 211
    },
    "deepnote_cell_height": 61.59375,
    "deepnote_cell_type": "markdown",
    "id": "tsukfJQ1LabJ"
   },
   "source": [
    "### Task: Show the elements of X except the last one"
   ]
  },
  {
   "cell_type": "code",
   "execution_count": 58,
   "metadata": {
    "cell_id": "a0540e612d4b49f7be8c38b63001f290",
    "deepnote_app_coordinates": {
     "h": 5,
     "w": 12,
     "x": 0,
     "y": 217
    },
    "deepnote_app_is_code_hidden": true,
    "deepnote_cell_type": "code",
    "deepnote_to_be_reexecuted": false,
    "execution_millis": 109,
    "execution_start": 1664740594853,
    "id": "PlPO_MgPUZqG",
    "source_hash": "a1d4d2f5"
   },
   "outputs": [
    {
     "name": "stdout",
     "output_type": "stream",
     "text": [
      "[1 2 3 4]\n"
     ]
    }
   ],
   "source": [
    "# your code is here\n",
    "print(X[:-1])"
   ]
  },
  {
   "cell_type": "markdown",
   "metadata": {
    "cell_id": "852dee00ed504c4097b4434ce4c0fb3f",
    "deepnote_app_coordinates": {
     "h": 5,
     "w": 12,
     "x": 0,
     "y": 223
    },
    "deepnote_cell_height": 93.59375,
    "deepnote_cell_type": "markdown",
    "id": "8EhDJvC2Lm77"
   },
   "source": [
    "### Task: Let X be a numpy matrix with dimension 3 * 4, and filled from 0 to 11."
   ]
  },
  {
   "cell_type": "code",
   "execution_count": 59,
   "metadata": {
    "cell_id": "f4102c527d894a21a4386d22fd2673b4",
    "deepnote_app_coordinates": {
     "h": 5,
     "w": 12,
     "x": 0,
     "y": 229
    },
    "deepnote_app_is_code_hidden": true,
    "deepnote_cell_type": "code",
    "deepnote_to_be_reexecuted": false,
    "execution_millis": 102,
    "execution_start": 1664740594861,
    "id": "vm1dJq31BzpT",
    "source_hash": "50375222"
   },
   "outputs": [
    {
     "name": "stdout",
     "output_type": "stream",
     "text": [
      "[[ 0  1  2  3]\n",
      " [ 4  5  6  7]\n",
      " [ 8  9 10 11]]\n"
     ]
    }
   ],
   "source": [
    "# your code is here\n",
    "X = np.arange(12).reshape((3,4))\n",
    "print(X)"
   ]
  },
  {
   "cell_type": "markdown",
   "metadata": {
    "cell_id": "06d589e300e94b589e1a28fd2d0e7d50",
    "deepnote_app_coordinates": {
     "h": 5,
     "w": 12,
     "x": 0,
     "y": 235
    },
    "deepnote_cell_height": 61.59375,
    "deepnote_cell_type": "markdown",
    "id": "hi4_PetZ4oJk"
   },
   "source": [
    "### Task: Show the first row of X"
   ]
  },
  {
   "cell_type": "code",
   "execution_count": 60,
   "metadata": {
    "cell_id": "3b3607e4e6794d7789d7ef1f5350476a",
    "deepnote_app_coordinates": {
     "h": 5,
     "w": 12,
     "x": 0,
     "y": 241
    },
    "deepnote_app_is_code_hidden": true,
    "deepnote_cell_type": "code",
    "deepnote_to_be_reexecuted": false,
    "execution_millis": 101,
    "execution_start": 1664740594863,
    "id": "Iwz0Ljxs8OqA",
    "source_hash": "f3a00d0b"
   },
   "outputs": [
    {
     "name": "stdout",
     "output_type": "stream",
     "text": [
      "[0 1 2 3]\n"
     ]
    }
   ],
   "source": [
    "# your code is here\n",
    "print(X[0])"
   ]
  },
  {
   "cell_type": "markdown",
   "metadata": {
    "cell_id": "f395fe73e44b4eaba9cf9d8cba757062",
    "deepnote_app_coordinates": {
     "h": 5,
     "w": 12,
     "x": 0,
     "y": 247
    },
    "deepnote_cell_height": 61.59375,
    "deepnote_cell_type": "markdown",
    "id": "4juNISwiP3jt"
   },
   "source": [
    "### Task: Show the first column of X"
   ]
  },
  {
   "cell_type": "code",
   "execution_count": 61,
   "metadata": {
    "cell_id": "12bafe8791c9487a886c7111cf6a8d1d",
    "deepnote_app_coordinates": {
     "h": 5,
     "w": 12,
     "x": 0,
     "y": 253
    },
    "deepnote_app_is_code_hidden": true,
    "deepnote_cell_type": "code",
    "deepnote_to_be_reexecuted": false,
    "execution_millis": 99,
    "execution_start": 1664740594865,
    "id": "dPDgvTVeUakl",
    "source_hash": "e5917d5b"
   },
   "outputs": [
    {
     "name": "stdout",
     "output_type": "stream",
     "text": [
      "[0 4 8]\n"
     ]
    }
   ],
   "source": [
    "# your code is here\n",
    "print(X[:,0])"
   ]
  },
  {
   "cell_type": "markdown",
   "metadata": {
    "cell_id": "d9ec926b9dcc47d292263f836bc94e9b",
    "deepnote_app_coordinates": {
     "h": 5,
     "w": 12,
     "x": 0,
     "y": 259
    },
    "deepnote_cell_height": 61.59375,
    "deepnote_cell_type": "markdown",
    "id": "FOhsq6KcP6BX"
   },
   "source": [
    "### Task: Show the first element of the first row of X"
   ]
  },
  {
   "cell_type": "code",
   "execution_count": 62,
   "metadata": {
    "cell_id": "5af0e5dbbfd7424e97ae52bb05b859a2",
    "deepnote_app_coordinates": {
     "h": 5,
     "w": 12,
     "x": 0,
     "y": 265
    },
    "deepnote_app_is_code_hidden": true,
    "deepnote_cell_height": 111.578125,
    "deepnote_cell_type": "code",
    "deepnote_output_heights": [
     20.1875
    ],
    "deepnote_to_be_reexecuted": false,
    "execution_millis": 97,
    "execution_start": 1664740594872,
    "id": "HpawggljUbOk",
    "source_hash": "bc5a72c"
   },
   "outputs": [
    {
     "name": "stdout",
     "output_type": "stream",
     "text": [
      "0\n"
     ]
    }
   ],
   "source": [
    "# your code is here\n",
    "print(X[0,0])"
   ]
  },
  {
   "cell_type": "markdown",
   "metadata": {
    "cell_id": "8338dee5787a431ea95aee0020d7843d",
    "deepnote_app_coordinates": {
     "h": 5,
     "w": 12,
     "x": 0,
     "y": 271
    },
    "deepnote_cell_height": 61.59375,
    "deepnote_cell_type": "markdown",
    "id": "1fCRCWyxP_rX"
   },
   "source": [
    "### Task: Show the last row of X"
   ]
  },
  {
   "cell_type": "code",
   "execution_count": 63,
   "metadata": {
    "cell_id": "b6271592c404496481e5dffc2b86c43d",
    "deepnote_app_coordinates": {
     "h": 5,
     "w": 12,
     "x": 0,
     "y": 277
    },
    "deepnote_app_is_code_hidden": true,
    "deepnote_cell_height": 111.578125,
    "deepnote_cell_type": "code",
    "deepnote_output_heights": [
     20.1875
    ],
    "deepnote_to_be_reexecuted": false,
    "execution_millis": 95,
    "execution_start": 1664740594875,
    "id": "hVPhcd5cUby8",
    "source_hash": "edb870c4"
   },
   "outputs": [
    {
     "name": "stdout",
     "output_type": "stream",
     "text": [
      "[ 8  9 10 11]\n"
     ]
    }
   ],
   "source": [
    "# your code is here\n",
    "print(X[-1])"
   ]
  },
  {
   "cell_type": "markdown",
   "metadata": {
    "cell_id": "ee9953509dd34c16a4271f16996b98f9",
    "deepnote_app_coordinates": {
     "h": 5,
     "w": 12,
     "x": 0,
     "y": 283
    },
    "deepnote_cell_height": 61.59375,
    "deepnote_cell_type": "markdown",
    "id": "VfwEaj7-QB68"
   },
   "source": [
    "### Task: Show the last column of X"
   ]
  },
  {
   "cell_type": "code",
   "execution_count": 64,
   "metadata": {
    "cell_id": "596f69c6ca3f4d878569a647d72f8fc5",
    "deepnote_app_coordinates": {
     "h": 5,
     "w": 12,
     "x": 0,
     "y": 289
    },
    "deepnote_app_is_code_hidden": true,
    "deepnote_cell_type": "code",
    "deepnote_to_be_reexecuted": false,
    "execution_millis": 71,
    "execution_start": 1664740594900,
    "id": "R9LK1G9wUcat",
    "source_hash": "227af499"
   },
   "outputs": [
    {
     "name": "stdout",
     "output_type": "stream",
     "text": [
      "[ 3  7 11]\n"
     ]
    }
   ],
   "source": [
    "# your code is here\n",
    "print(X[:,-1])"
   ]
  },
  {
   "cell_type": "markdown",
   "metadata": {
    "cell_id": "2564e6aa723f4c8b95ca1c5a3b89b902",
    "deepnote_app_coordinates": {
     "h": 5,
     "w": 12,
     "x": 0,
     "y": 295
    },
    "deepnote_cell_height": 61.59375,
    "deepnote_cell_type": "markdown",
    "id": "gfnCcIJmQEFZ"
   },
   "source": [
    "### Task: Show the last element of the last row of X"
   ]
  },
  {
   "cell_type": "code",
   "execution_count": 65,
   "metadata": {
    "cell_id": "c1cad4c6723f467598a7afb38ecdfa7f",
    "deepnote_app_coordinates": {
     "h": 5,
     "w": 12,
     "x": 0,
     "y": 301
    },
    "deepnote_app_is_code_hidden": true,
    "deepnote_cell_type": "code",
    "deepnote_to_be_reexecuted": false,
    "execution_millis": 70,
    "execution_start": 1664740594901,
    "id": "8cKHG30wUc4-",
    "source_hash": "bc86b63b"
   },
   "outputs": [
    {
     "name": "stdout",
     "output_type": "stream",
     "text": [
      "11\n"
     ]
    }
   ],
   "source": [
    "# your code is here\n",
    "print(X[-1,-1])"
   ]
  },
  {
   "cell_type": "markdown",
   "metadata": {
    "cell_id": "1ce01c9af0bc4432a1aa40b7a1d85080",
    "deepnote_app_coordinates": {
     "h": 5,
     "w": 12,
     "x": 0,
     "y": 307
    },
    "deepnote_cell_height": 61.59375,
    "deepnote_cell_type": "markdown",
    "id": "mavuLFztQGkA"
   },
   "source": [
    "### Task: Show all the rows except the last row of X"
   ]
  },
  {
   "cell_type": "code",
   "execution_count": 66,
   "metadata": {
    "cell_id": "d2f61578281a47e18ad02a6d11be55f6",
    "deepnote_app_coordinates": {
     "h": 5,
     "w": 12,
     "x": 0,
     "y": 313
    },
    "deepnote_app_is_code_hidden": true,
    "deepnote_cell_type": "code",
    "deepnote_to_be_reexecuted": false,
    "execution_millis": 69,
    "execution_start": 1664740594903,
    "id": "yqg06Mk9Udeb",
    "source_hash": "a1d4d2f5"
   },
   "outputs": [
    {
     "name": "stdout",
     "output_type": "stream",
     "text": [
      "[[0 1 2 3]\n",
      " [4 5 6 7]]\n"
     ]
    }
   ],
   "source": [
    "# your code is here\n",
    "print(X[:-1])"
   ]
  },
  {
   "cell_type": "markdown",
   "metadata": {
    "cell_id": "35a4f524783c49fcb4df789e2a9f39ec",
    "deepnote_app_coordinates": {
     "h": 5,
     "w": 12,
     "x": 0,
     "y": 319
    },
    "deepnote_cell_height": 93.59375,
    "deepnote_cell_type": "markdown",
    "id": "gsugFt6CQSv8"
   },
   "source": [
    "### Task: Show all the columns except the last column of X"
   ]
  },
  {
   "cell_type": "code",
   "execution_count": 67,
   "metadata": {
    "cell_id": "2f354532fb1a4af7a1d7d69fdfab9fea",
    "deepnote_app_coordinates": {
     "h": 5,
     "w": 12,
     "x": 0,
     "y": 325
    },
    "deepnote_app_is_code_hidden": true,
    "deepnote_cell_type": "code",
    "deepnote_to_be_reexecuted": false,
    "execution_millis": 68,
    "execution_start": 1664740594905,
    "id": "aSmfSj0rUd0d",
    "source_hash": "d6fd4411"
   },
   "outputs": [
    {
     "name": "stdout",
     "output_type": "stream",
     "text": [
      "[[ 0  1  2]\n",
      " [ 4  5  6]\n",
      " [ 8  9 10]]\n"
     ]
    }
   ],
   "source": [
    "# your code is here\n",
    "print(X[:,:-1])"
   ]
  },
  {
   "cell_type": "markdown",
   "metadata": {
    "cell_id": "b4e77222ba3e44c2bf2513c97aa13cc9",
    "deepnote_app_coordinates": {
     "h": 5,
     "w": 12,
     "x": 0,
     "y": 331
    },
    "deepnote_cell_height": 93.59375,
    "deepnote_cell_type": "markdown",
    "id": "q39M28ow6Oqj"
   },
   "source": [
    "### Task: Show the first two elements of the first two rows"
   ]
  },
  {
   "cell_type": "code",
   "execution_count": 68,
   "metadata": {
    "cell_id": "e61b662a0fc04c628aa1f0093fce747b",
    "deepnote_app_coordinates": {
     "h": 5,
     "w": 12,
     "x": 0,
     "y": 337
    },
    "deepnote_app_is_code_hidden": true,
    "deepnote_cell_type": "code",
    "deepnote_to_be_reexecuted": false,
    "execution_millis": 26,
    "execution_start": 1664740594949,
    "id": "i5tQ-9118PPg",
    "source_hash": "13a56d4d"
   },
   "outputs": [
    {
     "name": "stdout",
     "output_type": "stream",
     "text": [
      "[[0 1]\n",
      " [4 5]]\n"
     ]
    }
   ],
   "source": [
    "# your code is here\n",
    "print(X[:2,:2])"
   ]
  },
  {
   "cell_type": "markdown",
   "metadata": {
    "cell_id": "fc04b1e071d54ebc85e22e077b4840a9",
    "deepnote_app_coordinates": {
     "h": 5,
     "w": 12,
     "x": 0,
     "y": 343
    },
    "deepnote_cell_height": 69.59375,
    "deepnote_cell_type": "markdown",
    "id": "BwMQX2n4Ttkk"
   },
   "source": [
    "## Array Statistics"
   ]
  },
  {
   "cell_type": "markdown",
   "metadata": {
    "cell_id": "27fcd2c7e4ff4d9c8269c271bf0d10bf",
    "deepnote_app_coordinates": {
     "h": 5,
     "w": 12,
     "x": 0,
     "y": 349
    },
    "deepnote_cell_height": 93.59375,
    "deepnote_cell_type": "markdown",
    "id": "ZC1IirZtSi13"
   },
   "source": [
    "### Task: Create a numpy array X, print the sum, mean, std, var, max, min of it"
   ]
  },
  {
   "cell_type": "code",
   "execution_count": 74,
   "metadata": {
    "cell_id": "5aa6d5a171a4493a946573987053c391",
    "deepnote_app_coordinates": {
     "h": 5,
     "w": 12,
     "x": 0,
     "y": 355
    },
    "deepnote_app_is_code_hidden": true,
    "deepnote_cell_type": "code",
    "deepnote_to_be_reexecuted": false,
    "execution_millis": 25,
    "execution_start": 1664740594950,
    "id": "VDEv57JAUer6",
    "source_hash": "80ba9c0a"
   },
   "outputs": [
    {
     "name": "stdout",
     "output_type": "stream",
     "text": [
      "66 5.5 3.452052529534663 11.916666666666666 0 11\n"
     ]
    }
   ],
   "source": [
    "# your code is here\n",
    "print(X.sum(), X.mean(), X.std(), X.var(), X.min(), X.max())"
   ]
  },
  {
   "cell_type": "markdown",
   "metadata": {
    "cell_id": "62153ef6c9a94821bc6b244583b7a518",
    "deepnote_app_coordinates": {
     "h": 5,
     "w": 12,
     "x": 0,
     "y": 361
    },
    "deepnote_cell_height": 93.59375,
    "deepnote_cell_type": "markdown",
    "id": "0Db2EBujS1x2"
   },
   "source": [
    "### Task: Create a numpy matrix X as n * m, print the sum, mean, std, var, max, min of the 1st row of it."
   ]
  },
  {
   "cell_type": "code",
   "execution_count": 75,
   "metadata": {
    "cell_id": "dd272860ff5c4d06a453f9184801b816",
    "deepnote_app_coordinates": {
     "h": 5,
     "w": 12,
     "x": 0,
     "y": 367
    },
    "deepnote_app_is_code_hidden": true,
    "deepnote_cell_type": "code",
    "deepnote_to_be_reexecuted": false,
    "execution_millis": 33,
    "execution_start": 1664740594951,
    "id": "i_PJh-WyUe-h",
    "source_hash": "33ca766d"
   },
   "outputs": [
    {
     "name": "stdout",
     "output_type": "stream",
     "text": [
      "6 1.5 1.118033988749895 1.25 0 3\n"
     ]
    }
   ],
   "source": [
    "# your code is here\n",
    "X1 = X[0]\n",
    "print(X1.sum(), X1.mean(), X1.std(), X1.var(), X1.min(), X1.max())"
   ]
  },
  {
   "cell_type": "markdown",
   "metadata": {
    "cell_id": "3919a20927284b4597dd60fb7d8d4727",
    "deepnote_app_coordinates": {
     "h": 5,
     "w": 12,
     "x": 0,
     "y": 373
    },
    "deepnote_cell_height": 125.59375,
    "deepnote_cell_type": "markdown",
    "id": "MUPGzrQIS8SJ"
   },
   "source": [
    "### Task: Create a numpy matrix X as n * m, print the sum, mean, std, var, max, min of the 1st column of it."
   ]
  },
  {
   "cell_type": "code",
   "execution_count": 76,
   "metadata": {
    "cell_id": "c97dafc208a446b1833cef5f1f97b1e7",
    "deepnote_app_coordinates": {
     "h": 5,
     "w": 12,
     "x": 0,
     "y": 379
    },
    "deepnote_app_is_code_hidden": true,
    "deepnote_cell_type": "code",
    "deepnote_to_be_reexecuted": false,
    "execution_millis": 6,
    "execution_start": 1664740594978,
    "id": "d9ufG5uWUfd0",
    "source_hash": "ab2ffb08"
   },
   "outputs": [
    {
     "name": "stdout",
     "output_type": "stream",
     "text": [
      "12 4.0 3.265986323710904 10.666666666666666 0 8\n"
     ]
    }
   ],
   "source": [
    "# your code is here\n",
    "X2 = X[:,0]\n",
    "print(X2.sum(), X2.mean(), X2.std(), X2.var(), X2.min(), X2.max())"
   ]
  },
  {
   "cell_type": "markdown",
   "metadata": {
    "cell_id": "8f336a17e34040cdb10eab652cf885f2",
    "deepnote_app_coordinates": {
     "h": 5,
     "w": 12,
     "x": 0,
     "y": 385
    },
    "deepnote_cell_height": 69.59375,
    "deepnote_cell_type": "markdown",
    "id": "fl9WXnhTTAol"
   },
   "source": [
    "## Array Linear Algebra"
   ]
  },
  {
   "cell_type": "markdown",
   "metadata": {
    "cell_id": "74a1a08cb6524538a62a53b6851d67ea",
    "deepnote_app_coordinates": {
     "h": 5,
     "w": 12,
     "x": 0,
     "y": 391
    },
    "deepnote_cell_height": 125.59375,
    "deepnote_cell_type": "markdown",
    "id": "Ll4gLDnfSOTv"
   },
   "source": [
    "### Task: Create two numpy matrix X with 2 * 2, and Y with 2 * 2. Practice Linear Algebra operations, such as +, -, *, .T, @, etc."
   ]
  },
  {
   "cell_type": "code",
   "execution_count": 84,
   "metadata": {
    "cell_id": "7ab5d516165d4feb83855c06e78db99c",
    "deepnote_app_coordinates": {
     "h": 5,
     "w": 12,
     "x": 0,
     "y": 397
    },
    "deepnote_app_is_code_hidden": true,
    "deepnote_cell_type": "code",
    "deepnote_to_be_reexecuted": false,
    "execution_millis": 5,
    "execution_start": 1664740594979,
    "id": "T3K8rFcMUgPT",
    "source_hash": "c5d03422"
   },
   "outputs": [
    {
     "name": "stdout",
     "output_type": "stream",
     "text": [
      "[[ 60 116]\n",
      " [ 77 111]] [[44 66]\n",
      " [11 39]] [[ 416 2275]\n",
      " [1452 2700]] [[3419 4576]\n",
      " [2827 3800]]\n"
     ]
    }
   ],
   "source": [
    "# your code is here\n",
    "A = np.random.randint(0,100,(2,2))\n",
    "B = np.random.randint(0,100,(2,2))\n",
    "\n",
    "print(A + B, A - B, A * B, np.dot(A,B))"
   ]
  }
 ],
 "metadata": {
  "colab": {
   "provenance": [],
   "toc_visible": true
  },
  "deepnote": {},
  "deepnote_app_layout": "article",
  "deepnote_execution_queue": [],
  "deepnote_notebook_id": "ea0a78f5003e420b9294549d2de07cb3",
  "deepnote_persisted_session": {
   "createdAt": "2022-10-02T20:31:46.191Z"
  },
  "kernelspec": {
   "display_name": "Python 3 (ipykernel)",
   "language": "python",
   "name": "python3"
  },
  "language_info": {
   "codemirror_mode": {
    "name": "ipython",
    "version": 3
   },
   "file_extension": ".py",
   "mimetype": "text/x-python",
   "name": "python",
   "nbconvert_exporter": "python",
   "pygments_lexer": "ipython3",
   "version": "3.12.2"
  }
 },
 "nbformat": 4,
 "nbformat_minor": 4
}
