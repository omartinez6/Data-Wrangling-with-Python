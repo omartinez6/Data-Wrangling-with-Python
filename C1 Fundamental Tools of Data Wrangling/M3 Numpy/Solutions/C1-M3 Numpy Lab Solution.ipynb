{
 "cells": [
  {
   "cell_type": "markdown",
   "metadata": {
    "cell_id": "1339ee23adcc4995b0c1098dfb74c86b",
    "deepnote_app_coordinates": {
     "h": 5,
     "w": 12,
     "x": 0,
     "y": 1
    },
    "deepnote_cell_height": 274,
    "deepnote_cell_type": "markdown",
    "id": "fe7l2Vy92BWu"
   },
   "source": [
    "# Numpy!\n",
    "\n",
    "This section is all about the package, Numpy. Are you ready? Let's go!\n",
    "\n",
    "You will find some small tasks in sections below. Most codes are hidden and you can only see the output.\n",
    "\n",
    "> Try to figure out by yourself, or search for references. Being able to search and find information needed is an important skill that benefits you and your career for a long time.\n",
    "\n",
    "\n",
    "\n"
   ]
  },
  {
   "cell_type": "markdown",
   "metadata": {
    "cell_id": "7d624a6df76947f89ce7fcabdfdef6b3",
    "deepnote_app_coordinates": {
     "h": 5,
     "w": 12,
     "x": 0,
     "y": 7
    },
    "deepnote_cell_height": 69.59375,
    "deepnote_cell_type": "markdown",
    "id": "eHesfjN3BPg0"
   },
   "source": [
    "## Import the package and rename it as np"
   ]
  },
  {
   "cell_type": "code",
   "execution_count": null,
   "metadata": {
    "cell_id": "e385d77529924ccd9e6dd275c9bbd2a4",
    "deepnote_app_coordinates": {
     "h": 5,
     "w": 12,
     "x": 0,
     "y": 13
    },
    "deepnote_app_is_code_hidden": true,
    "deepnote_cell_type": "code",
    "deepnote_to_be_reexecuted": false,
    "execution_millis": 83455,
    "execution_start": 1664740594740,
    "id": "_QPNs2sOBQMT",
    "source_hash": "c2602aa8"
   },
   "outputs": [],
   "source": [
    "import numpy as np"
   ]
  },
  {
   "cell_type": "markdown",
   "metadata": {
    "cell_id": "72b88926f4724243992dbd799b4d5f6b",
    "deepnote_app_coordinates": {
     "h": 5,
     "w": 12,
     "x": 0,
     "y": 19
    },
    "deepnote_cell_height": 69.59375,
    "deepnote_cell_type": "markdown",
    "id": "TTElGHtF2N7g"
   },
   "source": [
    "## Array Creation"
   ]
  },
  {
   "cell_type": "markdown",
   "metadata": {
    "cell_id": "6cf31a7e4a1047ccac9622632d323298",
    "deepnote_app_coordinates": {
     "h": 5,
     "w": 12,
     "x": 0,
     "y": 25
    },
    "deepnote_cell_height": 61.59375,
    "deepnote_cell_type": "markdown",
    "id": "0CtQu71C3PP8"
   },
   "source": [
    "### Task: Create a numpy array from a list of integers"
   ]
  },
  {
   "cell_type": "code",
   "execution_count": null,
   "metadata": {
    "cell_id": "bb3c56dcd2384713905c252aef280c7e",
    "deepnote_app_coordinates": {
     "h": 5,
     "w": 12,
     "x": 0,
     "y": 31
    },
    "deepnote_app_is_code_hidden": true,
    "deepnote_cell_type": "code",
    "deepnote_to_be_reexecuted": false,
    "execution_millis": 191,
    "execution_start": 1664740594740,
    "id": "MMH_3H9r5wrz",
    "outputId": "756d7f43-39ac-48eb-bcfc-4fb68beb8b38",
    "source_hash": "7fb83082"
   },
   "outputs": [
    {
     "data": {
      "text/plain": [
       "array([1, 2, 3, 4, 5])"
      ]
     },
     "execution_count": 2,
     "metadata": {},
     "output_type": "execute_result"
    }
   ],
   "source": [
    "x = np.array([1, 2, 3, 4, 5])\n",
    "x"
   ]
  },
  {
   "cell_type": "markdown",
   "metadata": {
    "cell_id": "63de87fdc99543cb8a98c76cf2937c70",
    "deepnote_app_coordinates": {
     "h": 5,
     "w": 12,
     "x": 0,
     "y": 37
    },
    "deepnote_cell_height": 93.59375,
    "deepnote_cell_type": "markdown",
    "id": "3FK5QxBO3dqS"
   },
   "source": [
    "### Task: Create a numpy array of size 6, filled with zeros"
   ]
  },
  {
   "cell_type": "code",
   "execution_count": null,
   "metadata": {
    "cell_id": "462738ccd589428888b35fd7915b9e31",
    "deepnote_app_coordinates": {
     "h": 5,
     "w": 12,
     "x": 0,
     "y": 43
    },
    "deepnote_app_is_code_hidden": true,
    "deepnote_cell_type": "code",
    "deepnote_to_be_reexecuted": false,
    "execution_millis": 205,
    "execution_start": 1664740594743,
    "id": "w-XimSI88J1J",
    "outputId": "2a726dc4-c983-44e3-eee4-3e2dbad629d7",
    "source_hash": "781b9d75"
   },
   "outputs": [
    {
     "data": {
      "text/plain": [
       "array([0., 0., 0., 0., 0., 0.])"
      ]
     },
     "execution_count": 3,
     "metadata": {},
     "output_type": "execute_result"
    }
   ],
   "source": [
    "x = np.zeros(6)\n",
    "x"
   ]
  },
  {
   "cell_type": "markdown",
   "metadata": {
    "cell_id": "369be64fee5a418690ab39066b143db2",
    "deepnote_app_coordinates": {
     "h": 5,
     "w": 12,
     "x": 0,
     "y": 49
    },
    "deepnote_cell_height": 93.59375,
    "deepnote_cell_type": "markdown",
    "id": "Db9Fwz4KI2al"
   },
   "source": [
    "### Task: Create a numpy array of size 6, filled with ones"
   ]
  },
  {
   "cell_type": "code",
   "execution_count": null,
   "metadata": {
    "cell_id": "ff00da18e7eb423091729f9104ad11d1",
    "deepnote_app_coordinates": {
     "h": 5,
     "w": 12,
     "x": 0,
     "y": 55
    },
    "deepnote_app_is_code_hidden": true,
    "deepnote_cell_type": "code",
    "deepnote_to_be_reexecuted": false,
    "execution_millis": 207,
    "execution_start": 1664740594748,
    "id": "W-PCGPuPUSTv",
    "outputId": "f58a9be7-2f80-461c-8e28-cbba2aa4aca8",
    "source_hash": "d5ee4131"
   },
   "outputs": [
    {
     "data": {
      "text/plain": [
       "array([1., 1., 1., 1., 1., 1.])"
      ]
     },
     "execution_count": 4,
     "metadata": {},
     "output_type": "execute_result"
    }
   ],
   "source": [
    "x = np.ones(6)\n",
    "x"
   ]
  },
  {
   "cell_type": "markdown",
   "metadata": {
    "cell_id": "e774eabb00b34de9b9b2e4dfdaac29a0",
    "deepnote_app_coordinates": {
     "h": 5,
     "w": 12,
     "x": 0,
     "y": 61
    },
    "deepnote_cell_height": 62,
    "deepnote_cell_type": "markdown",
    "id": "42rLKWbe3l8m"
   },
   "source": [
    "### Task: Create a numpy array with values from 0 to 10"
   ]
  },
  {
   "cell_type": "code",
   "execution_count": null,
   "metadata": {
    "cell_id": "357c82dd535b40ce9a7f26cfae138d3f",
    "deepnote_app_coordinates": {
     "h": 5,
     "w": 12,
     "x": 0,
     "y": 67
    },
    "deepnote_app_is_code_hidden": true,
    "deepnote_cell_type": "code",
    "deepnote_to_be_reexecuted": false,
    "execution_millis": 182,
    "execution_start": 1664740594774,
    "id": "ExbcAYLk8LYI",
    "outputId": "90634e4f-2da2-48bd-ce85-59e46bea0e40",
    "source_hash": "6f5dffbe"
   },
   "outputs": [
    {
     "data": {
      "text/plain": [
       "array([ 0,  1,  2,  3,  4,  5,  6,  7,  8,  9, 10])"
      ]
     },
     "execution_count": 5,
     "metadata": {},
     "output_type": "execute_result"
    }
   ],
   "source": [
    "x = np.arange(11)\n",
    "x"
   ]
  },
  {
   "cell_type": "markdown",
   "metadata": {
    "cell_id": "889dc86e0d4546a7a0c9692669523efc",
    "deepnote_app_coordinates": {
     "h": 5,
     "w": 12,
     "x": 0,
     "y": 73
    },
    "deepnote_cell_height": 94,
    "deepnote_cell_type": "markdown",
    "id": "c5314DLtJVyv"
   },
   "source": [
    "### Task: Create a numpy matrix of 2*3 integers, filled with zeros"
   ]
  },
  {
   "cell_type": "code",
   "execution_count": null,
   "metadata": {
    "cell_id": "b1cdf8e8270447889759c789c17cc796",
    "deepnote_app_coordinates": {
     "h": 5,
     "w": 12,
     "x": 0,
     "y": 79
    },
    "deepnote_app_is_code_hidden": true,
    "deepnote_cell_type": "code",
    "deepnote_to_be_reexecuted": false,
    "execution_millis": 181,
    "execution_start": 1664740594775,
    "id": "JRNBES4MUTV2",
    "outputId": "87b5684e-72b5-4611-f8e6-eff45ef45026",
    "source_hash": "28403821"
   },
   "outputs": [
    {
     "data": {
      "text/plain": [
       "array([[0., 0., 0.],\n",
       "       [0., 0., 0.]])"
      ]
     },
     "execution_count": 6,
     "metadata": {},
     "output_type": "execute_result"
    }
   ],
   "source": [
    "X = np.zeros((2, 3))\n",
    "X"
   ]
  },
  {
   "cell_type": "markdown",
   "metadata": {
    "cell_id": "ed6992dac1804acc8a73f0eb6b6f98ef",
    "deepnote_app_coordinates": {
     "h": 5,
     "w": 12,
     "x": 0,
     "y": 85
    },
    "deepnote_cell_height": 94,
    "deepnote_cell_type": "markdown",
    "id": "tyPLq8JwJcQR"
   },
   "source": [
    "### Task: Create a numpy matrix of 3*2 integers, filled with ones"
   ]
  },
  {
   "cell_type": "code",
   "execution_count": null,
   "metadata": {
    "cell_id": "9186c7a1bf2441ff83cc6e372312a952",
    "deepnote_app_coordinates": {
     "h": 5,
     "w": 12,
     "x": 0,
     "y": 91
    },
    "deepnote_app_is_code_hidden": true,
    "deepnote_cell_type": "code",
    "deepnote_to_be_reexecuted": false,
    "execution_millis": 181,
    "execution_start": 1664740594776,
    "id": "BbZBfz_qUUgf",
    "outputId": "eb902977-fb25-4c76-d58f-71fdc17398fc",
    "source_hash": "6f2c4e40"
   },
   "outputs": [
    {
     "data": {
      "text/plain": [
       "array([[1., 1.],\n",
       "       [1., 1.],\n",
       "       [1., 1.]])"
      ]
     },
     "execution_count": 7,
     "metadata": {},
     "output_type": "execute_result"
    }
   ],
   "source": [
    "X = np.ones((3, 2))\n",
    "X"
   ]
  },
  {
   "cell_type": "markdown",
   "metadata": {
    "cell_id": "c45c13a8fc70463394860ec6cb4e2d5e",
    "deepnote_app_coordinates": {
     "h": 5,
     "w": 12,
     "x": 0,
     "y": 97
    },
    "deepnote_cell_height": 94,
    "deepnote_cell_type": "markdown",
    "id": "oIYfk1CJJs4R"
   },
   "source": [
    "### Task: Create a numpy matrix of 3*2 integers, filled with random integers in [0, 10]"
   ]
  },
  {
   "cell_type": "code",
   "execution_count": null,
   "metadata": {
    "cell_id": "d2cb0c6ffaa74f1e85d0e173e92598ec",
    "deepnote_app_coordinates": {
     "h": 5,
     "w": 12,
     "x": 0,
     "y": 103
    },
    "deepnote_app_is_code_hidden": true,
    "deepnote_cell_type": "code",
    "deepnote_to_be_reexecuted": false,
    "execution_millis": 175,
    "execution_start": 1664740594783,
    "id": "f3rSXHN1UVJt",
    "outputId": "d9613943-d72a-4d8e-fd23-51a198226ff9",
    "source_hash": "6304eb41"
   },
   "outputs": [
    {
     "data": {
      "text/plain": [
       "array([[9, 3],\n",
       "       [9, 8],\n",
       "       [8, 2]])"
      ]
     },
     "execution_count": 8,
     "metadata": {},
     "output_type": "execute_result"
    }
   ],
   "source": [
    "X = np.random.randint(0, 10, (3, 2))\n",
    "X"
   ]
  },
  {
   "cell_type": "markdown",
   "metadata": {
    "cell_id": "fff45f9bf95e45809157e86eb45afc93",
    "deepnote_app_coordinates": {
     "h": 5,
     "w": 12,
     "x": 0,
     "y": 109
    },
    "deepnote_cell_height": 94,
    "deepnote_cell_type": "markdown",
    "id": "-61o4-pCJ7y8"
   },
   "source": [
    "### Task: Create a numpy matrix of 100 * 2, filled with random float value in [0, 1]"
   ]
  },
  {
   "cell_type": "code",
   "execution_count": null,
   "metadata": {
    "cell_id": "d05bc737c9f1451c862547a08663ec45",
    "deepnote_app_coordinates": {
     "h": 5,
     "w": 12,
     "x": 0,
     "y": 115
    },
    "deepnote_app_is_code_hidden": true,
    "deepnote_cell_type": "code",
    "deepnote_to_be_reexecuted": false,
    "execution_millis": 174,
    "execution_start": 1664740594785,
    "id": "NpxV1fsOUVtd",
    "outputId": "2098381e-207d-4683-8855-5bf7895585f2",
    "source_hash": "b0768213"
   },
   "outputs": [
    {
     "data": {
      "text/plain": [
       "array([[0.86993325, 0.50804537],\n",
       "       [0.42063141, 0.6547371 ],\n",
       "       [0.91080167, 0.76571313],\n",
       "       [0.14421514, 0.87630482],\n",
       "       [0.79689773, 0.37132623],\n",
       "       [0.22367667, 0.25620628],\n",
       "       [0.26828924, 0.864981  ],\n",
       "       [0.44090925, 0.45742673],\n",
       "       [0.79426412, 0.78505407],\n",
       "       [0.31754846, 0.0039239 ],\n",
       "       [0.55931054, 0.36177125],\n",
       "       [0.93447121, 0.49561493],\n",
       "       [0.6201546 , 0.44076041],\n",
       "       [0.4212216 , 0.61158727],\n",
       "       [0.30128533, 0.32032619],\n",
       "       [0.70988004, 0.12327019],\n",
       "       [0.98866192, 0.03074422],\n",
       "       [0.21173911, 0.2732957 ],\n",
       "       [0.89852586, 0.02342201],\n",
       "       [0.52150973, 0.57959506],\n",
       "       [0.06279927, 0.00249743],\n",
       "       [0.67876758, 0.89237965],\n",
       "       [0.8615494 , 0.51298976],\n",
       "       [0.71315969, 0.88377509],\n",
       "       [0.45459553, 0.81958311],\n",
       "       [0.88257519, 0.06860784],\n",
       "       [0.30367137, 0.24203548],\n",
       "       [0.68389771, 0.29885327],\n",
       "       [0.41343673, 0.85597743],\n",
       "       [0.41551043, 0.56397876],\n",
       "       [0.95730278, 0.85408894],\n",
       "       [0.25905323, 0.45816369],\n",
       "       [0.96149841, 0.24695246],\n",
       "       [0.91739689, 0.95608249],\n",
       "       [0.27241871, 0.34315565],\n",
       "       [0.34936447, 0.2781561 ],\n",
       "       [0.34156247, 0.12346338],\n",
       "       [0.83808144, 0.89470357],\n",
       "       [0.98879631, 0.10001295],\n",
       "       [0.01995122, 0.82294264],\n",
       "       [0.71430589, 0.39172122],\n",
       "       [0.66249683, 0.49356501],\n",
       "       [0.15400298, 0.42408306],\n",
       "       [0.10691027, 0.66227949],\n",
       "       [0.5134917 , 0.70495927],\n",
       "       [0.07569228, 0.22081919],\n",
       "       [0.36252956, 0.23528747],\n",
       "       [0.87228861, 0.93253899],\n",
       "       [0.55017096, 0.70916113],\n",
       "       [0.19087477, 0.23115305],\n",
       "       [0.13127514, 0.41891137],\n",
       "       [0.46080771, 0.41029969],\n",
       "       [0.90845217, 0.49680636],\n",
       "       [0.01340749, 0.38249083],\n",
       "       [0.02765392, 0.15603757],\n",
       "       [0.69499308, 0.33277539],\n",
       "       [0.06670758, 0.03846533],\n",
       "       [0.49938889, 0.86173192],\n",
       "       [0.79850098, 0.66799581],\n",
       "       [0.38817938, 0.39985889],\n",
       "       [0.87609808, 0.68396813],\n",
       "       [0.56551572, 0.58507591],\n",
       "       [0.4847353 , 0.2389651 ],\n",
       "       [0.06304465, 0.50141227],\n",
       "       [0.52503455, 0.52132782],\n",
       "       [0.17449593, 0.66057542],\n",
       "       [0.66786026, 0.15129948],\n",
       "       [0.50566557, 0.65924307],\n",
       "       [0.29904264, 0.78187436],\n",
       "       [0.52339668, 0.56511205],\n",
       "       [0.3671483 , 0.16688404],\n",
       "       [0.21960163, 0.46475879],\n",
       "       [0.88559904, 0.65218334],\n",
       "       [0.92163617, 0.2982254 ],\n",
       "       [0.45204875, 0.96158777],\n",
       "       [0.99122403, 0.89853063],\n",
       "       [0.40936092, 0.55466683],\n",
       "       [0.41214216, 0.60736039],\n",
       "       [0.39004421, 0.00880833],\n",
       "       [0.16809689, 0.16506019],\n",
       "       [0.61841603, 0.33414528],\n",
       "       [0.46466139, 0.38773717],\n",
       "       [0.42573141, 0.31554644],\n",
       "       [0.4531007 , 0.79259534],\n",
       "       [0.76111648, 0.60489458],\n",
       "       [0.14049367, 0.48695771],\n",
       "       [0.71918161, 0.298823  ],\n",
       "       [0.80608033, 0.35719839],\n",
       "       [0.29122245, 0.9211717 ],\n",
       "       [0.96972041, 0.19558053],\n",
       "       [0.88706825, 0.45861806],\n",
       "       [0.68123739, 0.20552351],\n",
       "       [0.40751615, 0.42968482],\n",
       "       [0.70472467, 0.28082526],\n",
       "       [0.9478971 , 0.90422226],\n",
       "       [0.8952964 , 0.94039881],\n",
       "       [0.53201036, 0.90864747],\n",
       "       [0.80094235, 0.49346328],\n",
       "       [0.31606658, 0.14675121],\n",
       "       [0.10980984, 0.81357347]])"
      ]
     },
     "execution_count": 9,
     "metadata": {},
     "output_type": "execute_result"
    }
   ],
   "source": [
    "X = np.random.random((100, 2))\n",
    "X"
   ]
  },
  {
   "cell_type": "markdown",
   "metadata": {
    "cell_id": "dfdbf45e21b54b0f889e5d899f9a043d",
    "deepnote_app_coordinates": {
     "h": 5,
     "w": 12,
     "x": 0,
     "y": 121
    },
    "deepnote_cell_height": 94,
    "deepnote_cell_type": "markdown",
    "id": "jZ4l3axBJ5tJ"
   },
   "source": [
    "### Task: Create a numpy matrix of 2\\*3\\*4, filled with integers from 1 to 24."
   ]
  },
  {
   "cell_type": "code",
   "execution_count": null,
   "metadata": {
    "cell_id": "dd4181fdbe7944d19c8d9be35fdaa341",
    "deepnote_app_coordinates": {
     "h": 5,
     "w": 12,
     "x": 0,
     "y": 127
    },
    "deepnote_app_is_code_hidden": true,
    "deepnote_cell_type": "code",
    "deepnote_to_be_reexecuted": false,
    "execution_millis": 151,
    "execution_start": 1664740594809,
    "id": "G3AKUvkMUWu2",
    "outputId": "b69ee12d-1df4-4b03-b2cc-02cd42bb49bf",
    "source_hash": "a9571c83"
   },
   "outputs": [
    {
     "data": {
      "text/plain": [
       "array([[[ 1,  2,  3,  4],\n",
       "        [ 5,  6,  7,  8],\n",
       "        [ 9, 10, 11, 12]],\n",
       "\n",
       "       [[13, 14, 15, 16],\n",
       "        [17, 18, 19, 20],\n",
       "        [21, 22, 23, 24]]])"
      ]
     },
     "execution_count": 10,
     "metadata": {},
     "output_type": "execute_result"
    }
   ],
   "source": [
    "X = np.arange(1, 25).reshape(2, 3, 4)\n",
    "X"
   ]
  },
  {
   "cell_type": "markdown",
   "metadata": {
    "cell_id": "bddbc097c1aa45fd8bb1e3f9e0e63901",
    "deepnote_app_coordinates": {
     "h": 5,
     "w": 12,
     "x": 0,
     "y": 133
    },
    "deepnote_cell_height": 70,
    "deepnote_cell_type": "markdown",
    "id": "1ut5x4Zl2RVu"
   },
   "source": [
    "## Array Indexing"
   ]
  },
  {
   "cell_type": "markdown",
   "metadata": {
    "cell_id": "2e0edb9da53940378b27d0465ee96d20",
    "deepnote_app_coordinates": {
     "h": 5,
     "w": 12,
     "x": 0,
     "y": 139
    },
    "deepnote_cell_height": 94,
    "deepnote_cell_type": "markdown",
    "id": "3iWGsCO4KpaD"
   },
   "source": [
    "### Task: Let X be a numpy array, and X = np.array([1, 2, 3, 4, 5])"
   ]
  },
  {
   "cell_type": "code",
   "execution_count": null,
   "metadata": {
    "cell_id": "72ce2806409f48628e96cb27864b4a43",
    "deepnote_app_coordinates": {
     "h": 5,
     "w": 12,
     "x": 0,
     "y": 145
    },
    "deepnote_app_is_code_hidden": true,
    "deepnote_cell_type": "code",
    "deepnote_to_be_reexecuted": false,
    "execution_millis": 0,
    "execution_start": 1664740594811,
    "id": "oloub45JBXL6",
    "source_hash": "b480f2b"
   },
   "outputs": [],
   "source": [
    "X = np.array([1, 2, 3, 4, 5])"
   ]
  },
  {
   "cell_type": "markdown",
   "metadata": {
    "cell_id": "9931735045864edfb9705e8f40cf91c9",
    "deepnote_app_coordinates": {
     "h": 5,
     "w": 12,
     "x": 0,
     "y": 151
    },
    "deepnote_cell_height": 62,
    "deepnote_cell_type": "markdown",
    "id": "dGUiTYKM4XTF"
   },
   "source": [
    "### Task: Show the first element of X"
   ]
  },
  {
   "cell_type": "code",
   "execution_count": null,
   "metadata": {
    "cell_id": "8849781fd3ee40f2b6a3850090cd641e",
    "deepnote_app_coordinates": {
     "h": 5,
     "w": 12,
     "x": 0,
     "y": 157
    },
    "deepnote_app_is_code_hidden": true,
    "deepnote_cell_type": "code",
    "deepnote_to_be_reexecuted": false,
    "execution_millis": 148,
    "execution_start": 1664740594812,
    "id": "MQ9sEgvL8Mph",
    "outputId": "6d8616a2-b1d6-4419-b2cf-b54038b471a5",
    "source_hash": "f3a00d0b"
   },
   "outputs": [
    {
     "data": {
      "text/plain": [
       "1"
      ]
     },
     "execution_count": 12,
     "metadata": {},
     "output_type": "execute_result"
    }
   ],
   "source": [
    "X[0]"
   ]
  },
  {
   "cell_type": "markdown",
   "metadata": {
    "cell_id": "d1744d94a4bd48a5bf6d7e323bfd8a98",
    "deepnote_app_coordinates": {
     "h": 5,
     "w": 12,
     "x": 0,
     "y": 163
    },
    "deepnote_cell_height": 62,
    "deepnote_cell_type": "markdown",
    "id": "VYkj8Sni5SLY"
   },
   "source": [
    "### Task: Show the last element of X"
   ]
  },
  {
   "cell_type": "code",
   "execution_count": null,
   "metadata": {
    "cell_id": "675b3b9a076f4cd3b681db7bf5911f62",
    "deepnote_app_coordinates": {
     "h": 5,
     "w": 12,
     "x": 0,
     "y": 169
    },
    "deepnote_app_is_code_hidden": true,
    "deepnote_cell_type": "code",
    "deepnote_to_be_reexecuted": false,
    "execution_millis": 148,
    "execution_start": 1664740594813,
    "id": "ezJbefBc8NSc",
    "outputId": "d248ef9c-a02f-4c4b-e5c8-ce4b88de5733",
    "source_hash": "edb870c4"
   },
   "outputs": [
    {
     "data": {
      "text/plain": [
       "5"
      ]
     },
     "execution_count": 13,
     "metadata": {},
     "output_type": "execute_result"
    }
   ],
   "source": [
    "X[-1]"
   ]
  },
  {
   "cell_type": "markdown",
   "metadata": {
    "cell_id": "8a0d1e6b3a314a65ad04883305c74621",
    "deepnote_app_coordinates": {
     "h": 5,
     "w": 12,
     "x": 0,
     "y": 175
    },
    "deepnote_cell_height": 62,
    "deepnote_cell_type": "markdown",
    "id": "-BEsJESu4hx0"
   },
   "source": [
    "### Task: Show the first 3 elements of X"
   ]
  },
  {
   "cell_type": "code",
   "execution_count": null,
   "metadata": {
    "cell_id": "9ab33bdf07994a8d8645171216d5a0b9",
    "deepnote_app_coordinates": {
     "h": 5,
     "w": 12,
     "x": 0,
     "y": 181
    },
    "deepnote_app_is_code_hidden": true,
    "deepnote_cell_type": "code",
    "deepnote_to_be_reexecuted": false,
    "execution_millis": 83433,
    "execution_start": 1664740594835,
    "id": "GqsoQylO8Nz4",
    "outputId": "2a2a670d-e47b-45a2-8ad1-abfbd035ff16",
    "source_hash": "9e584014"
   },
   "outputs": [
    {
     "data": {
      "text/plain": [
       "array([1, 2, 3])"
      ]
     },
     "execution_count": 14,
     "metadata": {},
     "output_type": "execute_result"
    }
   ],
   "source": [
    "X[:3]"
   ]
  },
  {
   "cell_type": "markdown",
   "metadata": {
    "cell_id": "8c68aa539db54e35af1e76524fa74dd0",
    "deepnote_app_coordinates": {
     "h": 5,
     "w": 12,
     "x": 0,
     "y": 187
    },
    "deepnote_cell_height": 61.59375,
    "deepnote_cell_type": "markdown",
    "id": "NOLUtTzDLD-l"
   },
   "source": [
    "### Task: Show the last 3 elements of X"
   ]
  },
  {
   "cell_type": "code",
   "execution_count": null,
   "metadata": {
    "cell_id": "928fddc6c67e4790ab78eb6ce6033fef",
    "deepnote_app_coordinates": {
     "h": 5,
     "w": 12,
     "x": 0,
     "y": 193
    },
    "deepnote_app_is_code_hidden": true,
    "deepnote_cell_type": "code",
    "deepnote_to_be_reexecuted": false,
    "execution_millis": 111,
    "execution_start": 1664740594850,
    "id": "p_YG72N2UYjG",
    "outputId": "a817ba98-1eb9-4597-f362-616269ff55b0",
    "source_hash": "60608f21"
   },
   "outputs": [
    {
     "data": {
      "text/plain": [
       "array([3, 4, 5])"
      ]
     },
     "execution_count": 15,
     "metadata": {},
     "output_type": "execute_result"
    }
   ],
   "source": [
    "X[2:]"
   ]
  },
  {
   "cell_type": "markdown",
   "metadata": {
    "cell_id": "290cf7853b0d4e4ab4196e74ff1428c7",
    "deepnote_app_coordinates": {
     "h": 5,
     "w": 12,
     "x": 0,
     "y": 199
    },
    "deepnote_cell_height": 93.59375,
    "deepnote_cell_type": "markdown",
    "id": "_dzBCEzWLG3v"
   },
   "source": [
    "### Task: Show the elements of X whose index is odd (1, 3, 5, ...)"
   ]
  },
  {
   "cell_type": "code",
   "execution_count": null,
   "metadata": {
    "cell_id": "281265d4fb47402b98935a1b28c7651e",
    "deepnote_app_coordinates": {
     "h": 5,
     "w": 12,
     "x": 0,
     "y": 205
    },
    "deepnote_app_is_code_hidden": true,
    "deepnote_cell_type": "code",
    "deepnote_to_be_reexecuted": false,
    "execution_millis": 111,
    "execution_start": 1664740594851,
    "id": "e-G7QckRUZIs",
    "outputId": "422c4d32-2caf-4f17-dd19-2dbb2a4ad930",
    "source_hash": "fae66760"
   },
   "outputs": [
    {
     "data": {
      "text/plain": [
       "array([2, 4])"
      ]
     },
     "execution_count": 16,
     "metadata": {},
     "output_type": "execute_result"
    }
   ],
   "source": [
    "X[1::2]"
   ]
  },
  {
   "cell_type": "markdown",
   "metadata": {
    "cell_id": "573ff5d9fe6f45f5a3525db8c8eb3f8c",
    "deepnote_app_coordinates": {
     "h": 5,
     "w": 12,
     "x": 0,
     "y": 211
    },
    "deepnote_cell_height": 61.59375,
    "deepnote_cell_type": "markdown",
    "id": "tsukfJQ1LabJ"
   },
   "source": [
    "### Task: Show the elements of X except the last one"
   ]
  },
  {
   "cell_type": "code",
   "execution_count": null,
   "metadata": {
    "cell_id": "a0540e612d4b49f7be8c38b63001f290",
    "deepnote_app_coordinates": {
     "h": 5,
     "w": 12,
     "x": 0,
     "y": 217
    },
    "deepnote_app_is_code_hidden": true,
    "deepnote_cell_type": "code",
    "deepnote_to_be_reexecuted": false,
    "execution_millis": 109,
    "execution_start": 1664740594853,
    "id": "PlPO_MgPUZqG",
    "outputId": "74096f82-f20a-4ff8-91a6-e2e443f60048",
    "source_hash": "a1d4d2f5"
   },
   "outputs": [
    {
     "data": {
      "text/plain": [
       "array([1, 2, 3, 4])"
      ]
     },
     "execution_count": 17,
     "metadata": {},
     "output_type": "execute_result"
    }
   ],
   "source": [
    "X[:-1]"
   ]
  },
  {
   "cell_type": "markdown",
   "metadata": {
    "cell_id": "852dee00ed504c4097b4434ce4c0fb3f",
    "deepnote_app_coordinates": {
     "h": 5,
     "w": 12,
     "x": 0,
     "y": 223
    },
    "deepnote_cell_height": 93.59375,
    "deepnote_cell_type": "markdown",
    "id": "8EhDJvC2Lm77"
   },
   "source": [
    "### Task: Let X be a numpy matrix with dimension 3 * 4, and filled from 0 to 11."
   ]
  },
  {
   "cell_type": "code",
   "execution_count": null,
   "metadata": {
    "cell_id": "f4102c527d894a21a4386d22fd2673b4",
    "deepnote_app_coordinates": {
     "h": 5,
     "w": 12,
     "x": 0,
     "y": 229
    },
    "deepnote_app_is_code_hidden": true,
    "deepnote_cell_type": "code",
    "deepnote_to_be_reexecuted": false,
    "execution_millis": 102,
    "execution_start": 1664740594861,
    "id": "vm1dJq31BzpT",
    "outputId": "a768995c-ccd6-471c-911f-5fbeb98daaa1",
    "source_hash": "50375222"
   },
   "outputs": [
    {
     "data": {
      "text/plain": [
       "array([[ 0,  1,  2,  3],\n",
       "       [ 4,  5,  6,  7],\n",
       "       [ 8,  9, 10, 11]])"
      ]
     },
     "execution_count": 18,
     "metadata": {},
     "output_type": "execute_result"
    }
   ],
   "source": [
    "X = np.arange(12).reshape(3, 4)\n",
    "X"
   ]
  },
  {
   "cell_type": "markdown",
   "metadata": {
    "cell_id": "06d589e300e94b589e1a28fd2d0e7d50",
    "deepnote_app_coordinates": {
     "h": 5,
     "w": 12,
     "x": 0,
     "y": 235
    },
    "deepnote_cell_height": 61.59375,
    "deepnote_cell_type": "markdown",
    "id": "hi4_PetZ4oJk"
   },
   "source": [
    "### Task: Show the first row of X"
   ]
  },
  {
   "cell_type": "code",
   "execution_count": null,
   "metadata": {
    "cell_id": "3b3607e4e6794d7789d7ef1f5350476a",
    "deepnote_app_coordinates": {
     "h": 5,
     "w": 12,
     "x": 0,
     "y": 241
    },
    "deepnote_app_is_code_hidden": true,
    "deepnote_cell_type": "code",
    "deepnote_to_be_reexecuted": false,
    "execution_millis": 101,
    "execution_start": 1664740594863,
    "id": "Iwz0Ljxs8OqA",
    "outputId": "cc40b6c0-294a-4fb5-ab17-331e20ac2bdf",
    "source_hash": "f3a00d0b"
   },
   "outputs": [
    {
     "data": {
      "text/plain": [
       "array([0, 1, 2, 3])"
      ]
     },
     "execution_count": 19,
     "metadata": {},
     "output_type": "execute_result"
    }
   ],
   "source": [
    "X[0]"
   ]
  },
  {
   "cell_type": "markdown",
   "metadata": {
    "cell_id": "f395fe73e44b4eaba9cf9d8cba757062",
    "deepnote_app_coordinates": {
     "h": 5,
     "w": 12,
     "x": 0,
     "y": 247
    },
    "deepnote_cell_height": 61.59375,
    "deepnote_cell_type": "markdown",
    "id": "4juNISwiP3jt"
   },
   "source": [
    "### Task: Show the first column of X"
   ]
  },
  {
   "cell_type": "code",
   "execution_count": null,
   "metadata": {
    "cell_id": "12bafe8791c9487a886c7111cf6a8d1d",
    "deepnote_app_coordinates": {
     "h": 5,
     "w": 12,
     "x": 0,
     "y": 253
    },
    "deepnote_app_is_code_hidden": true,
    "deepnote_cell_type": "code",
    "deepnote_to_be_reexecuted": false,
    "execution_millis": 99,
    "execution_start": 1664740594865,
    "id": "dPDgvTVeUakl",
    "outputId": "dc015f68-b626-40a9-92b5-dfe1a7accff0",
    "source_hash": "e5917d5b"
   },
   "outputs": [
    {
     "data": {
      "text/plain": [
       "array([0, 4, 8])"
      ]
     },
     "execution_count": 20,
     "metadata": {},
     "output_type": "execute_result"
    }
   ],
   "source": [
    "X[:,0]"
   ]
  },
  {
   "cell_type": "markdown",
   "metadata": {
    "cell_id": "d9ec926b9dcc47d292263f836bc94e9b",
    "deepnote_app_coordinates": {
     "h": 5,
     "w": 12,
     "x": 0,
     "y": 259
    },
    "deepnote_cell_height": 61.59375,
    "deepnote_cell_type": "markdown",
    "id": "FOhsq6KcP6BX"
   },
   "source": [
    "### Task: Show the first element of the first row of X"
   ]
  },
  {
   "cell_type": "code",
   "execution_count": null,
   "metadata": {
    "cell_id": "5af0e5dbbfd7424e97ae52bb05b859a2",
    "deepnote_app_coordinates": {
     "h": 5,
     "w": 12,
     "x": 0,
     "y": 265
    },
    "deepnote_app_is_code_hidden": true,
    "deepnote_cell_height": 111.578125,
    "deepnote_cell_type": "code",
    "deepnote_output_heights": [
     20.1875
    ],
    "deepnote_to_be_reexecuted": false,
    "execution_millis": 97,
    "execution_start": 1664740594872,
    "id": "HpawggljUbOk",
    "outputId": "2c0226e5-92e7-49c7-ccc6-52d6fb550c50",
    "source_hash": "bc5a72c"
   },
   "outputs": [
    {
     "data": {
      "text/plain": [
       "0"
      ]
     },
     "execution_count": 21,
     "metadata": {},
     "output_type": "execute_result"
    }
   ],
   "source": [
    "X[0,0]"
   ]
  },
  {
   "cell_type": "markdown",
   "metadata": {
    "cell_id": "8338dee5787a431ea95aee0020d7843d",
    "deepnote_app_coordinates": {
     "h": 5,
     "w": 12,
     "x": 0,
     "y": 271
    },
    "deepnote_cell_height": 61.59375,
    "deepnote_cell_type": "markdown",
    "id": "1fCRCWyxP_rX"
   },
   "source": [
    "### Task: Show the last row of X"
   ]
  },
  {
   "cell_type": "code",
   "execution_count": null,
   "metadata": {
    "cell_id": "b6271592c404496481e5dffc2b86c43d",
    "deepnote_app_coordinates": {
     "h": 5,
     "w": 12,
     "x": 0,
     "y": 277
    },
    "deepnote_app_is_code_hidden": true,
    "deepnote_cell_height": 111.578125,
    "deepnote_cell_type": "code",
    "deepnote_output_heights": [
     20.1875
    ],
    "deepnote_to_be_reexecuted": false,
    "execution_millis": 95,
    "execution_start": 1664740594875,
    "id": "hVPhcd5cUby8",
    "outputId": "2d305f10-d40d-416c-899b-641038d9c7fd",
    "source_hash": "edb870c4"
   },
   "outputs": [
    {
     "data": {
      "text/plain": [
       "array([ 8,  9, 10, 11])"
      ]
     },
     "execution_count": 22,
     "metadata": {},
     "output_type": "execute_result"
    }
   ],
   "source": [
    "X[-1]"
   ]
  },
  {
   "cell_type": "markdown",
   "metadata": {
    "cell_id": "ee9953509dd34c16a4271f16996b98f9",
    "deepnote_app_coordinates": {
     "h": 5,
     "w": 12,
     "x": 0,
     "y": 283
    },
    "deepnote_cell_height": 61.59375,
    "deepnote_cell_type": "markdown",
    "id": "VfwEaj7-QB68"
   },
   "source": [
    "### Task: Show the last column of X"
   ]
  },
  {
   "cell_type": "code",
   "execution_count": null,
   "metadata": {
    "cell_id": "596f69c6ca3f4d878569a647d72f8fc5",
    "deepnote_app_coordinates": {
     "h": 5,
     "w": 12,
     "x": 0,
     "y": 289
    },
    "deepnote_app_is_code_hidden": true,
    "deepnote_cell_type": "code",
    "deepnote_to_be_reexecuted": false,
    "execution_millis": 71,
    "execution_start": 1664740594900,
    "id": "R9LK1G9wUcat",
    "outputId": "08299637-f453-4c3b-99ab-85d4c3561a93",
    "source_hash": "227af499"
   },
   "outputs": [
    {
     "data": {
      "text/plain": [
       "array([ 3,  7, 11])"
      ]
     },
     "execution_count": 23,
     "metadata": {},
     "output_type": "execute_result"
    }
   ],
   "source": [
    "X[:,-1]"
   ]
  },
  {
   "cell_type": "markdown",
   "metadata": {
    "cell_id": "2564e6aa723f4c8b95ca1c5a3b89b902",
    "deepnote_app_coordinates": {
     "h": 5,
     "w": 12,
     "x": 0,
     "y": 295
    },
    "deepnote_cell_height": 61.59375,
    "deepnote_cell_type": "markdown",
    "id": "gfnCcIJmQEFZ"
   },
   "source": [
    "### Task: Show the last element of the last row of X"
   ]
  },
  {
   "cell_type": "code",
   "execution_count": null,
   "metadata": {
    "cell_id": "c1cad4c6723f467598a7afb38ecdfa7f",
    "deepnote_app_coordinates": {
     "h": 5,
     "w": 12,
     "x": 0,
     "y": 301
    },
    "deepnote_app_is_code_hidden": true,
    "deepnote_cell_type": "code",
    "deepnote_to_be_reexecuted": false,
    "execution_millis": 70,
    "execution_start": 1664740594901,
    "id": "8cKHG30wUc4-",
    "outputId": "ea563b0f-1096-4c7a-ef74-9275d77ff99c",
    "source_hash": "bc86b63b"
   },
   "outputs": [
    {
     "data": {
      "text/plain": [
       "11"
      ]
     },
     "execution_count": 24,
     "metadata": {},
     "output_type": "execute_result"
    }
   ],
   "source": [
    "X[-1,-1]"
   ]
  },
  {
   "cell_type": "markdown",
   "metadata": {
    "cell_id": "1ce01c9af0bc4432a1aa40b7a1d85080",
    "deepnote_app_coordinates": {
     "h": 5,
     "w": 12,
     "x": 0,
     "y": 307
    },
    "deepnote_cell_height": 61.59375,
    "deepnote_cell_type": "markdown",
    "id": "mavuLFztQGkA"
   },
   "source": [
    "### Task: Show all the rows except the last row of X"
   ]
  },
  {
   "cell_type": "code",
   "execution_count": null,
   "metadata": {
    "cell_id": "d2f61578281a47e18ad02a6d11be55f6",
    "deepnote_app_coordinates": {
     "h": 5,
     "w": 12,
     "x": 0,
     "y": 313
    },
    "deepnote_app_is_code_hidden": true,
    "deepnote_cell_type": "code",
    "deepnote_to_be_reexecuted": false,
    "execution_millis": 69,
    "execution_start": 1664740594903,
    "id": "yqg06Mk9Udeb",
    "outputId": "6e379cd8-738e-4def-c913-87d143744e5f",
    "source_hash": "a1d4d2f5"
   },
   "outputs": [
    {
     "data": {
      "text/plain": [
       "array([[0, 1, 2, 3],\n",
       "       [4, 5, 6, 7]])"
      ]
     },
     "execution_count": 25,
     "metadata": {},
     "output_type": "execute_result"
    }
   ],
   "source": [
    "X[:-1]"
   ]
  },
  {
   "cell_type": "markdown",
   "metadata": {
    "cell_id": "35a4f524783c49fcb4df789e2a9f39ec",
    "deepnote_app_coordinates": {
     "h": 5,
     "w": 12,
     "x": 0,
     "y": 319
    },
    "deepnote_cell_height": 93.59375,
    "deepnote_cell_type": "markdown",
    "id": "gsugFt6CQSv8"
   },
   "source": [
    "### Task: Show all the columns except the last column of X"
   ]
  },
  {
   "cell_type": "code",
   "execution_count": null,
   "metadata": {
    "cell_id": "2f354532fb1a4af7a1d7d69fdfab9fea",
    "deepnote_app_coordinates": {
     "h": 5,
     "w": 12,
     "x": 0,
     "y": 325
    },
    "deepnote_app_is_code_hidden": true,
    "deepnote_cell_type": "code",
    "deepnote_to_be_reexecuted": false,
    "execution_millis": 68,
    "execution_start": 1664740594905,
    "id": "aSmfSj0rUd0d",
    "outputId": "622322ae-965c-44bd-8f99-62beab1f7698",
    "source_hash": "d6fd4411"
   },
   "outputs": [
    {
     "data": {
      "text/plain": [
       "array([[ 0,  1,  2],\n",
       "       [ 4,  5,  6],\n",
       "       [ 8,  9, 10]])"
      ]
     },
     "execution_count": 26,
     "metadata": {},
     "output_type": "execute_result"
    }
   ],
   "source": [
    "X[:,:-1]"
   ]
  },
  {
   "cell_type": "markdown",
   "metadata": {
    "cell_id": "b4e77222ba3e44c2bf2513c97aa13cc9",
    "deepnote_app_coordinates": {
     "h": 5,
     "w": 12,
     "x": 0,
     "y": 331
    },
    "deepnote_cell_height": 93.59375,
    "deepnote_cell_type": "markdown",
    "id": "q39M28ow6Oqj"
   },
   "source": [
    "### Task: Show the first two elements of the first two rows"
   ]
  },
  {
   "cell_type": "code",
   "execution_count": null,
   "metadata": {
    "cell_id": "e61b662a0fc04c628aa1f0093fce747b",
    "deepnote_app_coordinates": {
     "h": 5,
     "w": 12,
     "x": 0,
     "y": 337
    },
    "deepnote_app_is_code_hidden": true,
    "deepnote_cell_type": "code",
    "deepnote_to_be_reexecuted": false,
    "execution_millis": 26,
    "execution_start": 1664740594949,
    "id": "i5tQ-9118PPg",
    "outputId": "27906bce-be34-4c13-b2df-fb729978114a",
    "source_hash": "13a56d4d"
   },
   "outputs": [
    {
     "data": {
      "text/plain": [
       "array([[0, 1],\n",
       "       [4, 5]])"
      ]
     },
     "execution_count": 27,
     "metadata": {},
     "output_type": "execute_result"
    }
   ],
   "source": [
    "X[:2,:2]"
   ]
  },
  {
   "cell_type": "markdown",
   "metadata": {
    "cell_id": "fc04b1e071d54ebc85e22e077b4840a9",
    "deepnote_app_coordinates": {
     "h": 5,
     "w": 12,
     "x": 0,
     "y": 343
    },
    "deepnote_cell_height": 69.59375,
    "deepnote_cell_type": "markdown",
    "id": "BwMQX2n4Ttkk"
   },
   "source": [
    "## Array Statistics"
   ]
  },
  {
   "cell_type": "markdown",
   "metadata": {
    "cell_id": "27fcd2c7e4ff4d9c8269c271bf0d10bf",
    "deepnote_app_coordinates": {
     "h": 5,
     "w": 12,
     "x": 0,
     "y": 349
    },
    "deepnote_cell_height": 93.59375,
    "deepnote_cell_type": "markdown",
    "id": "ZC1IirZtSi13"
   },
   "source": [
    "### Task: Create a numpy array X, print the sum, mean, std, var, max, min of it"
   ]
  },
  {
   "cell_type": "code",
   "execution_count": null,
   "metadata": {
    "cell_id": "5aa6d5a171a4493a946573987053c391",
    "deepnote_app_coordinates": {
     "h": 5,
     "w": 12,
     "x": 0,
     "y": 355
    },
    "deepnote_app_is_code_hidden": true,
    "deepnote_cell_type": "code",
    "deepnote_to_be_reexecuted": false,
    "execution_millis": 25,
    "execution_start": 1664740594950,
    "id": "VDEv57JAUer6",
    "outputId": "022b602b-527e-48a0-bfde-0a96531809fe",
    "source_hash": "80ba9c0a"
   },
   "outputs": [
    {
     "name": "stdout",
     "output_type": "stream",
     "text": [
      "66 5.5 3.452052529534663 11.916666666666666 11 0\n"
     ]
    }
   ],
   "source": [
    "print(X.sum(),X.mean(), X.std(), X.var(), X.max(), X.min())"
   ]
  },
  {
   "cell_type": "markdown",
   "metadata": {
    "cell_id": "62153ef6c9a94821bc6b244583b7a518",
    "deepnote_app_coordinates": {
     "h": 5,
     "w": 12,
     "x": 0,
     "y": 361
    },
    "deepnote_cell_height": 93.59375,
    "deepnote_cell_type": "markdown",
    "id": "0Db2EBujS1x2"
   },
   "source": [
    "### Task: Create a numpy matrix X as n * m, print the sum, mean, std, var, max, min of the 1st row of it."
   ]
  },
  {
   "cell_type": "code",
   "execution_count": null,
   "metadata": {
    "cell_id": "dd272860ff5c4d06a453f9184801b816",
    "deepnote_app_coordinates": {
     "h": 5,
     "w": 12,
     "x": 0,
     "y": 367
    },
    "deepnote_app_is_code_hidden": true,
    "deepnote_cell_type": "code",
    "deepnote_to_be_reexecuted": false,
    "execution_millis": 33,
    "execution_start": 1664740594951,
    "id": "i_PJh-WyUe-h",
    "outputId": "9f1feecd-2b60-4b1b-eff0-ac136349897a",
    "source_hash": "33ca766d"
   },
   "outputs": [
    {
     "name": "stdout",
     "output_type": "stream",
     "text": [
      "6 1.5 1.118033988749895 1.25 3 0\n"
     ]
    }
   ],
   "source": [
    "r1 = X[0]\n",
    "print(r1.sum(),r1.mean(), r1.std(), r1.var(), r1.max(), r1.min())"
   ]
  },
  {
   "cell_type": "markdown",
   "metadata": {
    "cell_id": "3919a20927284b4597dd60fb7d8d4727",
    "deepnote_app_coordinates": {
     "h": 5,
     "w": 12,
     "x": 0,
     "y": 373
    },
    "deepnote_cell_height": 125.59375,
    "deepnote_cell_type": "markdown",
    "id": "MUPGzrQIS8SJ"
   },
   "source": [
    "### Task: Create a numpy matrix X as n * m, print the sum, mean, std, var, max, min of the 1st column of it."
   ]
  },
  {
   "cell_type": "code",
   "execution_count": null,
   "metadata": {
    "cell_id": "c97dafc208a446b1833cef5f1f97b1e7",
    "deepnote_app_coordinates": {
     "h": 5,
     "w": 12,
     "x": 0,
     "y": 379
    },
    "deepnote_app_is_code_hidden": true,
    "deepnote_cell_type": "code",
    "deepnote_to_be_reexecuted": false,
    "execution_millis": 6,
    "execution_start": 1664740594978,
    "id": "d9ufG5uWUfd0",
    "outputId": "b66a287f-b560-4b56-88f9-01ffe2dfd3be",
    "source_hash": "ab2ffb08"
   },
   "outputs": [
    {
     "name": "stdout",
     "output_type": "stream",
     "text": [
      "12 4.0 3.265986323710904 10.666666666666666 8 0\n"
     ]
    }
   ],
   "source": [
    "c1 = X[:,0]\n",
    "print(c1.sum(),c1.mean(), c1.std(), c1.var(), c1.max(), c1.min())"
   ]
  },
  {
   "cell_type": "markdown",
   "metadata": {
    "cell_id": "8f336a17e34040cdb10eab652cf885f2",
    "deepnote_app_coordinates": {
     "h": 5,
     "w": 12,
     "x": 0,
     "y": 385
    },
    "deepnote_cell_height": 69.59375,
    "deepnote_cell_type": "markdown",
    "id": "fl9WXnhTTAol"
   },
   "source": [
    "## Array Linear Algebra"
   ]
  },
  {
   "cell_type": "markdown",
   "metadata": {
    "cell_id": "74a1a08cb6524538a62a53b6851d67ea",
    "deepnote_app_coordinates": {
     "h": 5,
     "w": 12,
     "x": 0,
     "y": 391
    },
    "deepnote_cell_height": 125.59375,
    "deepnote_cell_type": "markdown",
    "id": "Ll4gLDnfSOTv"
   },
   "source": [
    "### Task: Create two numpy matrix X with 2 * 2, and Y with 2 * 2. Practice Linear Algebra operations, such as +, -, *, .T, @, etc. "
   ]
  },
  {
   "cell_type": "code",
   "execution_count": null,
   "metadata": {
    "cell_id": "7ab5d516165d4feb83855c06e78db99c",
    "deepnote_app_coordinates": {
     "h": 5,
     "w": 12,
     "x": 0,
     "y": 397
    },
    "deepnote_app_is_code_hidden": true,
    "deepnote_cell_type": "code",
    "deepnote_to_be_reexecuted": false,
    "execution_millis": 5,
    "execution_start": 1664740594979,
    "id": "T3K8rFcMUgPT",
    "outputId": "ff0918e6-c38f-4ad2-f035-019aaad2e41c",
    "source_hash": "c5d03422"
   },
   "outputs": [
    {
     "name": "stdout",
     "output_type": "stream",
     "text": [
      "[[0 1]\n",
      " [2 3]]\n",
      "[[4 5]\n",
      " [6 7]]\n",
      "[[ 4  6]\n",
      " [ 8 10]]\n",
      "[[-4 -4]\n",
      " [-4 -4]]\n",
      "[[ 0  5]\n",
      " [12 21]]\n",
      "[[0 2]\n",
      " [1 3]]\n",
      "[[ 6  7]\n",
      " [26 31]]\n"
     ]
    }
   ],
   "source": [
    "X = np.array([[0, 1], [2, 3]])\n",
    "Y = np.array([[4, 5], [6, 7]])\n",
    "plus = X + Y\n",
    "minus = X - Y\n",
    "times = X * Y\n",
    "trans = X.T\n",
    "prod = X @ Y\n",
    "print(X)\n",
    "print(Y)\n",
    "print(plus)\n",
    "print(minus)\n",
    "print(times)\n",
    "print(trans)\n",
    "print(prod)"
   ]
  }
 ],
 "metadata": {
  "colab": {
   "provenance": [],
   "toc_visible": true
  },
  "deepnote": {},
  "deepnote_app_layout": "article",
  "deepnote_execution_queue": [],
  "deepnote_notebook_id": "ea0a78f5003e420b9294549d2de07cb3",
  "deepnote_persisted_session": {
   "createdAt": "2022-10-02T20:31:46.191Z"
  },
  "kernelspec": {
   "display_name": "Python 3 (ipykernel)",
   "language": "python",
   "name": "python3"
  },
  "language_info": {
   "codemirror_mode": {
    "name": "ipython",
    "version": 3
   },
   "file_extension": ".py",
   "mimetype": "text/x-python",
   "name": "python",
   "nbconvert_exporter": "python",
   "pygments_lexer": "ipython3",
   "version": "3.12.2"
  }
 },
 "nbformat": 4,
 "nbformat_minor": 4
}
