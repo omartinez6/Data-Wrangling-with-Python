{
 "cells": [
  {
   "cell_type": "markdown",
   "metadata": {
    "id": "ppDpsG5-CVRQ"
   },
   "source": [
    "# Let's warm up your knowledge about Python Functions"
   ]
  },
  {
   "cell_type": "markdown",
   "metadata": {
    "id": "oHK8Z4ABCb99"
   },
   "source": [
    "## Simple functions"
   ]
  },
  {
   "cell_type": "markdown",
   "metadata": {
    "id": "yg5W8YfOC1dA"
   },
   "source": [
    "### Task: Define a function `sayhi()` that:\n",
    "1.  Ask user for an int and save it to `n`.\n",
    "2.  print 'Welcome to Python Functions' n times."
   ]
  },
  {
   "cell_type": "code",
   "execution_count": 4,
   "metadata": {},
   "outputs": [],
   "source": [
    "def sayhi():\n",
    "    n = int(input('Escribe un número entero: '))\n",
    "    print('Welcome to python functions' * n)"
   ]
  },
  {
   "cell_type": "markdown",
   "metadata": {
    "id": "Gb9EIY26DXD7"
   },
   "source": [
    "### Task: Call sayhi()"
   ]
  },
  {
   "cell_type": "code",
   "execution_count": 5,
   "metadata": {},
   "outputs": [
    {
     "name": "stdin",
     "output_type": "stream",
     "text": [
      "Escribe un número entero:  8\n"
     ]
    },
    {
     "name": "stdout",
     "output_type": "stream",
     "text": [
      "Welcome to python functionsWelcome to python functionsWelcome to python functionsWelcome to python functionsWelcome to python functionsWelcome to python functionsWelcome to python functionsWelcome to python functions\n"
     ]
    }
   ],
   "source": [
    "sayhi()"
   ]
  },
  {
   "cell_type": "markdown",
   "metadata": {
    "id": "jNWzC7reDzBK"
   },
   "source": [
    "### Task: Define a function `sayhi(n)` that print 'Welcome to Python Functions' `n` times."
   ]
  },
  {
   "cell_type": "code",
   "execution_count": 6,
   "metadata": {},
   "outputs": [],
   "source": [
    "def sayhi(n):\n",
    "    print('Welcome to python functions' * n)"
   ]
  },
  {
   "cell_type": "markdown",
   "metadata": {
    "id": "nafd3aKWDNZ9"
   },
   "source": [
    "### Task: Call sayhi(n) to print out 5 times"
   ]
  },
  {
   "cell_type": "code",
   "execution_count": 7,
   "metadata": {},
   "outputs": [
    {
     "name": "stdout",
     "output_type": "stream",
     "text": [
      "Welcome to python functionsWelcome to python functionsWelcome to python functionsWelcome to python functionsWelcome to python functions\n"
     ]
    }
   ],
   "source": [
    "sayhi(5)"
   ]
  },
  {
   "cell_type": "markdown",
   "metadata": {
    "id": "Qq3vg5svD9IC"
   },
   "source": [
    "## Advanced functions"
   ]
  },
  {
   "cell_type": "markdown",
   "metadata": {
    "id": "HiO91tK_EALz"
   },
   "source": [
    "### Task: Define a function `sayhi(n)` that:\n",
    "1. `n` is by default 1, if user doesn't pass an argument to the function.\n",
    "2.  print 'Welcome to Python Functions' `n` times."
   ]
  },
  {
   "cell_type": "code",
   "execution_count": 8,
   "metadata": {},
   "outputs": [],
   "source": [
    "def sayhi(n = 1):\n",
    "    print('Welcome to python functions' * n)"
   ]
  },
  {
   "cell_type": "markdown",
   "metadata": {
    "id": "6kl3LMEDEud4"
   },
   "source": [
    "### Task: Call `sayhi(n)` to print out 0, 1, and 5 messages."
   ]
  },
  {
   "cell_type": "code",
   "execution_count": 9,
   "metadata": {},
   "outputs": [
    {
     "name": "stdout",
     "output_type": "stream",
     "text": [
      "\n",
      "Welcome to python functions\n",
      "Welcome to python functionsWelcome to python functionsWelcome to python functionsWelcome to python functionsWelcome to python functions\n"
     ]
    }
   ],
   "source": [
    "sayhi(0)\n",
    "sayhi()\n",
    "sayhi(5)"
   ]
  },
  {
   "cell_type": "markdown",
   "metadata": {
    "id": "xlzwLq_yEZ55"
   },
   "source": [
    "### Task: Define a function `sayhi(n, msg)` that:\n",
    "1. `n` is by default 1, if user doesn't pass an argument to the function.\n",
    "1.  `msg` by default is 'Welcome to Python Functions', if user doesn't pass an argument.\n",
    "1.  print `msg` `n` times."
   ]
  },
  {
   "cell_type": "code",
   "execution_count": 10,
   "metadata": {},
   "outputs": [],
   "source": [
    "def sayhi(n = 1, msg = 'Welcome to Python Functions'):\n",
    "    print(msg * n)"
   ]
  },
  {
   "cell_type": "markdown",
   "metadata": {
    "id": "RC0dRnrqE6ZG"
   },
   "source": [
    "### Task: Call `sayhi(n, msg)` to print out 0, 1, and 5 'Welcome to Python Functions'."
   ]
  },
  {
   "cell_type": "code",
   "execution_count": 11,
   "metadata": {},
   "outputs": [
    {
     "name": "stdout",
     "output_type": "stream",
     "text": [
      "\n",
      "Welcome to Python Functions\n",
      "Welcome to Python FunctionsWelcome to Python FunctionsWelcome to Python FunctionsWelcome to Python FunctionsWelcome to Python Functions\n"
     ]
    }
   ],
   "source": [
    "sayhi(0)\n",
    "sayhi()\n",
    "sayhi(5)"
   ]
  },
  {
   "cell_type": "markdown",
   "metadata": {
    "id": "YZ_vM9tdE_cf"
   },
   "source": [
    "### Task: Call `sayhi(n, msg)` to print out 0, 1, and 5 'yeah'."
   ]
  },
  {
   "cell_type": "code",
   "execution_count": 14,
   "metadata": {},
   "outputs": [
    {
     "name": "stdout",
     "output_type": "stream",
     "text": [
      "\n",
      "yeah\n",
      "yeahyeahyeahyeahyeah\n"
     ]
    }
   ],
   "source": [
    "sayhi(0, 'yeah')\n",
    "sayhi(1, 'yeah')\n",
    "sayhi(5, 'yeah')"
   ]
  },
  {
   "cell_type": "markdown",
   "metadata": {
    "id": "8HoNnuTYFGv5"
   },
   "source": [
    "### Task: Call `sayhi(n, msg)` by keywords to print out 0, 1, and 5 'yeah'. "
   ]
  },
  {
   "cell_type": "code",
   "execution_count": 15,
   "metadata": {},
   "outputs": [
    {
     "name": "stdout",
     "output_type": "stream",
     "text": [
      "\n",
      "yeah\n",
      "yeahyeahyeahyeahyeah\n"
     ]
    }
   ],
   "source": [
    "sayhi(n = 0, msg = 'yeah')\n",
    "sayhi(msg = 'yeah')\n",
    "sayhi(n = 5, msg = 'yeah')"
   ]
  },
  {
   "cell_type": "code",
   "execution_count": null,
   "metadata": {},
   "outputs": [],
   "source": []
  }
 ],
 "metadata": {
  "colab": {
   "authorship_tag": "ABX9TyM14vONwtQKk7K4TDobmY/U",
   "provenance": [],
   "toc_visible": true
  },
  "kernelspec": {
   "display_name": "Python 3 (ipykernel)",
   "language": "python",
   "name": "python3"
  },
  "language_info": {
   "codemirror_mode": {
    "name": "ipython",
    "version": 3
   },
   "file_extension": ".py",
   "mimetype": "text/x-python",
   "name": "python",
   "nbconvert_exporter": "python",
   "pygments_lexer": "ipython3",
   "version": "3.12.2"
  }
 },
 "nbformat": 4,
 "nbformat_minor": 4
}
