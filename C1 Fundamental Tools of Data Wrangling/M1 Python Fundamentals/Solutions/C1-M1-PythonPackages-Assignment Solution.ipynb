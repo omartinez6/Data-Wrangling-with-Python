{
 "cells": [
  {
   "cell_type": "markdown",
   "metadata": {
    "id": "-1FsdnBvWFcJ"
   },
   "source": [
    "# Let's warm up your knowledge about Python Packages!"
   ]
  },
  {
   "cell_type": "markdown",
   "metadata": {
    "id": "7cXFjJLOZap0"
   },
   "source": [
    "# random package"
   ]
  },
  {
   "cell_type": "code",
   "execution_count": 1,
   "metadata": {
    "executionInfo": {
     "elapsed": 7,
     "status": "ok",
     "timestamp": 1680395227257,
     "user": {
      "displayName": "Di Wu",
      "userId": "05255951341257561169"
     },
     "user_tz": 360
    },
    "id": "n7qiruks8HZ5"
   },
   "outputs": [],
   "source": [
    "import random"
   ]
  },
  {
   "cell_type": "markdown",
   "metadata": {
    "id": "TTElGHtF2N7g"
   },
   "source": [
    "## Random Int\n",
    "> hint: use `random.randint()` or `random.randrange()`"
   ]
  },
  {
   "cell_type": "markdown",
   "metadata": {
    "id": "0CtQu71C3PP8"
   },
   "source": [
    "### Task: Generate a random positive integer less than 10. "
   ]
  },
  {
   "cell_type": "code",
   "execution_count": 15,
   "metadata": {
    "colab": {
     "base_uri": "https://localhost:8080/"
    },
    "executionInfo": {
     "elapsed": 141,
     "status": "ok",
     "timestamp": 1680395238488,
     "user": {
      "displayName": "Di Wu",
      "userId": "05255951341257561169"
     },
     "user_tz": 360
    },
    "id": "KZ8xN7r3NC4f",
    "outputId": "6f97bbe0-7211-4367-c51c-13d4b1bfe5ff"
   },
   "outputs": [
    {
     "name": "stdout",
     "output_type": "stream",
     "text": [
      "6\n"
     ]
    }
   ],
   "source": [
    "i = random.randint(1, 9)\n",
    "print(i)"
   ]
  },
  {
   "cell_type": "markdown",
   "metadata": {
    "id": "3FK5QxBO3dqS"
   },
   "source": [
    "### Task: Generate a random integer within 0 (inclusive) and 100 (inclusive)"
   ]
  },
  {
   "cell_type": "code",
   "execution_count": 16,
   "metadata": {
    "colab": {
     "base_uri": "https://localhost:8080/"
    },
    "executionInfo": {
     "elapsed": 183,
     "status": "ok",
     "timestamp": 1680395243645,
     "user": {
      "displayName": "Di Wu",
      "userId": "05255951341257561169"
     },
     "user_tz": 360
    },
    "id": "w-XimSI88J1J",
    "outputId": "2c93cadd-e685-4a64-d6e3-60b24607454b"
   },
   "outputs": [
    {
     "name": "stdout",
     "output_type": "stream",
     "text": [
      "16\n"
     ]
    }
   ],
   "source": [
    "i = random.randint(0, 100)\n",
    "print(i)"
   ]
  },
  {
   "cell_type": "markdown",
   "metadata": {
    "id": "42rLKWbe3l8m"
   },
   "source": [
    "### Task: Generate a random integer within a and b, where a and b are user entered integers and a $<=$ b"
   ]
  },
  {
   "cell_type": "code",
   "execution_count": 17,
   "metadata": {
    "colab": {
     "base_uri": "https://localhost:8080/"
    },
    "executionInfo": {
     "elapsed": 4008,
     "status": "ok",
     "timestamp": 1680395257541,
     "user": {
      "displayName": "Di Wu",
      "userId": "05255951341257561169"
     },
     "user_tz": 360
    },
    "id": "ExbcAYLk8LYI",
    "outputId": "f0b90c1d-8328-470c-96a6-5b3f085256ef"
   },
   "outputs": [
    {
     "name": "stdout",
     "output_type": "stream",
     "text": [
      "Please enter a: 1\n",
      "Please enter b: 100\n",
      "20\n"
     ]
    }
   ],
   "source": [
    "a = int(input('Please enter a: '))\n",
    "b = int(input('Please enter b: '))\n",
    "if a > b:\n",
    "  a, b = b, a\n",
    "i = random.randint(a, b)\n",
    "print(i)"
   ]
  },
  {
   "cell_type": "markdown",
   "metadata": {
    "id": "1ut5x4Zl2RVu"
   },
   "source": [
    "## Random Float\n",
    "> hint: use `random.random()`, `random.uniform()`, or `random.gauss()`"
   ]
  },
  {
   "cell_type": "markdown",
   "metadata": {
    "id": "dGUiTYKM4XTF"
   },
   "source": [
    "### Task: Generate a random float number between 0 and 1"
   ]
  },
  {
   "cell_type": "code",
   "execution_count": null,
   "metadata": {
    "id": "MQ9sEgvL8Mph"
   },
   "outputs": [],
   "source": [
    "f = random.random()\n",
    "print(f)"
   ]
  },
  {
   "cell_type": "markdown",
   "metadata": {
    "id": "VYkj8Sni5SLY"
   },
   "source": [
    "### Task: Generate a random float number between 0 and 10."
   ]
  },
  {
   "cell_type": "code",
   "execution_count": null,
   "metadata": {
    "id": "ezJbefBc8NSc"
   },
   "outputs": [],
   "source": [
    "f = random.uniform(0, 10)\n",
    "print(f)"
   ]
  },
  {
   "cell_type": "markdown",
   "metadata": {
    "id": "-BEsJESu4hx0"
   },
   "source": [
    "### Task: Generate a random float number between 5 and 10"
   ]
  },
  {
   "cell_type": "code",
   "execution_count": null,
   "metadata": {
    "id": "GqsoQylO8Nz4"
   },
   "outputs": [],
   "source": [
    "f = random.uniform(5, 10)\n",
    "print(f)"
   ]
  },
  {
   "cell_type": "markdown",
   "metadata": {
    "id": "hi4_PetZ4oJk"
   },
   "source": [
    "### Task: Generate a random float number based on the Gaussian distribution"
   ]
  },
  {
   "cell_type": "code",
   "execution_count": null,
   "metadata": {
    "id": "Iwz0Ljxs8OqA"
   },
   "outputs": [],
   "source": [
    "f = random.gauss(0, 1)\n",
    "print(f)"
   ]
  },
  {
   "cell_type": "markdown",
   "metadata": {
    "id": "LIUQWee-UGpC"
   },
   "source": [
    "## Random Datasets\n",
    "\n",
    "### Genearte a list of 10 random floats within 0 and 1."
   ]
  },
  {
   "cell_type": "code",
   "execution_count": 28,
   "metadata": {
    "colab": {
     "base_uri": "https://localhost:8080/"
    },
    "executionInfo": {
     "elapsed": 115,
     "status": "ok",
     "timestamp": 1680395778336,
     "user": {
      "displayName": "Di Wu",
      "userId": "05255951341257561169"
     },
     "user_tz": 360
    },
    "id": "ocvCI5-PUPO6",
    "outputId": "bdafad80-c549-42a6-e9a3-88f63913c367"
   },
   "outputs": [
    {
     "data": {
      "text/plain": [
       "[0.1299985004255959,\n",
       " 0.977176979830017,\n",
       " 0.6652971793861331,\n",
       " 0.37447442984241863,\n",
       " 0.5241902074288097,\n",
       " 0.26371217776021805,\n",
       " 0.5770224254012861,\n",
       " 0.22799489506794324,\n",
       " 0.21989806307045578,\n",
       " 0.15203890746620807]"
      ]
     },
     "execution_count": 28,
     "metadata": {},
     "output_type": "execute_result"
    }
   ],
   "source": [
    "l = []\n",
    "for i in range(10):\n",
    "  l.append(random.random())\n",
    "l"
   ]
  },
  {
   "cell_type": "markdown",
   "metadata": {
    "id": "mVmyyufkUKFu"
   },
   "source": [
    "### Generate a list of 10 random integers within 0 and 10."
   ]
  },
  {
   "cell_type": "code",
   "execution_count": 29,
   "metadata": {
    "colab": {
     "base_uri": "https://localhost:8080/"
    },
    "executionInfo": {
     "elapsed": 120,
     "status": "ok",
     "timestamp": 1680395780311,
     "user": {
      "displayName": "Di Wu",
      "userId": "05255951341257561169"
     },
     "user_tz": 360
    },
    "id": "XM9l0PZxUPqI",
    "outputId": "4e189fbd-5fd0-4c3f-97ab-5d18fbeb3de7"
   },
   "outputs": [
    {
     "data": {
      "text/plain": [
       "[9, 10, 5, 9, 10, 6, 3, 7, 7, 5]"
      ]
     },
     "execution_count": 29,
     "metadata": {},
     "output_type": "execute_result"
    }
   ],
   "source": [
    "l = []\n",
    "for i in range(10):\n",
    "  l.append(random.randint(0, 10))\n",
    "l"
   ]
  },
  {
   "cell_type": "markdown",
   "metadata": {
    "id": "AeQnD-btUMvK"
   },
   "source": [
    "### Generate a list of 10 numbers following normal distribution with 10 as mean, and 1 as standard derivation."
   ]
  },
  {
   "cell_type": "code",
   "execution_count": 30,
   "metadata": {
    "colab": {
     "base_uri": "https://localhost:8080/"
    },
    "executionInfo": {
     "elapsed": 123,
     "status": "ok",
     "timestamp": 1680395794287,
     "user": {
      "displayName": "Di Wu",
      "userId": "05255951341257561169"
     },
     "user_tz": 360
    },
    "id": "r_jhPH0mUQKD",
    "outputId": "39dc11bd-ecb5-4931-a738-9386e32b1297"
   },
   "outputs": [
    {
     "data": {
      "text/plain": [
       "[10.903213144199938,\n",
       " 11.682509244714963,\n",
       " 10.608098749534166,\n",
       " 10.573112420952233,\n",
       " 8.95732351464167,\n",
       " 8.219417334810357,\n",
       " 11.286207470174519,\n",
       " 9.644265672440271,\n",
       " 9.293735922609708,\n",
       " 9.113748495501321]"
      ]
     },
     "execution_count": 30,
     "metadata": {},
     "output_type": "execute_result"
    }
   ],
   "source": [
    "l = []\n",
    "for i in range(10):\n",
    "  l.append(random.gauss(10, 1))\n",
    "l"
   ]
  },
  {
   "cell_type": "markdown",
   "metadata": {
    "id": "GPn4oz6p7NnL"
   },
   "source": [
    "## math module"
   ]
  },
  {
   "cell_type": "code",
   "execution_count": 31,
   "metadata": {
    "executionInfo": {
     "elapsed": 4,
     "status": "ok",
     "timestamp": 1680395978624,
     "user": {
      "displayName": "Di Wu",
      "userId": "05255951341257561169"
     },
     "user_tz": 360
    },
    "id": "U3680QNbZ7jA"
   },
   "outputs": [],
   "source": [
    "import math"
   ]
  },
  {
   "cell_type": "markdown",
   "metadata": {
    "id": "q-Jxx3kfZwb2"
   },
   "source": [
    "### Task: return the ceiling, floor, absolute value of a user entered float"
   ]
  },
  {
   "cell_type": "code",
   "execution_count": 36,
   "metadata": {
    "colab": {
     "base_uri": "https://localhost:8080/"
    },
    "executionInfo": {
     "elapsed": 2377,
     "status": "ok",
     "timestamp": 1680396180098,
     "user": {
      "displayName": "Di Wu",
      "userId": "05255951341257561169"
     },
     "user_tz": 360
    },
    "id": "8aa2s1zYghVy",
    "outputId": "1cb5201b-646a-4278-d063-e59161a3e63b"
   },
   "outputs": [
    {
     "name": "stdout",
     "output_type": "stream",
     "text": [
      "Enter a number-3.5\n",
      "x is -3.5 ceiling is  -3 floor is -4 abs is 3.5\n"
     ]
    }
   ],
   "source": [
    "x = float(input('Enter a number'))\n",
    "print('x is', x, 'ceiling is', math.ceil(x), 'floor is', math.floor(x), 'abs is', math.fabs(x))"
   ]
  },
  {
   "cell_type": "markdown",
   "metadata": {
    "id": "n0wytwQnaRJa"
   },
   "source": [
    "### Task: return the factorial of a user entered positive integer"
   ]
  },
  {
   "cell_type": "code",
   "execution_count": 37,
   "metadata": {
    "colab": {
     "base_uri": "https://localhost:8080/"
    },
    "executionInfo": {
     "elapsed": 1447,
     "status": "ok",
     "timestamp": 1680396240982,
     "user": {
      "displayName": "Di Wu",
      "userId": "05255951341257561169"
     },
     "user_tz": 360
    },
    "id": "7ClY456TV_iq",
    "outputId": "cf7e7ce0-f556-47d7-f47d-3fcf630d0c0e"
   },
   "outputs": [
    {
     "name": "stdout",
     "output_type": "stream",
     "text": [
      "Enter a number5\n",
      "x is 5 x! is  120\n"
     ]
    }
   ],
   "source": [
    "x = int(input('Enter a number'))\n",
    "print('x is', x, 'x! is', math.factorial(x))"
   ]
  },
  {
   "cell_type": "markdown",
   "metadata": {
    "id": "LoFxfnQObGNH"
   },
   "source": [
    "### Task: return the square root, $log$, $log_2$, $log_{10}$ of a user entered positive float"
   ]
  },
  {
   "cell_type": "code",
   "execution_count": 40,
   "metadata": {
    "colab": {
     "base_uri": "https://localhost:8080/"
    },
    "executionInfo": {
     "elapsed": 2234,
     "status": "ok",
     "timestamp": 1680396630333,
     "user": {
      "displayName": "Di Wu",
      "userId": "05255951341257561169"
     },
     "user_tz": 360
    },
    "id": "JEqjTdiQa8Fp",
    "outputId": "776e225a-a458-42b9-f255-ccbbd2731717"
   },
   "outputs": [
    {
     "name": "stdout",
     "output_type": "stream",
     "text": [
      "Enter a number2\n",
      "x is 2.0 sqrt(x) is 1.4142135623730951 logx is 0.6931471805599453 log2x is 1.0 log10x is 0.3010299956639812\n"
     ]
    }
   ],
   "source": [
    "x = float(input('Enter a number'))\n",
    "print('x is', x, 'sqrt(x) is', math.sqrt(x), 'logx is', math.log(x), 'log2x is', math.log2(x), 'log10x is', math.log10(x) )"
   ]
  }
 ],
 "metadata": {
  "colab": {
   "authorship_tag": "ABX9TyMzbu9VkwDWU5XwzHQdsKir",
   "provenance": []
  },
  "kernelspec": {
   "display_name": "Python 3 (ipykernel)",
   "language": "python",
   "name": "python3"
  },
  "language_info": {
   "codemirror_mode": {
    "name": "ipython",
    "version": 3
   },
   "file_extension": ".py",
   "mimetype": "text/x-python",
   "name": "python",
   "nbconvert_exporter": "python",
   "pygments_lexer": "ipython3",
   "version": "3.12.2"
  }
 },
 "nbformat": 4,
 "nbformat_minor": 4
}
