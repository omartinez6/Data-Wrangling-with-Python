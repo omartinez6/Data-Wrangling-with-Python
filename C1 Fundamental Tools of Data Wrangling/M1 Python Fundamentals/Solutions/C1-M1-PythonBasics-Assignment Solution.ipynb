{
 "cells": [
  {
   "cell_type": "markdown",
   "metadata": {
    "id": "vO_PVFMSsOfX"
   },
   "source": [
    "# Let's warm up the fundamentals of Python!"
   ]
  },
  {
   "cell_type": "markdown",
   "metadata": {
    "id": "0rf9tXGbsd3j"
   },
   "source": [
    "## Simple Input and Output"
   ]
  },
  {
   "cell_type": "markdown",
   "metadata": {
    "id": "NKvciejQt2TD"
   },
   "source": [
    "### Task: Print a message \"Welcome to Python Basics, `[user's name]`\" using print and input functions"
   ]
  },
  {
   "cell_type": "code",
   "execution_count": null,
   "metadata": {
    "colab": {
     "base_uri": "https://localhost:8080/"
    },
    "executionInfo": {
     "elapsed": 8073,
     "status": "ok",
     "timestamp": 1680386985800,
     "user": {
      "displayName": "Di Wu",
      "userId": "05255951341257561169"
     },
     "user_tz": 360
    },
    "id": "yvijqQFgtink",
    "outputId": "8ef0ca9d-d891-41d5-f0e1-de38b5515401"
   },
   "outputs": [
    {
     "name": "stdout",
     "output_type": "stream",
     "text": [
      "Please enter your nameDi\n",
      "Welcome to Python Basics Di\n"
     ]
    }
   ],
   "source": [
    "print('Welcome to Python Basics', input('Please enter your name'))"
   ]
  },
  {
   "cell_type": "markdown",
   "metadata": {
    "id": "oJSHQdnVshY8"
   },
   "source": [
    "## Simple Variables"
   ]
  },
  {
   "cell_type": "markdown",
   "metadata": {
    "id": "dn5tqpaMuIJK"
   },
   "source": [
    "### Task: Create variables representing a cat (name \"Kat\"), a price (13.50), a grade (95), a flag (True), an interest rate (5.75%), and check their data types."
   ]
  },
  {
   "cell_type": "code",
   "execution_count": null,
   "metadata": {
    "colab": {
     "base_uri": "https://localhost:8080/"
    },
    "executionInfo": {
     "elapsed": 47,
     "status": "ok",
     "timestamp": 1680386985801,
     "user": {
      "displayName": "Di Wu",
      "userId": "05255951341257561169"
     },
     "user_tz": 360
    },
    "id": "ybGcqZQNuqiq",
    "outputId": "505200eb-82d1-40ac-8bcf-cea1b8db4299"
   },
   "outputs": [
    {
     "data": {
      "text/plain": [
       "str"
      ]
     },
     "execution_count": 2,
     "metadata": {},
     "output_type": "execute_result"
    }
   ],
   "source": [
    "cat = 'Kat'\n",
    "type(cat)"
   ]
  },
  {
   "cell_type": "code",
   "execution_count": null,
   "metadata": {
    "colab": {
     "base_uri": "https://localhost:8080/"
    },
    "executionInfo": {
     "elapsed": 41,
     "status": "ok",
     "timestamp": 1680386985801,
     "user": {
      "displayName": "Di Wu",
      "userId": "05255951341257561169"
     },
     "user_tz": 360
    },
    "id": "oObZarwgyx-D",
    "outputId": "3279ae5a-9aa8-4291-bad4-50e871025853"
   },
   "outputs": [
    {
     "data": {
      "text/plain": [
       "float"
      ]
     },
     "execution_count": 3,
     "metadata": {},
     "output_type": "execute_result"
    }
   ],
   "source": [
    "price = 13.50\n",
    "type(price)"
   ]
  },
  {
   "cell_type": "code",
   "execution_count": null,
   "metadata": {
    "colab": {
     "base_uri": "https://localhost:8080/"
    },
    "executionInfo": {
     "elapsed": 39,
     "status": "ok",
     "timestamp": 1680386985802,
     "user": {
      "displayName": "Di Wu",
      "userId": "05255951341257561169"
     },
     "user_tz": 360
    },
    "id": "0DGNVRYGy0CN",
    "outputId": "60d12f94-5a96-416b-a722-65ab8a3afa3c"
   },
   "outputs": [
    {
     "data": {
      "text/plain": [
       "int"
      ]
     },
     "execution_count": 4,
     "metadata": {},
     "output_type": "execute_result"
    }
   ],
   "source": [
    "grade = 95\n",
    "type(grade)"
   ]
  },
  {
   "cell_type": "code",
   "execution_count": null,
   "metadata": {
    "colab": {
     "base_uri": "https://localhost:8080/"
    },
    "executionInfo": {
     "elapsed": 35,
     "status": "ok",
     "timestamp": 1680386985802,
     "user": {
      "displayName": "Di Wu",
      "userId": "05255951341257561169"
     },
     "user_tz": 360
    },
    "id": "1WwhxOGay14e",
    "outputId": "a2ae954b-dcc2-4fc3-bc9f-1a12378efc88"
   },
   "outputs": [
    {
     "data": {
      "text/plain": [
       "bool"
      ]
     },
     "execution_count": 5,
     "metadata": {},
     "output_type": "execute_result"
    }
   ],
   "source": [
    "flag = True\n",
    "type(flag)"
   ]
  },
  {
   "cell_type": "code",
   "execution_count": null,
   "metadata": {
    "colab": {
     "base_uri": "https://localhost:8080/"
    },
    "executionInfo": {
     "elapsed": 33,
     "status": "ok",
     "timestamp": 1680386985802,
     "user": {
      "displayName": "Di Wu",
      "userId": "05255951341257561169"
     },
     "user_tz": 360
    },
    "id": "ykWFIzh1y4et",
    "outputId": "38c9e555-ed07-418e-ad65-a50f90154bb0"
   },
   "outputs": [
    {
     "data": {
      "text/plain": [
       "float"
      ]
     },
     "execution_count": 6,
     "metadata": {},
     "output_type": "execute_result"
    }
   ],
   "source": [
    "INTEREST = 0.575\n",
    "type(INTEREST)"
   ]
  },
  {
   "cell_type": "markdown",
   "metadata": {
    "id": "pfGG8McSsoTJ"
   },
   "source": [
    "## Assignment Operations"
   ]
  },
  {
   "cell_type": "markdown",
   "metadata": {
    "id": "JfbkTDhMusIK"
   },
   "source": [
    "### Task: Swap the value of variable x and y"
   ]
  },
  {
   "cell_type": "code",
   "execution_count": null,
   "metadata": {
    "colab": {
     "base_uri": "https://localhost:8080/"
    },
    "executionInfo": {
     "elapsed": 30,
     "status": "ok",
     "timestamp": 1680386985802,
     "user": {
      "displayName": "Di Wu",
      "userId": "05255951341257561169"
     },
     "user_tz": 360
    },
    "id": "ySXB0G7iy_XK",
    "outputId": "bef5b639-ff6d-436e-adae-27c4e96c097e"
   },
   "outputs": [
    {
     "name": "stdout",
     "output_type": "stream",
     "text": [
      "5 3\n"
     ]
    }
   ],
   "source": [
    "x, y = 3, 5\n",
    "x, y  = y, x\n",
    "print(x, y)"
   ]
  },
  {
   "cell_type": "markdown",
   "metadata": {
    "id": "MycvuyqwvIRx"
   },
   "source": [
    "### Task: Assign variable z with int 5, then with float 5.0, then with string '5.0'. Check the data type for each assignment."
   ]
  },
  {
   "cell_type": "code",
   "execution_count": null,
   "metadata": {
    "colab": {
     "base_uri": "https://localhost:8080/"
    },
    "executionInfo": {
     "elapsed": 28,
     "status": "ok",
     "timestamp": 1680386985802,
     "user": {
      "displayName": "Di Wu",
      "userId": "05255951341257561169"
     },
     "user_tz": 360
    },
    "id": "ZNQTCsDizJ_C",
    "outputId": "c80f3471-cdf0-46ce-ff36-667ed1f39aca"
   },
   "outputs": [
    {
     "data": {
      "text/plain": [
       "int"
      ]
     },
     "execution_count": 8,
     "metadata": {},
     "output_type": "execute_result"
    }
   ],
   "source": [
    "z = 5\n",
    "type(z)"
   ]
  },
  {
   "cell_type": "code",
   "execution_count": null,
   "metadata": {
    "colab": {
     "base_uri": "https://localhost:8080/"
    },
    "executionInfo": {
     "elapsed": 26,
     "status": "ok",
     "timestamp": 1680386985802,
     "user": {
      "displayName": "Di Wu",
      "userId": "05255951341257561169"
     },
     "user_tz": 360
    },
    "id": "QhrtLav4zMkn",
    "outputId": "a85ae9f8-209c-4823-f698-a157d93f6b4e"
   },
   "outputs": [
    {
     "data": {
      "text/plain": [
       "float"
      ]
     },
     "execution_count": 9,
     "metadata": {},
     "output_type": "execute_result"
    }
   ],
   "source": [
    "z = 5.0\n",
    "type(z)"
   ]
  },
  {
   "cell_type": "code",
   "execution_count": null,
   "metadata": {
    "colab": {
     "base_uri": "https://localhost:8080/"
    },
    "executionInfo": {
     "elapsed": 7,
     "status": "ok",
     "timestamp": 1680386985803,
     "user": {
      "displayName": "Di Wu",
      "userId": "05255951341257561169"
     },
     "user_tz": 360
    },
    "id": "Ebd9jbz8zO3y",
    "outputId": "1af872f0-05ff-441b-cdda-2d9bb447705f"
   },
   "outputs": [
    {
     "data": {
      "text/plain": [
       "str"
      ]
     },
     "execution_count": 10,
     "metadata": {},
     "output_type": "execute_result"
    }
   ],
   "source": [
    "z = '5.0'\n",
    "type(z)"
   ]
  },
  {
   "cell_type": "markdown",
   "metadata": {
    "id": "Bzt94I5YsjmI"
   },
   "source": [
    "## Arithmatic Operations"
   ]
  },
  {
   "cell_type": "markdown",
   "metadata": {
    "id": "5pxvucZ4vVep"
   },
   "source": [
    "### Task: Ask the user to type in two positive int, and compute the result of (+, -, *, /, //, **, %)"
   ]
  },
  {
   "cell_type": "code",
   "execution_count": null,
   "metadata": {
    "colab": {
     "base_uri": "https://localhost:8080/"
    },
    "executionInfo": {
     "elapsed": 5852,
     "status": "ok",
     "timestamp": 1680386991649,
     "user": {
      "displayName": "Di Wu",
      "userId": "05255951341257561169"
     },
     "user_tz": 360
    },
    "id": "NZJYrG4AzRO6",
    "outputId": "53357687-54ce-45d6-afe0-4b4d4485f64c"
   },
   "outputs": [
    {
     "name": "stdout",
     "output_type": "stream",
     "text": [
      "Enter one positive int:5\n",
      "Enter another positive int:3\n",
      "5 + 3 = 8\n",
      "5 - 3 = 2\n",
      "5 * 3 = 15\n",
      "5 / 3 = 1.6666666666666667\n",
      "5 // 3 = 1\n",
      "5 % 3 = 2\n"
     ]
    }
   ],
   "source": [
    "x = int(input('Enter one positive int:'))\n",
    "y = int(input('Enter another positive int:'))\n",
    "print(x, '+', y, '=', x + y)\n",
    "print(x, '-', y, '=', x - y)\n",
    "print(x, '*', y, '=', x * y)\n",
    "print(x, '/', y, '=', x / y)\n",
    "print(x, '//', y, '=', x // y)\n",
    "print(x, '%', y, '=', x % y)"
   ]
  },
  {
   "cell_type": "markdown",
   "metadata": {
    "id": "yXpRpk0Kstti"
   },
   "source": [
    "## Relational Operations"
   ]
  },
  {
   "cell_type": "markdown",
   "metadata": {
    "id": "6NmFjmfzvpic"
   },
   "source": [
    "### Task: Ask the user to type in two numbers, and compute the result of (<, <=, ==, >=, >, !=)"
   ]
  },
  {
   "cell_type": "code",
   "execution_count": null,
   "metadata": {
    "colab": {
     "base_uri": "https://localhost:8080/"
    },
    "executionInfo": {
     "elapsed": 3597,
     "status": "ok",
     "timestamp": 1680386995221,
     "user": {
      "displayName": "Di Wu",
      "userId": "05255951341257561169"
     },
     "user_tz": 360
    },
    "id": "sFi_zupEzzAN",
    "outputId": "278f0494-483f-44ed-f63f-110bb958ceb3"
   },
   "outputs": [
    {
     "name": "stdout",
     "output_type": "stream",
     "text": [
      "Enter one number:5\n",
      "Enter another number:3\n",
      "5 < 3 = False\n",
      "5 <= 3 = False\n",
      "5 == 3 = False\n",
      "5 >= 3 = True\n",
      "5 > 3 = True\n",
      "5 != 3 = True\n"
     ]
    }
   ],
   "source": [
    "x = int(input('Enter one number:'))\n",
    "y = int(input('Enter another number:'))\n",
    "print(x, '<', y, '=', x < y)\n",
    "print(x, '<=', y, '=', x <= y)\n",
    "print(x, '==', y, '=', x == y)\n",
    "print(x, '>=', y, '=', x >= y)\n",
    "print(x, '>', y, '=', x >= y)\n",
    "print(x, '!=', y, '=', x != y)"
   ]
  },
  {
   "cell_type": "markdown",
   "metadata": {
    "id": "shMmR1ZVsvgo"
   },
   "source": [
    "## Logical Operations"
   ]
  },
  {
   "cell_type": "markdown",
   "metadata": {
    "id": "yogvvlOLvyRI"
   },
   "source": [
    "### Task: Let x be `True` and y be `False`. Compute and print the result of (and, or, not)"
   ]
  },
  {
   "cell_type": "code",
   "execution_count": null,
   "metadata": {
    "colab": {
     "base_uri": "https://localhost:8080/"
    },
    "executionInfo": {
     "elapsed": 18,
     "status": "ok",
     "timestamp": 1680386995222,
     "user": {
      "displayName": "Di Wu",
      "userId": "05255951341257561169"
     },
     "user_tz": 360
    },
    "id": "Il1QQQG50Fc7",
    "outputId": "96bd047d-d5e0-4912-8c81-3ed89d520fd1"
   },
   "outputs": [
    {
     "name": "stdout",
     "output_type": "stream",
     "text": [
      "True and False = False\n",
      "True or False = True\n",
      "True not False = False\n"
     ]
    }
   ],
   "source": [
    "x = True\n",
    "y = False\n",
    "print(x, 'and', y, '=', x and y)\n",
    "print(x, 'or', y, '=', x or y)\n",
    "print(x, 'not', y, '=', not x)"
   ]
  },
  {
   "cell_type": "markdown",
   "metadata": {
    "id": "ZrauvK3wszGK"
   },
   "source": [
    "## Branching"
   ]
  },
  {
   "cell_type": "markdown",
   "metadata": {
    "id": "YqtEdNxqv-a_"
   },
   "source": [
    "### Task: What day is today?\n",
    "\n",
    "Write a program that asks the user for a number in the range of 1 through 7. The program should display the corresponding day of the week, where\n",
    "\n",
    "* 1    = Monday,\n",
    "* 2    = Tuesday,\n",
    "* 3    = Wednesday,\n",
    "* 4    = Thursday,\n",
    "* 5    = Friday,\n",
    "* 6    = Saturday, and\n",
    "* 7    = Sunday"
   ]
  },
  {
   "cell_type": "code",
   "execution_count": null,
   "metadata": {
    "colab": {
     "base_uri": "https://localhost:8080/"
    },
    "executionInfo": {
     "elapsed": 4255,
     "status": "ok",
     "timestamp": 1680386999472,
     "user": {
      "displayName": "Di Wu",
      "userId": "05255951341257561169"
     },
     "user_tz": 360
    },
    "id": "5zP8Z6NP0qx2",
    "outputId": "a20fbfaf-d752-4bfb-9061-ede128477d27"
   },
   "outputs": [
    {
     "name": "stdout",
     "output_type": "stream",
     "text": [
      "What day is today? 1 - 7:3\n",
      "Wednesday\n"
     ]
    }
   ],
   "source": [
    "day = input('What day is today? 1 - 7:')\n",
    "if day == '1':\n",
    "  print('Monday')\n",
    "elif day == '2':\n",
    "  print('Tuesday')\n",
    "elif day == '3':\n",
    "  print('Wednesday')\n",
    "elif day == '4':\n",
    "  print('Thursday')\n",
    "elif day == '5':\n",
    "  print('Friday')\n",
    "elif day == '6':\n",
    "  print('Saturday')\n",
    "elif day == '7':\n",
    "  print('Sunday')"
   ]
  },
  {
   "cell_type": "markdown",
   "metadata": {
    "id": "h_197FWJ0vG2"
   },
   "source": [
    "### Teasing: Can you do this without branching?"
   ]
  },
  {
   "cell_type": "code",
   "execution_count": null,
   "metadata": {
    "colab": {
     "base_uri": "https://localhost:8080/"
    },
    "executionInfo": {
     "elapsed": 1339,
     "status": "ok",
     "timestamp": 1680387000804,
     "user": {
      "displayName": "Di Wu",
      "userId": "05255951341257561169"
     },
     "user_tz": 360
    },
    "id": "E7eg5XxJ00AO",
    "outputId": "dc1a37f8-0953-4326-8eb8-2fd18d733e85"
   },
   "outputs": [
    {
     "name": "stdout",
     "output_type": "stream",
     "text": [
      "What day is today? 1 - 7: 3\n",
      "Wednesday\n"
     ]
    }
   ],
   "source": [
    "days = ['','Monday', 'Tuesday', 'Wednesday', 'Thursday', 'Friday', 'Saturday', 'Sunday']\n",
    "day = int(input('What day is today? 1 - 7: '))\n",
    "print(days[day])"
   ]
  },
  {
   "cell_type": "markdown",
   "metadata": {
    "id": "iidoIykas0yZ"
   },
   "source": [
    "## Repetition"
   ]
  },
  {
   "cell_type": "markdown",
   "metadata": {
    "id": "meRSoUjZwhSd"
   },
   "source": [
    "### Task: Keep saving until you can retire.\n",
    "\n",
    "Write a program to simulate how to save money for retirement.\n",
    "\n",
    "1.  Asks the user for a number representing a new positive deposit for the retirement fund.\n",
    "1.  Print out the amount of the deposit as well as the balance for each transaction.\n",
    "1.  When the balance is equal or more than 1 million, print a message \"You can retire now\" to the user.\n",
    "1.  Print \"Congratualtions!\" and exit the program."
   ]
  },
  {
   "cell_type": "code",
   "execution_count": null,
   "metadata": {
    "colab": {
     "base_uri": "https://localhost:8080/"
    },
    "executionInfo": {
     "elapsed": 72388,
     "status": "ok",
     "timestamp": 1680387073168,
     "user": {
      "displayName": "Di Wu",
      "userId": "05255951341257561169"
     },
     "user_tz": 360
    },
    "id": "tPHG3NBo23cG",
    "outputId": "30747310-f369-4994-d1f8-34fab624dd02"
   },
   "outputs": [
    {
     "name": "stdout",
     "output_type": "stream",
     "text": [
      "Please enter a positive amount of deposit:50000.5\n",
      "Deposited: 50000.5 and you have balance of 50000.5\n",
      "Please enter a positive amount of deposit:30000\n",
      "Deposited: 30000.0 and you have balance of 80000.5\n",
      "Please enter a positive amount of deposit:800000.25\n",
      "Deposited: 800000.25 and you have balance of 880000.75\n",
      "Please enter a positive amount of deposit:100000.5\n",
      "Deposited: 100000.5 and you have balance of 980001.25\n",
      "Please enter a positive amount of deposit:2345.75\n",
      "Deposited: 2345.75 and you have balance of 982347.0\n",
      "Please enter a positive amount of deposit:12345\n",
      "Deposited: 12345.0 and you have balance of 994692.0\n",
      "Please enter a positive amount of deposit:2345\n",
      "Deposited: 2345.0 and you have balance of 997037.0\n",
      "Please enter a positive amount of deposit:12345\n",
      "Deposited: 12345.0 and you have balance of 1009382.0\n",
      "You can retire now!\n",
      "Congratulations!\n"
     ]
    }
   ],
   "source": [
    "balance = 0\n",
    "\n",
    "while balance < 1000000:\n",
    "  deposit = float(input('Please enter a positive amount of deposit:'))\n",
    "  balance += deposit\n",
    "  print('Deposited:', deposit, 'and you have balance of', balance)\n",
    "print('You can retire now!')\n",
    "print('Congratulations!')"
   ]
  },
  {
   "cell_type": "markdown",
   "metadata": {
    "id": "Wen2IT9h20HY"
   },
   "source": [
    "# Congratualtions!"
   ]
  }
 ],
 "metadata": {
  "colab": {
   "authorship_tag": "ABX9TyO9UdQKVe+0FCOA+ILU3956",
   "provenance": [],
   "toc_visible": true
  },
  "kernelspec": {
   "display_name": "Python 3 (ipykernel)",
   "language": "python",
   "name": "python3"
  },
  "language_info": {
   "codemirror_mode": {
    "name": "ipython",
    "version": 3
   },
   "file_extension": ".py",
   "mimetype": "text/x-python",
   "name": "python",
   "nbconvert_exporter": "python",
   "pygments_lexer": "ipython3",
   "version": "3.12.2"
  }
 },
 "nbformat": 4,
 "nbformat_minor": 4
}
