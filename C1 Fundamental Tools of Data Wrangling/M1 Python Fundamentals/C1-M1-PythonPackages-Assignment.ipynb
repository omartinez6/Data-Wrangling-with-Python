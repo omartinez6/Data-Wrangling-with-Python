{
 "cells": [
  {
   "cell_type": "markdown",
   "metadata": {
    "id": "-1FsdnBvWFcJ"
   },
   "source": [
    "# Let's warm up your knowledge about Python Packages!"
   ]
  },
  {
   "cell_type": "markdown",
   "metadata": {
    "id": "7cXFjJLOZap0"
   },
   "source": [
    "# random package"
   ]
  },
  {
   "cell_type": "code",
   "execution_count": 1,
   "metadata": {
    "executionInfo": {
     "elapsed": 7,
     "status": "ok",
     "timestamp": 1680395227257,
     "user": {
      "displayName": "Di Wu",
      "userId": "05255951341257561169"
     },
     "user_tz": 360
    },
    "id": "n7qiruks8HZ5"
   },
   "outputs": [],
   "source": [
    "import random"
   ]
  },
  {
   "cell_type": "markdown",
   "metadata": {
    "id": "TTElGHtF2N7g"
   },
   "source": [
    "## Random Int\n",
    "> hint: use `random.randint()` or `random.randrange()`"
   ]
  },
  {
   "cell_type": "markdown",
   "metadata": {
    "id": "0CtQu71C3PP8"
   },
   "source": [
    "### Task: Generate a random positive integer less than 10. "
   ]
  },
  {
   "cell_type": "code",
   "execution_count": 2,
   "metadata": {},
   "outputs": [
    {
     "name": "stdout",
     "output_type": "stream",
     "text": [
      "2\n"
     ]
    }
   ],
   "source": [
    "print(random.randint(1,9))"
   ]
  },
  {
   "cell_type": "markdown",
   "metadata": {
    "id": "3FK5QxBO3dqS"
   },
   "source": [
    "### Task: Generate a random integer within 0 (inclusive) and 100 (inclusive)"
   ]
  },
  {
   "cell_type": "code",
   "execution_count": 3,
   "metadata": {},
   "outputs": [
    {
     "name": "stdout",
     "output_type": "stream",
     "text": [
      "27\n"
     ]
    }
   ],
   "source": [
    "print(random.randint(1,100))"
   ]
  },
  {
   "cell_type": "markdown",
   "metadata": {
    "id": "42rLKWbe3l8m"
   },
   "source": [
    "### Task: Generate a random integer within a and b, where a and b are user entered integers and a $<=$ b"
   ]
  },
  {
   "cell_type": "code",
   "execution_count": null,
   "metadata": {},
   "outputs": [],
   "source": [
    "a = int(input('Ingresa un número: '))\n",
    "b = int(input('Ingresa otro número: '))\n",
    "\n",
    "while True:\n",
    "    if a < b:\n",
    "        print(random.randint(a,b))\n",
    "        break\n",
    "    else:\n",
    "        a = int(input('Ingresa un número: '))\n",
    "        b = int(input('Ingresa otro número: '))"
   ]
  },
  {
   "cell_type": "markdown",
   "metadata": {
    "id": "1ut5x4Zl2RVu"
   },
   "source": [
    "## Random Float\n",
    "> hint: use `random.random()`, `random.uniform()`, or `random.gauss()`"
   ]
  },
  {
   "cell_type": "markdown",
   "metadata": {
    "id": "dGUiTYKM4XTF"
   },
   "source": [
    "### Task: Generate a random float number between 0 and 1"
   ]
  },
  {
   "cell_type": "code",
   "execution_count": 5,
   "metadata": {},
   "outputs": [
    {
     "name": "stdout",
     "output_type": "stream",
     "text": [
      "0.33932762623108603\n"
     ]
    }
   ],
   "source": [
    "print(random.random())"
   ]
  },
  {
   "cell_type": "markdown",
   "metadata": {
    "id": "VYkj8Sni5SLY"
   },
   "source": [
    "### Task: Generate a random float number between 0 and 10."
   ]
  },
  {
   "cell_type": "code",
   "execution_count": 6,
   "metadata": {},
   "outputs": [
    {
     "name": "stdout",
     "output_type": "stream",
     "text": [
      "1.9785773013977863\n"
     ]
    }
   ],
   "source": [
    "print(random.uniform(1,10))"
   ]
  },
  {
   "cell_type": "markdown",
   "metadata": {
    "id": "-BEsJESu4hx0"
   },
   "source": [
    "### Task: Generate a random float number between 5 and 10"
   ]
  },
  {
   "cell_type": "code",
   "execution_count": 7,
   "metadata": {},
   "outputs": [
    {
     "name": "stdout",
     "output_type": "stream",
     "text": [
      "6.168570002335251\n"
     ]
    }
   ],
   "source": [
    "print(random.uniform(5,10))"
   ]
  },
  {
   "cell_type": "markdown",
   "metadata": {
    "id": "hi4_PetZ4oJk"
   },
   "source": [
    "### Task: Generate a random float number based on the Gaussian distribution"
   ]
  },
  {
   "cell_type": "code",
   "execution_count": 8,
   "metadata": {},
   "outputs": [
    {
     "name": "stdout",
     "output_type": "stream",
     "text": [
      "0.187835092787475\n"
     ]
    }
   ],
   "source": [
    "print(random.gauss())"
   ]
  },
  {
   "cell_type": "markdown",
   "metadata": {
    "id": "LIUQWee-UGpC"
   },
   "source": [
    "## Random Datasets\n",
    "\n",
    "### Genearte a list of 10 random floats within 0 and 1."
   ]
  },
  {
   "cell_type": "code",
   "execution_count": 10,
   "metadata": {},
   "outputs": [
    {
     "name": "stdout",
     "output_type": "stream",
     "text": [
      "[0.5434248149366608, 0.20286929580998758, 0.4746896489936768, 0.2362641394649463, 0.3268587135002119, 0.44355887973260033, 0.12154132008558627, 0.04319355843950212, 0.1119448085653485, 0.014509380706614894]\n"
     ]
    }
   ],
   "source": [
    "lista = []\n",
    "\n",
    "for i in range(10):\n",
    "    lista.append(random.random())\n",
    "\n",
    "print(lista)"
   ]
  },
  {
   "cell_type": "markdown",
   "metadata": {
    "id": "mVmyyufkUKFu"
   },
   "source": [
    "### Generate a list of 10 random integers within 0 and 10."
   ]
  },
  {
   "cell_type": "code",
   "execution_count": 14,
   "metadata": {},
   "outputs": [
    {
     "name": "stdout",
     "output_type": "stream",
     "text": [
      "[2, 7, 4, 7, 5, 5, 8, 10, 1, 4]\n"
     ]
    }
   ],
   "source": [
    "lista = []\n",
    "\n",
    "for i in range(10):\n",
    "    lista.append(random.randint(0,10))\n",
    "\n",
    "print(lista)"
   ]
  },
  {
   "cell_type": "markdown",
   "metadata": {
    "id": "AeQnD-btUMvK"
   },
   "source": [
    "### Generate a list of 10 numbers following normal distribution with 10 as mean, and 1 as standard derivation."
   ]
  },
  {
   "cell_type": "code",
   "execution_count": 18,
   "metadata": {},
   "outputs": [
    {
     "name": "stdout",
     "output_type": "stream",
     "text": [
      "[10.518132496724721, 10.734045498868861, 8.529839406154345, 9.492702549539802, 11.442038909116981, 9.187709802795306, 11.599643608699763, 10.16345070257775, 9.635791491121623, 10.613606164781293]\n"
     ]
    }
   ],
   "source": [
    "lista = []\n",
    "\n",
    "for i in range(10):\n",
    "    lista.append(random.gauss(mu = 10, sigma = 1))\n",
    "\n",
    "print(lista)"
   ]
  },
  {
   "cell_type": "markdown",
   "metadata": {
    "id": "GPn4oz6p7NnL"
   },
   "source": [
    "## math module"
   ]
  },
  {
   "cell_type": "code",
   "execution_count": 20,
   "metadata": {
    "executionInfo": {
     "elapsed": 4,
     "status": "ok",
     "timestamp": 1680395978624,
     "user": {
      "displayName": "Di Wu",
      "userId": "05255951341257561169"
     },
     "user_tz": 360
    },
    "id": "U3680QNbZ7jA"
   },
   "outputs": [],
   "source": [
    "import math"
   ]
  },
  {
   "cell_type": "markdown",
   "metadata": {
    "id": "q-Jxx3kfZwb2"
   },
   "source": [
    "### Task: return the ceiling, floor, absolute value of a user entered float"
   ]
  },
  {
   "cell_type": "code",
   "execution_count": 24,
   "metadata": {},
   "outputs": [
    {
     "name": "stdin",
     "output_type": "stream",
     "text": [
      "Introduce un número decimal:  55.335823\n"
     ]
    },
    {
     "name": "stdout",
     "output_type": "stream",
     "text": [
      "10\n",
      "9\n",
      "9.856\n"
     ]
    }
   ],
   "source": [
    "floating = float(input('Introduce un número decimal: '))\n",
    "\n",
    "print(math.ceil(flo))\n",
    "print(math.floor(flo))\n",
    "print(math.fabs(flo))"
   ]
  },
  {
   "cell_type": "markdown",
   "metadata": {
    "id": "n0wytwQnaRJa"
   },
   "source": [
    "### Task: return the factorial of a user entered positive integer"
   ]
  },
  {
   "cell_type": "code",
   "execution_count": 28,
   "metadata": {},
   "outputs": [
    {
     "name": "stdin",
     "output_type": "stream",
     "text": [
      "Introduce un número:  65\n"
     ]
    },
    {
     "name": "stdout",
     "output_type": "stream",
     "text": [
      "8247650592082470666723170306785496252186258551345437492922123134388955774976000000000000000\n"
     ]
    }
   ],
   "source": [
    "number = int(input('Introduce un número: '))\n",
    "\n",
    "print(math.factorial(number))"
   ]
  },
  {
   "cell_type": "markdown",
   "metadata": {
    "id": "LoFxfnQObGNH"
   },
   "source": [
    "### Task: return the square root, $log$, $log_2$, $log_{10}$ of a user entered positive float"
   ]
  },
  {
   "cell_type": "code",
   "execution_count": 29,
   "metadata": {},
   "outputs": [
    {
     "name": "stdin",
     "output_type": "stream",
     "text": [
      "Introduce un número positvo:  6\n"
     ]
    },
    {
     "name": "stdout",
     "output_type": "stream",
     "text": [
      "2.449489742783178\n",
      "1.791759469228055\n",
      "2.584962500721156\n",
      "0.7781512503836436\n"
     ]
    }
   ],
   "source": [
    "number = int(input('Introduce un número positvo: '))\n",
    "\n",
    "print(math.sqrt(number))\n",
    "print(math.log(number))\n",
    "print(math.log2(number))\n",
    "print(math.log10(number))"
   ]
  },
  {
   "cell_type": "code",
   "execution_count": null,
   "metadata": {},
   "outputs": [],
   "source": []
  }
 ],
 "metadata": {
  "colab": {
   "authorship_tag": "ABX9TyMEAOgJ2dSz61c2Ec8ekHqM",
   "provenance": []
  },
  "kernelspec": {
   "display_name": "Python 3 (ipykernel)",
   "language": "python",
   "name": "python3"
  },
  "language_info": {
   "codemirror_mode": {
    "name": "ipython",
    "version": 3
   },
   "file_extension": ".py",
   "mimetype": "text/x-python",
   "name": "python",
   "nbconvert_exporter": "python",
   "pygments_lexer": "ipython3",
   "version": "3.12.2"
  }
 },
 "nbformat": 4,
 "nbformat_minor": 4
}
