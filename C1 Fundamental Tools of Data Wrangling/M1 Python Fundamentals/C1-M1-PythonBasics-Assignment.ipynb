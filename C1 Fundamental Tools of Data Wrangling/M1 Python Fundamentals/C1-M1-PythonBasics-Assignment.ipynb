{
 "cells": [
  {
   "cell_type": "markdown",
   "metadata": {
    "id": "vO_PVFMSsOfX"
   },
   "source": [
    "# Let's warm up the fundamentals of Python!\n"
   ]
  },
  {
   "cell_type": "markdown",
   "metadata": {
    "id": "0rf9tXGbsd3j"
   },
   "source": [
    "## Simple Input and Output"
   ]
  },
  {
   "cell_type": "markdown",
   "metadata": {
    "id": "NKvciejQt2TD"
   },
   "source": [
    "### Task: Print a message \"Welcome to Python Basics, `[user's name]`\" using print and input functions"
   ]
  },
  {
   "cell_type": "code",
   "execution_count": 1,
   "metadata": {},
   "outputs": [
    {
     "name": "stdin",
     "output_type": "stream",
     "text": [
      "¿Cuál es tu nombre? Dog\n"
     ]
    },
    {
     "name": "stdout",
     "output_type": "stream",
     "text": [
      "Welcome to python basics, Dog\n"
     ]
    }
   ],
   "source": [
    "name = input('¿Cuál es tu nombre?')\n",
    "print(f'Welcome to python basics, {name}')"
   ]
  },
  {
   "cell_type": "markdown",
   "metadata": {
    "id": "oJSHQdnVshY8"
   },
   "source": [
    "## Simple Variables"
   ]
  },
  {
   "cell_type": "markdown",
   "metadata": {
    "id": "dn5tqpaMuIJK"
   },
   "source": [
    "### Task: Create variables representing a cat (name \"Kat\"), a price (13.50), a grade (95), a flag (True), an interest rate (5.75%), and check their data types."
   ]
  },
  {
   "cell_type": "code",
   "execution_count": 2,
   "metadata": {},
   "outputs": [
    {
     "name": "stdout",
     "output_type": "stream",
     "text": [
      "<class 'str'>\n",
      "<class 'float'>\n",
      "<class 'int'>\n",
      "<class 'bool'>\n",
      "<class 'float'>\n"
     ]
    }
   ],
   "source": [
    "cat = 'Kat'\n",
    "price = 13.5\n",
    "grade = 95\n",
    "flag = True\n",
    "interest_rate = 0.075\n",
    "\n",
    "print(type(cat))\n",
    "print(type(price))\n",
    "print(type(grade))\n",
    "print(type(flag))\n",
    "print(type(interest_rate))"
   ]
  },
  {
   "cell_type": "markdown",
   "metadata": {
    "id": "pfGG8McSsoTJ"
   },
   "source": [
    "## Assignment Operations"
   ]
  },
  {
   "cell_type": "markdown",
   "metadata": {
    "id": "JfbkTDhMusIK"
   },
   "source": [
    "### Task: Swap the value of variable x and y"
   ]
  },
  {
   "cell_type": "code",
   "execution_count": 3,
   "metadata": {},
   "outputs": [
    {
     "name": "stdout",
     "output_type": "stream",
     "text": [
      "2 1\n"
     ]
    }
   ],
   "source": [
    "x = 1\n",
    "y = 2\n",
    "\n",
    "x, y = y, x\n",
    "\n",
    "print(x, y)"
   ]
  },
  {
   "cell_type": "markdown",
   "metadata": {
    "id": "MycvuyqwvIRx"
   },
   "source": [
    "### Task: Assign variable z with int 5, then with float 5.0, then with string '5.0'. Check the data type for each assignment."
   ]
  },
  {
   "cell_type": "code",
   "execution_count": 4,
   "metadata": {},
   "outputs": [
    {
     "name": "stdout",
     "output_type": "stream",
     "text": [
      "<class 'int'>\n",
      "<class 'float'>\n",
      "<class 'str'>\n"
     ]
    }
   ],
   "source": [
    "z = 5\n",
    "print(type(z))\n",
    "\n",
    "z = 5.0\n",
    "print(type(z))\n",
    "\n",
    "z = '5.0'\n",
    "print(type(z))"
   ]
  },
  {
   "cell_type": "markdown",
   "metadata": {
    "id": "Bzt94I5YsjmI"
   },
   "source": [
    "## Arithmatic Operations"
   ]
  },
  {
   "cell_type": "markdown",
   "metadata": {
    "id": "5pxvucZ4vVep"
   },
   "source": [
    "### Task: Ask the user to type in two positive int, and compute the result of (+, -, *, /, //, **, %)"
   ]
  },
  {
   "cell_type": "code",
   "execution_count": 5,
   "metadata": {},
   "outputs": [
    {
     "name": "stdin",
     "output_type": "stream",
     "text": [
      "Introduce un número:  98\n",
      "Introduce otro número:  6\n"
     ]
    },
    {
     "name": "stdout",
     "output_type": "stream",
     "text": [
      "La suma de 98 más 6 es igual a 104\n",
      "La resta de 98 menos 6 es igual a 92\n",
      "El producto de 98 por 6 es igual a 588\n",
      "La división de 98 entre 6 es igual a 16.333333333333332\n",
      "La división entera de 98 entre 6 es igual a 16\n",
      "El resultado de exponenciar 98 a la 6 ptencia es igual a 885842380864\n",
      "El restante de dividir 98 entre 6 es igual a 2\n"
     ]
    }
   ],
   "source": [
    "number_one = int(input('Introduce un número: '))\n",
    "number_two = int(input('Introduce otro número: '))\n",
    "\n",
    "print(f'La suma de {number_one} más {number_two} es igual a {number_one + number_two}')\n",
    "print(f'La resta de {number_one} menos {number_two} es igual a {number_one - number_two}')\n",
    "print(f'El producto de {number_one} por {number_two} es igual a {number_one * number_two}')\n",
    "print(f'La división de {number_one} entre {number_two} es igual a {number_one / number_two}')\n",
    "print(f'La división entera de {number_one} entre {number_two} es igual a {number_one // number_two}')\n",
    "print(f'El resultado de elevar {number_one} a la {number_two} potencia es igual a {number_one ** number_two}')\n",
    "print(f'El restante de dividir {number_one} entre {number_two} es igual a {number_one % number_two}')"
   ]
  },
  {
   "cell_type": "markdown",
   "metadata": {
    "id": "yXpRpk0Kstti"
   },
   "source": [
    "## Relational Operations"
   ]
  },
  {
   "cell_type": "markdown",
   "metadata": {
    "id": "6NmFjmfzvpic"
   },
   "source": [
    "### Task: Ask the user to type in two numbers, and compute the result of (<, <=, ==, >=, >, !=)"
   ]
  },
  {
   "cell_type": "code",
   "execution_count": 7,
   "metadata": {},
   "outputs": [
    {
     "name": "stdin",
     "output_type": "stream",
     "text": [
      "Introduce un número:  98\n",
      "Introduce otro número:  65\n"
     ]
    },
    {
     "name": "stdout",
     "output_type": "stream",
     "text": [
      "98 > 65 es True\n",
      "98 < 65 es False\n",
      "98 >= 65 es True\n",
      "98 <= 65 es False\n",
      "98 == 65 es False\n",
      "98 != 65 es True\n"
     ]
    }
   ],
   "source": [
    "number_one = int(input('Introduce un número: '))\n",
    "number_two = int(input('Introduce otro número: '))\n",
    "\n",
    "print(f'{number_one} > {number_two} es {number_one  > number_two}')\n",
    "print(f'{number_one} < {number_two} es {number_one  < number_two}')\n",
    "print(f'{number_one} >= {number_two} es {number_one  >= number_two}')\n",
    "print(f'{number_one} <= {number_two} es {number_one  <= number_two}')\n",
    "print(f'{number_one} == {number_two} es {number_one  == number_two}')\n",
    "print(f'{number_one} != {number_two} es {number_one  != number_two}')"
   ]
  },
  {
   "cell_type": "markdown",
   "metadata": {
    "id": "shMmR1ZVsvgo"
   },
   "source": [
    "## Logical Operations"
   ]
  },
  {
   "cell_type": "markdown",
   "metadata": {
    "id": "yogvvlOLvyRI"
   },
   "source": [
    "### Task: Let x be `True` and y be `False`. Compute and print the result of (and, or, not)"
   ]
  },
  {
   "cell_type": "code",
   "execution_count": 8,
   "metadata": {},
   "outputs": [
    {
     "name": "stdout",
     "output_type": "stream",
     "text": [
      "False\n",
      "True\n",
      "False\n",
      "True\n"
     ]
    }
   ],
   "source": [
    "x = True\n",
    "y = False\n",
    "\n",
    "print(x and y)\n",
    "print(x or y)\n",
    "print(not x)\n",
    "print(not y)"
   ]
  },
  {
   "cell_type": "markdown",
   "metadata": {
    "id": "ZrauvK3wszGK"
   },
   "source": [
    "## Branching"
   ]
  },
  {
   "cell_type": "markdown",
   "metadata": {
    "id": "YqtEdNxqv-a_"
   },
   "source": [
    "### Task: What day is today?\n",
    "\n",
    "Write a program that asks the user for a number in the range of 1 through 7. The program should display the corresponding day of the week, where\n",
    "\n",
    "* 1    = Monday,\n",
    "* 2    = Tuesday,\n",
    "* 3    = Wednesday,\n",
    "* 4    = Thursday,\n",
    "* 5    = Friday,\n",
    "* 6    = Saturday, and\n",
    "* 7    = Sunday\n",
    "* all other value entered = ERROR"
   ]
  },
  {
   "cell_type": "code",
   "execution_count": 10,
   "metadata": {},
   "outputs": [
    {
     "name": "stdin",
     "output_type": "stream",
     "text": [
      "Ingresa un número:  9\n"
     ]
    },
    {
     "name": "stdout",
     "output_type": "stream",
     "text": [
      "ERROR\n"
     ]
    }
   ],
   "source": [
    "day_number = input('Ingresa un número: ')\n",
    "\n",
    "if day_number == '1':\n",
    "    print('Monday')\n",
    "elif day_number == '2':\n",
    "    print('Tuesday')\n",
    "elif day_number == '3':\n",
    "    print('Wednesday')\n",
    "elif day_number == '4':\n",
    "    print('Thursday')\n",
    "elif day_number == '5':\n",
    "    print('Friday')\n",
    "elif day_number == '6':\n",
    "    print('Saturday')\n",
    "elif day_number == '7':\n",
    "    print('Sunday')\n",
    "else:\n",
    "    print('ERROR')"
   ]
  },
  {
   "cell_type": "markdown",
   "metadata": {
    "id": "iidoIykas0yZ"
   },
   "source": [
    "## Repetition"
   ]
  },
  {
   "cell_type": "markdown",
   "metadata": {
    "id": "meRSoUjZwhSd"
   },
   "source": [
    "### Task: Keep saving until you can retire.\n",
    "\n",
    "Write a program to simulate how to save money for retirement.\n",
    "\n",
    "1.  Asks the user for a number representing a new positive deposit for the retirement fund.\n",
    "1.  Print out the amount of the deposit as well as the balance for each transaction.\n",
    "1.  When the balance is equal or more than 1 million, print a message \"You can retire now\" to the user.\n",
    "1.  Print \"Congratualtions!\" and exit the program."
   ]
  },
  {
   "cell_type": "code",
   "execution_count": 12,
   "metadata": {},
   "outputs": [
    {
     "name": "stdin",
     "output_type": "stream",
     "text": [
      "Ingresa la cantidad a ahorrar:  5\n"
     ]
    },
    {
     "name": "stdout",
     "output_type": "stream",
     "text": [
      "Ahorraste 5.0\n",
      "Tus ahorros alcanzaron 5.0\n"
     ]
    },
    {
     "name": "stdin",
     "output_type": "stream",
     "text": [
      "Ingresa la cantidad a ahorrar:  19\n"
     ]
    },
    {
     "name": "stdout",
     "output_type": "stream",
     "text": [
      "Ahorraste 19.0\n",
      "Tus ahorros alcanzaron 24.0\n"
     ]
    },
    {
     "name": "stdin",
     "output_type": "stream",
     "text": [
      "Ingresa la cantidad a ahorrar:  2584\n"
     ]
    },
    {
     "name": "stdout",
     "output_type": "stream",
     "text": [
      "Ahorraste 2584.0\n",
      "Tus ahorros alcanzaron 2608.0\n"
     ]
    },
    {
     "name": "stdin",
     "output_type": "stream",
     "text": [
      "Ingresa la cantidad a ahorrar:  65542\n"
     ]
    },
    {
     "name": "stdout",
     "output_type": "stream",
     "text": [
      "Ahorraste 65542.0\n",
      "Tus ahorros alcanzaron 68150.0\n"
     ]
    },
    {
     "name": "stdin",
     "output_type": "stream",
     "text": [
      "Ingresa la cantidad a ahorrar:  25425\n"
     ]
    },
    {
     "name": "stdout",
     "output_type": "stream",
     "text": [
      "Ahorraste 25425.0\n",
      "Tus ahorros alcanzaron 93575.0\n"
     ]
    },
    {
     "name": "stdin",
     "output_type": "stream",
     "text": [
      "Ingresa la cantidad a ahorrar:  52558254123\n"
     ]
    },
    {
     "name": "stdout",
     "output_type": "stream",
     "text": [
      "Ahorraste 52558254123.0\n",
      "Tus ahorros alcanzaron 52558347698.0\n",
      "You can retire now\n",
      "Congratulations!\n"
     ]
    }
   ],
   "source": [
    "savings = 0\n",
    "while True:\n",
    "    save = float(input('Ingresa la cantidad a ahorrar: '))\n",
    "    savings += save\n",
    "    print(f'Ahorraste {save}')\n",
    "    print(f'Tus ahorros alcanzaron {savings}')\n",
    "    if savings >= 1000000:\n",
    "        print('You can retire now')\n",
    "        print('Congratulations!')\n",
    "        break"
   ]
  }
 ],
 "metadata": {
  "colab": {
   "authorship_tag": "ABX9TyOMmyAJftq/W9PVtpr+FWrw",
   "provenance": [],
   "toc_visible": true
  },
  "kernelspec": {
   "display_name": "Python 3 (ipykernel)",
   "language": "python",
   "name": "python3"
  },
  "language_info": {
   "codemirror_mode": {
    "name": "ipython",
    "version": 3
   },
   "file_extension": ".py",
   "mimetype": "text/x-python",
   "name": "python",
   "nbconvert_exporter": "python",
   "pygments_lexer": "ipython3",
   "version": "3.12.2"
  }
 },
 "nbformat": 4,
 "nbformat_minor": 4
}
