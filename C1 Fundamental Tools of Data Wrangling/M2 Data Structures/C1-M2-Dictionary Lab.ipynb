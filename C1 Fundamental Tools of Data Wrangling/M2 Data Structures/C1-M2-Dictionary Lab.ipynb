{
 "cells": [
  {
   "cell_type": "markdown",
   "metadata": {
    "cell_id": "8a2a2db403ec4b9d855e0c94b18c81c6",
    "deepnote_app_coordinates": {
     "h": 5,
     "w": 12,
     "x": 0,
     "y": 1
    },
    "deepnote_cell_type": "markdown",
    "id": "vhIfpKue3F8M",
    "tags": []
   },
   "source": [
    "# Lab Dictionary"
   ]
  },
  {
   "cell_type": "markdown",
   "metadata": {
    "cell_id": "86ee79beadcc42428c1eb925513b6899",
    "deepnote_app_coordinates": {
     "h": 5,
     "w": 12,
     "x": 0,
     "y": 7
    },
    "deepnote_cell_type": "markdown",
    "id": "0o65JD603F8P",
    "tags": []
   },
   "source": [
    "## Data We Want to Organize\n",
    "You are given a dataset as below represented as a list. You should organize them in the required data structure in following tasks."
   ]
  },
  {
   "cell_type": "code",
   "execution_count": 15,
   "metadata": {
    "cell_id": "1f194b2d55b24733b200a9b8fd669a3c",
    "deepnote_app_coordinates": {
     "h": 5,
     "w": 12,
     "x": 0,
     "y": 13
    },
    "deepnote_cell_type": "code",
    "deepnote_to_be_reexecuted": false,
    "execution_millis": 276518,
    "execution_start": 1668293746532,
    "id": "cp3LCCZM3F8P",
    "source_hash": "d1526c0",
    "tags": []
   },
   "outputs": [
    {
     "data": {
      "text/plain": [
       "['STU100',\n",
       " 'STU101',\n",
       " 'STU102',\n",
       " 'STU103',\n",
       " 'STU104',\n",
       " 'STU105',\n",
       " 'STU106',\n",
       " 'STU107',\n",
       " 'STU108',\n",
       " 'STU109',\n",
       " 'STU110',\n",
       " 'STU111',\n",
       " 'STU112',\n",
       " 'STU113',\n",
       " 'STU114',\n",
       " 'STU115',\n",
       " 'STU116',\n",
       " 'STU117',\n",
       " 'STU118',\n",
       " 'STU119',\n",
       " 'STU120',\n",
       " 'STU121',\n",
       " 'STU122',\n",
       " 'STU123',\n",
       " 'STU124',\n",
       " 'STU125',\n",
       " 'STU126',\n",
       " 'STU127',\n",
       " 'STU128',\n",
       " 'STU129',\n",
       " 'STU130',\n",
       " 'STU131',\n",
       " 'STU132',\n",
       " 'STU133',\n",
       " 'STU134',\n",
       " 'STU135',\n",
       " 'STU136',\n",
       " 'STU137',\n",
       " 'STU138',\n",
       " 'STU139',\n",
       " 'STU140',\n",
       " 'STU141',\n",
       " 'STU142',\n",
       " 'STU143',\n",
       " 'STU144',\n",
       " 'STU145',\n",
       " 'STU146',\n",
       " 'STU147']"
      ]
     },
     "execution_count": 15,
     "metadata": {},
     "output_type": "execute_result"
    }
   ],
   "source": [
    "SIZE = 48\n",
    "names = ['STU' + str(i) for i in range(100,100+SIZE)]\n",
    "names"
   ]
  },
  {
   "cell_type": "code",
   "execution_count": 16,
   "metadata": {
    "cell_id": "786ae477329b4e8cbb0b02c18cbc5107",
    "deepnote_app_coordinates": {
     "h": 5,
     "w": 12,
     "x": 0,
     "y": 19
    },
    "deepnote_cell_type": "code",
    "deepnote_to_be_reexecuted": false,
    "execution_millis": 580,
    "execution_start": 1668293746579,
    "id": "N4paz_Pz3F8R",
    "source_hash": "3478a76d",
    "tags": []
   },
   "outputs": [
    {
     "data": {
      "text/plain": [
       "[60,\n",
       " 69,\n",
       " 80,\n",
       " 60,\n",
       " 99,\n",
       " 70,\n",
       " 99,\n",
       " 79,\n",
       " 89,\n",
       " 81,\n",
       " 71,\n",
       " 85,\n",
       " 95,\n",
       " 96,\n",
       " 72,\n",
       " 60,\n",
       " 82,\n",
       " 100,\n",
       " 89,\n",
       " 95,\n",
       " 99,\n",
       " 96,\n",
       " 99,\n",
       " 87,\n",
       " 97,\n",
       " 79,\n",
       " 87,\n",
       " 97,\n",
       " 83,\n",
       " 78,\n",
       " 65,\n",
       " 90,\n",
       " 81,\n",
       " 87,\n",
       " 92,\n",
       " 74,\n",
       " 93,\n",
       " 68,\n",
       " 89,\n",
       " 97,\n",
       " 69,\n",
       " 99,\n",
       " 67,\n",
       " 70,\n",
       " 83,\n",
       " 60,\n",
       " 60,\n",
       " 94]"
      ]
     },
     "execution_count": 16,
     "metadata": {},
     "output_type": "execute_result"
    }
   ],
   "source": [
    "import random\n",
    "\n",
    "scores1 = [random.randint(60, 100) for i in range(SIZE)]\n",
    "scores1"
   ]
  },
  {
   "cell_type": "code",
   "execution_count": 17,
   "metadata": {
    "id": "ltD_PRqG5h3Y"
   },
   "outputs": [
    {
     "data": {
      "text/plain": [
       "[83,\n",
       " 62,\n",
       " 92,\n",
       " 80,\n",
       " 61,\n",
       " 73,\n",
       " 96,\n",
       " 68,\n",
       " 95,\n",
       " 86,\n",
       " 74,\n",
       " 81,\n",
       " 75,\n",
       " 100,\n",
       " 82,\n",
       " 99,\n",
       " 89,\n",
       " 92,\n",
       " 83,\n",
       " 78,\n",
       " 70,\n",
       " 69,\n",
       " 98,\n",
       " 79,\n",
       " 65,\n",
       " 98,\n",
       " 80,\n",
       " 69,\n",
       " 69,\n",
       " 95,\n",
       " 87,\n",
       " 95,\n",
       " 72,\n",
       " 72,\n",
       " 94,\n",
       " 87,\n",
       " 76,\n",
       " 64,\n",
       " 74,\n",
       " 63,\n",
       " 69,\n",
       " 64,\n",
       " 98,\n",
       " 60,\n",
       " 77,\n",
       " 62,\n",
       " 93,\n",
       " 81]"
      ]
     },
     "execution_count": 17,
     "metadata": {},
     "output_type": "execute_result"
    }
   ],
   "source": [
    "scores2 = [random.randint(60, 100) for i in range(SIZE)]\n",
    "scores2"
   ]
  },
  {
   "cell_type": "markdown",
   "metadata": {
    "cell_id": "ccd6016b85674d38a91c784b836af3ae",
    "deepnote_app_coordinates": {
     "h": 5,
     "w": 12,
     "x": 0,
     "y": 499
    },
    "deepnote_cell_type": "markdown",
    "id": "wpkcF6Fc3F8k",
    "tags": []
   },
   "source": [
    "## Dictionary"
   ]
  },
  {
   "cell_type": "markdown",
   "metadata": {
    "cell_id": "4fb41903e3f84f6f9b037549eb17e5d7",
    "deepnote_app_coordinates": {
     "h": 5,
     "w": 12,
     "x": 0,
     "y": 505
    },
    "deepnote_cell_type": "markdown",
    "id": "eFM3bIkh3F8k",
    "tags": []
   },
   "source": [
    "### Task: Create a dictionary `d1`, in which names as key and scores1 as values"
   ]
  },
  {
   "cell_type": "code",
   "execution_count": 18,
   "metadata": {
    "cell_id": "421a0ccd81f34fe0a146d9ebd546162c",
    "deepnote_app_coordinates": {
     "h": 5,
     "w": 12,
     "x": 0,
     "y": 511
    },
    "deepnote_cell_type": "code",
    "deepnote_to_be_reexecuted": false,
    "execution_millis": 259,
    "execution_start": 1668293747067,
    "id": "6O9hdUjT3F8k",
    "source_hash": "622c411e",
    "tags": []
   },
   "outputs": [
    {
     "name": "stdout",
     "output_type": "stream",
     "text": [
      "{'STU100': 60, 'STU101': 69, 'STU102': 80, 'STU103': 60, 'STU104': 99, 'STU105': 70, 'STU106': 99, 'STU107': 79, 'STU108': 89, 'STU109': 81, 'STU110': 71, 'STU111': 85, 'STU112': 95, 'STU113': 96, 'STU114': 72, 'STU115': 60, 'STU116': 82, 'STU117': 100, 'STU118': 89, 'STU119': 95, 'STU120': 99, 'STU121': 96, 'STU122': 99, 'STU123': 87, 'STU124': 97, 'STU125': 79, 'STU126': 87, 'STU127': 97, 'STU128': 83, 'STU129': 78, 'STU130': 65, 'STU131': 90, 'STU132': 81, 'STU133': 87, 'STU134': 92, 'STU135': 74, 'STU136': 93, 'STU137': 68, 'STU138': 89, 'STU139': 97, 'STU140': 69, 'STU141': 99, 'STU142': 67, 'STU143': 70, 'STU144': 83, 'STU145': 60, 'STU146': 60, 'STU147': 94}\n"
     ]
    }
   ],
   "source": [
    "# your code is here\n",
    "d1 = {name: grade for name, grade in zip(names, scores1)}\n",
    "print(d1)"
   ]
  },
  {
   "cell_type": "markdown",
   "metadata": {
    "cell_id": "610b56247ac4444f8e81930354deaf81",
    "deepnote_app_coordinates": {
     "h": 5,
     "w": 12,
     "x": 0,
     "y": 517
    },
    "deepnote_cell_type": "markdown",
    "id": "f8dSrMzl3F8k",
    "tags": []
   },
   "source": [
    "### Task: Print the score of the student with name 'STU136'"
   ]
  },
  {
   "cell_type": "code",
   "execution_count": 19,
   "metadata": {
    "cell_id": "f037232b8d0a449c9075f07efb72b75e",
    "deepnote_app_coordinates": {
     "h": 5,
     "w": 12,
     "x": 0,
     "y": 523
    },
    "deepnote_cell_type": "code",
    "deepnote_to_be_reexecuted": false,
    "execution_millis": 258,
    "execution_start": 1668293747068,
    "id": "P1ukGGd23F8k",
    "source_hash": "93ddea9b",
    "tags": []
   },
   "outputs": [
    {
     "name": "stdout",
     "output_type": "stream",
     "text": [
      "93\n"
     ]
    }
   ],
   "source": [
    "# your code is here\n",
    "print(d1['STU136'])"
   ]
  },
  {
   "cell_type": "markdown",
   "metadata": {
    "cell_id": "2049405d2b4741d1a63a91cd352d7363",
    "deepnote_app_coordinates": {
     "h": 5,
     "w": 12,
     "x": 0,
     "y": 529
    },
    "deepnote_cell_type": "markdown",
    "id": "eSHF738x3F8k",
    "tags": []
   },
   "source": [
    "### Task: Create a dictionary `d2`, in which names as key and scores2 as values"
   ]
  },
  {
   "cell_type": "code",
   "execution_count": 20,
   "metadata": {
    "cell_id": "0a8d81652a2b4967ba9c9cf961dc8205",
    "deepnote_app_coordinates": {
     "h": 5,
     "w": 12,
     "x": 0,
     "y": 535
    },
    "deepnote_cell_type": "code",
    "deepnote_to_be_reexecuted": false,
    "execution_millis": 258,
    "execution_start": 1668293747069,
    "id": "J8w3ELTi3F8k",
    "source_hash": "509e464a",
    "tags": []
   },
   "outputs": [
    {
     "name": "stdout",
     "output_type": "stream",
     "text": [
      "{'STU100': 83, 'STU101': 62, 'STU102': 92, 'STU103': 80, 'STU104': 61, 'STU105': 73, 'STU106': 96, 'STU107': 68, 'STU108': 95, 'STU109': 86, 'STU110': 74, 'STU111': 81, 'STU112': 75, 'STU113': 100, 'STU114': 82, 'STU115': 99, 'STU116': 89, 'STU117': 92, 'STU118': 83, 'STU119': 78, 'STU120': 70, 'STU121': 69, 'STU122': 98, 'STU123': 79, 'STU124': 65, 'STU125': 98, 'STU126': 80, 'STU127': 69, 'STU128': 69, 'STU129': 95, 'STU130': 87, 'STU131': 95, 'STU132': 72, 'STU133': 72, 'STU134': 94, 'STU135': 87, 'STU136': 76, 'STU137': 64, 'STU138': 74, 'STU139': 63, 'STU140': 69, 'STU141': 64, 'STU142': 98, 'STU143': 60, 'STU144': 77, 'STU145': 62, 'STU146': 93, 'STU147': 81}\n"
     ]
    }
   ],
   "source": [
    "# your code is here\n",
    "d2 = {name: grade for name, grade in zip(names, scores2)}\n",
    "print(d2)"
   ]
  },
  {
   "cell_type": "markdown",
   "metadata": {
    "cell_id": "9c92d0ac103d483a9c41ee5600b8004d",
    "deepnote_app_coordinates": {
     "h": 5,
     "w": 12,
     "x": 0,
     "y": 541
    },
    "deepnote_cell_type": "markdown",
    "id": "blZAEhar3F8k",
    "tags": []
   },
   "source": [
    "Task: Print the names of student whose score is 88"
   ]
  },
  {
   "cell_type": "code",
   "execution_count": 21,
   "metadata": {
    "cell_id": "88ddabebf0994c5c93781ffe4186af89",
    "deepnote_app_coordinates": {
     "h": 5,
     "w": 12,
     "x": 0,
     "y": 547
    },
    "deepnote_cell_type": "code",
    "deepnote_to_be_reexecuted": false,
    "execution_millis": 249,
    "execution_start": 1668293747078,
    "id": "qt9uwCHZ3F8l",
    "source_hash": "af038eab",
    "tags": []
   },
   "outputs": [],
   "source": [
    "# your code is here\n",
    "for name in d2:\n",
    "    if d2[name] == 88:\n",
    "        print(name)"
   ]
  },
  {
   "cell_type": "markdown",
   "metadata": {
    "cell_id": "123073fbda154d4290b73bd55909c37f",
    "deepnote_app_coordinates": {
     "h": 5,
     "w": 12,
     "x": 0,
     "y": 553
    },
    "deepnote_cell_type": "markdown",
    "id": "52Sad7r63F8l",
    "tags": []
   },
   "source": [
    "### Task: Createa a dictionary `d3`, in which names as key, and a list of scores as value. The list of scores has two elements: the first one is from scores1, and the second one is from scores2."
   ]
  },
  {
   "cell_type": "code",
   "execution_count": 23,
   "metadata": {
    "cell_id": "9477ae40e7f445e0ae032bfd907692ef",
    "deepnote_app_coordinates": {
     "h": 5,
     "w": 12,
     "x": 0,
     "y": 559
    },
    "deepnote_cell_type": "code",
    "deepnote_to_be_reexecuted": false,
    "execution_millis": 248,
    "execution_start": 1668293747080,
    "id": "B4vZArXk3F8l",
    "source_hash": "3c12957d",
    "tags": []
   },
   "outputs": [
    {
     "name": "stdout",
     "output_type": "stream",
     "text": [
      "{'STU100': [60, 83], 'STU101': [69, 62], 'STU102': [80, 92], 'STU103': [60, 80], 'STU104': [99, 61], 'STU105': [70, 73], 'STU106': [99, 96], 'STU107': [79, 68], 'STU108': [89, 95], 'STU109': [81, 86], 'STU110': [71, 74], 'STU111': [85, 81], 'STU112': [95, 75], 'STU113': [96, 100], 'STU114': [72, 82], 'STU115': [60, 99], 'STU116': [82, 89], 'STU117': [100, 92], 'STU118': [89, 83], 'STU119': [95, 78], 'STU120': [99, 70], 'STU121': [96, 69], 'STU122': [99, 98], 'STU123': [87, 79], 'STU124': [97, 65], 'STU125': [79, 98], 'STU126': [87, 80], 'STU127': [97, 69], 'STU128': [83, 69], 'STU129': [78, 95], 'STU130': [65, 87], 'STU131': [90, 95], 'STU132': [81, 72], 'STU133': [87, 72], 'STU134': [92, 94], 'STU135': [74, 87], 'STU136': [93, 76], 'STU137': [68, 64], 'STU138': [89, 74], 'STU139': [97, 63], 'STU140': [69, 69], 'STU141': [99, 64], 'STU142': [67, 98], 'STU143': [70, 60], 'STU144': [83, 77], 'STU145': [60, 62], 'STU146': [60, 93], 'STU147': [94, 81]}\n"
     ]
    }
   ],
   "source": [
    "# your code is here\n",
    "d3 = {name:[grade1, grade2] for name, grade1, grade2 in zip(names, scores1, scores2)}\n",
    "\n",
    "print(d3)"
   ]
  },
  {
   "cell_type": "markdown",
   "metadata": {
    "id": "GPFk5DVV6s4F"
   },
   "source": [
    "### Task: Find the cluster of students whose scores are all at least 90."
   ]
  },
  {
   "cell_type": "code",
   "execution_count": 37,
   "metadata": {
    "id": "zLnWmgHP530-"
   },
   "outputs": [
    {
     "name": "stdout",
     "output_type": "stream",
     "text": [
      "STU106 [99, 96]\n",
      "STU113 [96, 100]\n",
      "STU117 [100, 92]\n",
      "STU122 [99, 98]\n",
      "STU131 [90, 95]\n",
      "STU134 [92, 94]\n"
     ]
    }
   ],
   "source": [
    "# your code is here\n",
    "for name, grades in d3.items():\n",
    "    if grades[0] >= 90 and grades[1] >=90:\n",
    "        print(name, grades)"
   ]
  },
  {
   "cell_type": "code",
   "execution_count": null,
   "metadata": {},
   "outputs": [],
   "source": []
  },
  {
   "cell_type": "code",
   "execution_count": null,
   "metadata": {},
   "outputs": [],
   "source": []
  }
 ],
 "metadata": {
  "colab": {
   "provenance": [],
   "toc_visible": true
  },
  "deepnote": {},
  "deepnote_app_layout": "article",
  "deepnote_execution_queue": [],
  "deepnote_notebook_id": "0309c2b816a34a00bd52f3f4ec174672",
  "deepnote_persisted_session": {
   "createdAt": "2022-11-12T23:15:56.938Z"
  },
  "gpuClass": "standard",
  "kernelspec": {
   "display_name": "Python 3 (ipykernel)",
   "language": "python",
   "name": "python3"
  },
  "language_info": {
   "codemirror_mode": {
    "name": "ipython",
    "version": 3
   },
   "file_extension": ".py",
   "mimetype": "text/x-python",
   "name": "python",
   "nbconvert_exporter": "python",
   "pygments_lexer": "ipython3",
   "version": "3.12.2"
  }
 },
 "nbformat": 4,
 "nbformat_minor": 4
}
