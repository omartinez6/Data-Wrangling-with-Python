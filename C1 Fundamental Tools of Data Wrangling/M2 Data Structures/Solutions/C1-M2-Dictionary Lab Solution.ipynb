{
 "cells": [
  {
   "cell_type": "markdown",
   "metadata": {
    "cell_id": "8a2a2db403ec4b9d855e0c94b18c81c6",
    "deepnote_app_coordinates": {
     "h": 5,
     "w": 12,
     "x": 0,
     "y": 1
    },
    "deepnote_cell_type": "markdown",
    "id": "vhIfpKue3F8M",
    "tags": []
   },
   "source": [
    "# Lab Dictionary"
   ]
  },
  {
   "cell_type": "markdown",
   "metadata": {
    "cell_id": "86ee79beadcc42428c1eb925513b6899",
    "deepnote_app_coordinates": {
     "h": 5,
     "w": 12,
     "x": 0,
     "y": 7
    },
    "deepnote_cell_type": "markdown",
    "id": "0o65JD603F8P",
    "tags": []
   },
   "source": [
    "## Data We Want to Organize\n",
    "You are given a dataset as below represented as a list. You should organize them in the required data structure in following tasks."
   ]
  },
  {
   "cell_type": "code",
   "execution_count": 6,
   "metadata": {
    "cell_id": "1f194b2d55b24733b200a9b8fd669a3c",
    "colab": {
     "base_uri": "https://localhost:8080/"
    },
    "deepnote_app_coordinates": {
     "h": 5,
     "w": 12,
     "x": 0,
     "y": 13
    },
    "deepnote_cell_type": "code",
    "deepnote_to_be_reexecuted": false,
    "executionInfo": {
     "elapsed": 153,
     "status": "ok",
     "timestamp": 1684028144323,
     "user": {
      "displayName": "Di Wu",
      "userId": "12543708253923817022"
     },
     "user_tz": 240
    },
    "execution_millis": 276518,
    "execution_start": 1668293746532,
    "id": "cp3LCCZM3F8P",
    "outputId": "2c4a50cf-8caa-4979-cf8c-083f7cf3d260",
    "source_hash": "d1526c0",
    "tags": []
   },
   "outputs": [
    {
     "data": {
      "text/plain": [
       "['STU100',\n",
       " 'STU101',\n",
       " 'STU102',\n",
       " 'STU103',\n",
       " 'STU104',\n",
       " 'STU105',\n",
       " 'STU106',\n",
       " 'STU107',\n",
       " 'STU108',\n",
       " 'STU109',\n",
       " 'STU110',\n",
       " 'STU111',\n",
       " 'STU112',\n",
       " 'STU113',\n",
       " 'STU114',\n",
       " 'STU115',\n",
       " 'STU116',\n",
       " 'STU117',\n",
       " 'STU118',\n",
       " 'STU119',\n",
       " 'STU120',\n",
       " 'STU121',\n",
       " 'STU122',\n",
       " 'STU123',\n",
       " 'STU124',\n",
       " 'STU125',\n",
       " 'STU126',\n",
       " 'STU127',\n",
       " 'STU128',\n",
       " 'STU129',\n",
       " 'STU130',\n",
       " 'STU131',\n",
       " 'STU132',\n",
       " 'STU133',\n",
       " 'STU134',\n",
       " 'STU135',\n",
       " 'STU136',\n",
       " 'STU137',\n",
       " 'STU138',\n",
       " 'STU139',\n",
       " 'STU140',\n",
       " 'STU141',\n",
       " 'STU142',\n",
       " 'STU143',\n",
       " 'STU144',\n",
       " 'STU145',\n",
       " 'STU146',\n",
       " 'STU147']"
      ]
     },
     "execution_count": 6,
     "metadata": {},
     "output_type": "execute_result"
    }
   ],
   "source": [
    "SIZE = 48\n",
    "names = ['STU' + str(i) for i in range(100,100+SIZE)]\n",
    "names"
   ]
  },
  {
   "cell_type": "code",
   "execution_count": 7,
   "metadata": {
    "cell_id": "786ae477329b4e8cbb0b02c18cbc5107",
    "colab": {
     "base_uri": "https://localhost:8080/"
    },
    "deepnote_app_coordinates": {
     "h": 5,
     "w": 12,
     "x": 0,
     "y": 19
    },
    "deepnote_cell_type": "code",
    "deepnote_to_be_reexecuted": false,
    "executionInfo": {
     "elapsed": 13,
     "status": "ok",
     "timestamp": 1684028144473,
     "user": {
      "displayName": "Di Wu",
      "userId": "12543708253923817022"
     },
     "user_tz": 240
    },
    "execution_millis": 580,
    "execution_start": 1668293746579,
    "id": "N4paz_Pz3F8R",
    "outputId": "97b82ee9-e822-4597-c559-9140f80def0c",
    "source_hash": "3478a76d",
    "tags": []
   },
   "outputs": [
    {
     "data": {
      "text/plain": [
       "[80,\n",
       " 74,\n",
       " 75,\n",
       " 93,\n",
       " 68,\n",
       " 99,\n",
       " 80,\n",
       " 97,\n",
       " 67,\n",
       " 71,\n",
       " 86,\n",
       " 71,\n",
       " 71,\n",
       " 100,\n",
       " 100,\n",
       " 97,\n",
       " 79,\n",
       " 71,\n",
       " 85,\n",
       " 78,\n",
       " 95,\n",
       " 68,\n",
       " 87,\n",
       " 90,\n",
       " 71,\n",
       " 83,\n",
       " 80,\n",
       " 77,\n",
       " 60,\n",
       " 74,\n",
       " 98,\n",
       " 66,\n",
       " 77,\n",
       " 90,\n",
       " 98,\n",
       " 92,\n",
       " 77,\n",
       " 63,\n",
       " 87,\n",
       " 74,\n",
       " 85,\n",
       " 90,\n",
       " 71,\n",
       " 99,\n",
       " 78,\n",
       " 99,\n",
       " 97,\n",
       " 91]"
      ]
     },
     "execution_count": 7,
     "metadata": {},
     "output_type": "execute_result"
    }
   ],
   "source": [
    "import random\n",
    "\n",
    "scores1 = [random.randint(60, 100) for i in range(SIZE)]\n",
    "scores1"
   ]
  },
  {
   "cell_type": "code",
   "execution_count": 8,
   "metadata": {
    "colab": {
     "base_uri": "https://localhost:8080/"
    },
    "executionInfo": {
     "elapsed": 12,
     "status": "ok",
     "timestamp": 1684028144474,
     "user": {
      "displayName": "Di Wu",
      "userId": "12543708253923817022"
     },
     "user_tz": 240
    },
    "id": "ltD_PRqG5h3Y",
    "outputId": "eb51a4b7-2a4e-47b2-9011-b840a6b0fb4e"
   },
   "outputs": [
    {
     "data": {
      "text/plain": [
       "[88,\n",
       " 88,\n",
       " 99,\n",
       " 65,\n",
       " 74,\n",
       " 80,\n",
       " 90,\n",
       " 71,\n",
       " 63,\n",
       " 81,\n",
       " 70,\n",
       " 96,\n",
       " 63,\n",
       " 76,\n",
       " 86,\n",
       " 64,\n",
       " 71,\n",
       " 94,\n",
       " 73,\n",
       " 61,\n",
       " 87,\n",
       " 97,\n",
       " 60,\n",
       " 95,\n",
       " 85,\n",
       " 68,\n",
       " 70,\n",
       " 93,\n",
       " 70,\n",
       " 77,\n",
       " 83,\n",
       " 87,\n",
       " 90,\n",
       " 67,\n",
       " 83,\n",
       " 73,\n",
       " 74,\n",
       " 83,\n",
       " 88,\n",
       " 87,\n",
       " 83,\n",
       " 78,\n",
       " 87,\n",
       " 67,\n",
       " 88,\n",
       " 61,\n",
       " 97,\n",
       " 62]"
      ]
     },
     "execution_count": 8,
     "metadata": {},
     "output_type": "execute_result"
    }
   ],
   "source": [
    "scores2 = [random.randint(60, 100) for i in range(SIZE)]\n",
    "scores2"
   ]
  },
  {
   "cell_type": "markdown",
   "metadata": {
    "cell_id": "ccd6016b85674d38a91c784b836af3ae",
    "deepnote_app_coordinates": {
     "h": 5,
     "w": 12,
     "x": 0,
     "y": 499
    },
    "deepnote_cell_type": "markdown",
    "id": "wpkcF6Fc3F8k",
    "tags": []
   },
   "source": [
    "## Dictionary"
   ]
  },
  {
   "cell_type": "markdown",
   "metadata": {
    "cell_id": "4fb41903e3f84f6f9b037549eb17e5d7",
    "deepnote_app_coordinates": {
     "h": 5,
     "w": 12,
     "x": 0,
     "y": 505
    },
    "deepnote_cell_type": "markdown",
    "id": "eFM3bIkh3F8k",
    "tags": []
   },
   "source": [
    "Task: Create a dictionary `d1`, in which names as key and scores1 as values"
   ]
  },
  {
   "cell_type": "code",
   "execution_count": 9,
   "metadata": {
    "cell_id": "421a0ccd81f34fe0a146d9ebd546162c",
    "colab": {
     "base_uri": "https://localhost:8080/"
    },
    "deepnote_app_coordinates": {
     "h": 5,
     "w": 12,
     "x": 0,
     "y": 511
    },
    "deepnote_cell_type": "code",
    "deepnote_to_be_reexecuted": false,
    "executionInfo": {
     "elapsed": 10,
     "status": "ok",
     "timestamp": 1684028144474,
     "user": {
      "displayName": "Di Wu",
      "userId": "12543708253923817022"
     },
     "user_tz": 240
    },
    "execution_millis": 259,
    "execution_start": 1668293747067,
    "id": "6O9hdUjT3F8k",
    "outputId": "1d02c384-3429-4d72-b84e-253827c97e4d",
    "source_hash": "622c411e",
    "tags": []
   },
   "outputs": [
    {
     "data": {
      "text/plain": [
       "{'STU100': 80,\n",
       " 'STU101': 74,\n",
       " 'STU102': 75,\n",
       " 'STU103': 93,\n",
       " 'STU104': 68,\n",
       " 'STU105': 99,\n",
       " 'STU106': 80,\n",
       " 'STU107': 97,\n",
       " 'STU108': 67,\n",
       " 'STU109': 71,\n",
       " 'STU110': 86,\n",
       " 'STU111': 71,\n",
       " 'STU112': 71,\n",
       " 'STU113': 100,\n",
       " 'STU114': 100,\n",
       " 'STU115': 97,\n",
       " 'STU116': 79,\n",
       " 'STU117': 71,\n",
       " 'STU118': 85,\n",
       " 'STU119': 78,\n",
       " 'STU120': 95,\n",
       " 'STU121': 68,\n",
       " 'STU122': 87,\n",
       " 'STU123': 90,\n",
       " 'STU124': 71,\n",
       " 'STU125': 83,\n",
       " 'STU126': 80,\n",
       " 'STU127': 77,\n",
       " 'STU128': 60,\n",
       " 'STU129': 74,\n",
       " 'STU130': 98,\n",
       " 'STU131': 66,\n",
       " 'STU132': 77,\n",
       " 'STU133': 90,\n",
       " 'STU134': 98,\n",
       " 'STU135': 92,\n",
       " 'STU136': 77,\n",
       " 'STU137': 63,\n",
       " 'STU138': 87,\n",
       " 'STU139': 74,\n",
       " 'STU140': 85,\n",
       " 'STU141': 90,\n",
       " 'STU142': 71,\n",
       " 'STU143': 99,\n",
       " 'STU144': 78,\n",
       " 'STU145': 99,\n",
       " 'STU146': 97,\n",
       " 'STU147': 91}"
      ]
     },
     "execution_count": 9,
     "metadata": {},
     "output_type": "execute_result"
    }
   ],
   "source": [
    "d1 = {name:score1 for name, score1 in zip(names, scores1)}\n",
    "d1\n"
   ]
  },
  {
   "cell_type": "markdown",
   "metadata": {
    "cell_id": "610b56247ac4444f8e81930354deaf81",
    "deepnote_app_coordinates": {
     "h": 5,
     "w": 12,
     "x": 0,
     "y": 517
    },
    "deepnote_cell_type": "markdown",
    "id": "f8dSrMzl3F8k",
    "tags": []
   },
   "source": [
    "Task: Print the score of the student with name 'STU136'"
   ]
  },
  {
   "cell_type": "code",
   "execution_count": 10,
   "metadata": {
    "cell_id": "f037232b8d0a449c9075f07efb72b75e",
    "colab": {
     "base_uri": "https://localhost:8080/"
    },
    "deepnote_app_coordinates": {
     "h": 5,
     "w": 12,
     "x": 0,
     "y": 523
    },
    "deepnote_cell_type": "code",
    "deepnote_to_be_reexecuted": false,
    "executionInfo": {
     "elapsed": 8,
     "status": "ok",
     "timestamp": 1684028144474,
     "user": {
      "displayName": "Di Wu",
      "userId": "12543708253923817022"
     },
     "user_tz": 240
    },
    "execution_millis": 258,
    "execution_start": 1668293747068,
    "id": "P1ukGGd23F8k",
    "outputId": "030c32af-f6c5-4218-ef25-0f379a319e71",
    "source_hash": "93ddea9b",
    "tags": []
   },
   "outputs": [
    {
     "name": "stdout",
     "output_type": "stream",
     "text": [
      "77\n"
     ]
    }
   ],
   "source": [
    "print(d1['STU136'])"
   ]
  },
  {
   "cell_type": "markdown",
   "metadata": {
    "cell_id": "2049405d2b4741d1a63a91cd352d7363",
    "deepnote_app_coordinates": {
     "h": 5,
     "w": 12,
     "x": 0,
     "y": 529
    },
    "deepnote_cell_type": "markdown",
    "id": "eSHF738x3F8k",
    "tags": []
   },
   "source": [
    "Task: Create a dictionary `d2`, in which names as key and scores2 as values"
   ]
  },
  {
   "cell_type": "code",
   "execution_count": 11,
   "metadata": {
    "cell_id": "0a8d81652a2b4967ba9c9cf961dc8205",
    "colab": {
     "base_uri": "https://localhost:8080/"
    },
    "deepnote_app_coordinates": {
     "h": 5,
     "w": 12,
     "x": 0,
     "y": 535
    },
    "deepnote_cell_type": "code",
    "deepnote_to_be_reexecuted": false,
    "executionInfo": {
     "elapsed": 6,
     "status": "ok",
     "timestamp": 1684028144474,
     "user": {
      "displayName": "Di Wu",
      "userId": "12543708253923817022"
     },
     "user_tz": 240
    },
    "execution_millis": 258,
    "execution_start": 1668293747069,
    "id": "J8w3ELTi3F8k",
    "outputId": "01c9e681-22b7-4151-b5e5-aacd0678bfdc",
    "source_hash": "509e464a",
    "tags": []
   },
   "outputs": [
    {
     "data": {
      "text/plain": [
       "{'STU100': 88,\n",
       " 'STU101': 88,\n",
       " 'STU102': 99,\n",
       " 'STU103': 65,\n",
       " 'STU104': 74,\n",
       " 'STU105': 80,\n",
       " 'STU106': 90,\n",
       " 'STU107': 71,\n",
       " 'STU108': 63,\n",
       " 'STU109': 81,\n",
       " 'STU110': 70,\n",
       " 'STU111': 96,\n",
       " 'STU112': 63,\n",
       " 'STU113': 76,\n",
       " 'STU114': 86,\n",
       " 'STU115': 64,\n",
       " 'STU116': 71,\n",
       " 'STU117': 94,\n",
       " 'STU118': 73,\n",
       " 'STU119': 61,\n",
       " 'STU120': 87,\n",
       " 'STU121': 97,\n",
       " 'STU122': 60,\n",
       " 'STU123': 95,\n",
       " 'STU124': 85,\n",
       " 'STU125': 68,\n",
       " 'STU126': 70,\n",
       " 'STU127': 93,\n",
       " 'STU128': 70,\n",
       " 'STU129': 77,\n",
       " 'STU130': 83,\n",
       " 'STU131': 87,\n",
       " 'STU132': 90,\n",
       " 'STU133': 67,\n",
       " 'STU134': 83,\n",
       " 'STU135': 73,\n",
       " 'STU136': 74,\n",
       " 'STU137': 83,\n",
       " 'STU138': 88,\n",
       " 'STU139': 87,\n",
       " 'STU140': 83,\n",
       " 'STU141': 78,\n",
       " 'STU142': 87,\n",
       " 'STU143': 67,\n",
       " 'STU144': 88,\n",
       " 'STU145': 61,\n",
       " 'STU146': 97,\n",
       " 'STU147': 62}"
      ]
     },
     "execution_count": 11,
     "metadata": {},
     "output_type": "execute_result"
    }
   ],
   "source": [
    "d2 = {name:score2 for name, score2 in zip(names, scores2)}\n",
    "d2"
   ]
  },
  {
   "cell_type": "markdown",
   "metadata": {
    "cell_id": "9c92d0ac103d483a9c41ee5600b8004d",
    "deepnote_app_coordinates": {
     "h": 5,
     "w": 12,
     "x": 0,
     "y": 541
    },
    "deepnote_cell_type": "markdown",
    "id": "blZAEhar3F8k",
    "tags": []
   },
   "source": [
    "Task: Print the names of student whose score is 88"
   ]
  },
  {
   "cell_type": "code",
   "execution_count": 14,
   "metadata": {
    "cell_id": "88ddabebf0994c5c93781ffe4186af89",
    "colab": {
     "base_uri": "https://localhost:8080/"
    },
    "deepnote_app_coordinates": {
     "h": 5,
     "w": 12,
     "x": 0,
     "y": 547
    },
    "deepnote_cell_type": "code",
    "deepnote_to_be_reexecuted": false,
    "executionInfo": {
     "elapsed": 160,
     "status": "ok",
     "timestamp": 1684028203595,
     "user": {
      "displayName": "Di Wu",
      "userId": "12543708253923817022"
     },
     "user_tz": 240
    },
    "execution_millis": 249,
    "execution_start": 1668293747078,
    "id": "qt9uwCHZ3F8l",
    "outputId": "9944e809-ab2a-405f-d12d-5af91199c6b4",
    "source_hash": "af038eab",
    "tags": []
   },
   "outputs": [
    {
     "name": "stdout",
     "output_type": "stream",
     "text": [
      "STU100\n",
      "STU101\n",
      "STU138\n",
      "STU144\n"
     ]
    }
   ],
   "source": [
    "for name in d2:\n",
    "    if d2[name] == 88:\n",
    "        print(name)\n"
   ]
  },
  {
   "cell_type": "markdown",
   "metadata": {
    "cell_id": "123073fbda154d4290b73bd55909c37f",
    "deepnote_app_coordinates": {
     "h": 5,
     "w": 12,
     "x": 0,
     "y": 553
    },
    "deepnote_cell_type": "markdown",
    "id": "52Sad7r63F8l",
    "tags": []
   },
   "source": [
    "Task: Createa a dictionary `d3`, in which names as key, and a list of scores as value. The list of scores has two elements: the first one is from scores1, and the second one is from scores2."
   ]
  },
  {
   "cell_type": "code",
   "execution_count": 15,
   "metadata": {
    "cell_id": "9477ae40e7f445e0ae032bfd907692ef",
    "colab": {
     "base_uri": "https://localhost:8080/"
    },
    "deepnote_app_coordinates": {
     "h": 5,
     "w": 12,
     "x": 0,
     "y": 559
    },
    "deepnote_cell_type": "code",
    "deepnote_to_be_reexecuted": false,
    "executionInfo": {
     "elapsed": 139,
     "status": "ok",
     "timestamp": 1684028207475,
     "user": {
      "displayName": "Di Wu",
      "userId": "12543708253923817022"
     },
     "user_tz": 240
    },
    "execution_millis": 248,
    "execution_start": 1668293747080,
    "id": "B4vZArXk3F8l",
    "outputId": "03463567-4383-41c1-ef17-087806c9f5f6",
    "source_hash": "3c12957d",
    "tags": []
   },
   "outputs": [
    {
     "data": {
      "text/plain": [
       "{'STU100': [80, 88],\n",
       " 'STU101': [74, 88],\n",
       " 'STU102': [75, 99],\n",
       " 'STU103': [93, 65],\n",
       " 'STU104': [68, 74],\n",
       " 'STU105': [99, 80],\n",
       " 'STU106': [80, 90],\n",
       " 'STU107': [97, 71],\n",
       " 'STU108': [67, 63],\n",
       " 'STU109': [71, 81],\n",
       " 'STU110': [86, 70],\n",
       " 'STU111': [71, 96],\n",
       " 'STU112': [71, 63],\n",
       " 'STU113': [100, 76],\n",
       " 'STU114': [100, 86],\n",
       " 'STU115': [97, 64],\n",
       " 'STU116': [79, 71],\n",
       " 'STU117': [71, 94],\n",
       " 'STU118': [85, 73],\n",
       " 'STU119': [78, 61],\n",
       " 'STU120': [95, 87],\n",
       " 'STU121': [68, 97],\n",
       " 'STU122': [87, 60],\n",
       " 'STU123': [90, 95],\n",
       " 'STU124': [71, 85],\n",
       " 'STU125': [83, 68],\n",
       " 'STU126': [80, 70],\n",
       " 'STU127': [77, 93],\n",
       " 'STU128': [60, 70],\n",
       " 'STU129': [74, 77],\n",
       " 'STU130': [98, 83],\n",
       " 'STU131': [66, 87],\n",
       " 'STU132': [77, 90],\n",
       " 'STU133': [90, 67],\n",
       " 'STU134': [98, 83],\n",
       " 'STU135': [92, 73],\n",
       " 'STU136': [77, 74],\n",
       " 'STU137': [63, 83],\n",
       " 'STU138': [87, 88],\n",
       " 'STU139': [74, 87],\n",
       " 'STU140': [85, 83],\n",
       " 'STU141': [90, 78],\n",
       " 'STU142': [71, 87],\n",
       " 'STU143': [99, 67],\n",
       " 'STU144': [78, 88],\n",
       " 'STU145': [99, 61],\n",
       " 'STU146': [97, 97],\n",
       " 'STU147': [91, 62]}"
      ]
     },
     "execution_count": 15,
     "metadata": {},
     "output_type": "execute_result"
    }
   ],
   "source": [
    "d3 = {name:[score1, score2] for name, score1, score2 in zip(names, scores1, scores2)}\n",
    "d3"
   ]
  },
  {
   "cell_type": "markdown",
   "metadata": {
    "id": "GPFk5DVV6s4F"
   },
   "source": [
    "Task: find the cluster of students whose scores are all at least 90."
   ]
  },
  {
   "cell_type": "code",
   "execution_count": 20,
   "metadata": {
    "colab": {
     "base_uri": "https://localhost:8080/"
    },
    "executionInfo": {
     "elapsed": 162,
     "status": "ok",
     "timestamp": 1684028431480,
     "user": {
      "displayName": "Di Wu",
      "userId": "12543708253923817022"
     },
     "user_tz": 240
    },
    "id": "zLnWmgHP530-",
    "outputId": "e780e23d-9589-4e3e-8ae8-99321b892d78"
   },
   "outputs": [
    {
     "data": {
      "text/plain": [
       "{'STU123': [90, 95], 'STU146': [97, 97]}"
      ]
     },
     "execution_count": 20,
     "metadata": {},
     "output_type": "execute_result"
    }
   ],
   "source": [
    "students_A = {s:[d3[s][0], d3[s][1]] for s in d3 if d3[s][0] >=90 and d3[s][1] >=90}\n",
    "students_A"
   ]
  }
 ],
 "metadata": {
  "colab": {
   "provenance": []
  },
  "deepnote": {},
  "deepnote_app_layout": "article",
  "deepnote_execution_queue": [],
  "deepnote_notebook_id": "0309c2b816a34a00bd52f3f4ec174672",
  "deepnote_persisted_session": {
   "createdAt": "2022-11-12T23:15:56.938Z"
  },
  "gpuClass": "standard",
  "kernelspec": {
   "display_name": "Python 3 (ipykernel)",
   "language": "python",
   "name": "python3"
  },
  "language_info": {
   "codemirror_mode": {
    "name": "ipython",
    "version": 3
   },
   "file_extension": ".py",
   "mimetype": "text/x-python",
   "name": "python",
   "nbconvert_exporter": "python",
   "pygments_lexer": "ipython3",
   "version": "3.12.2"
  }
 },
 "nbformat": 4,
 "nbformat_minor": 4
}
