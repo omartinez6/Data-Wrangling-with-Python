{
 "cells": [
  {
   "cell_type": "markdown",
   "metadata": {
    "cell_id": "8a2a2db403ec4b9d855e0c94b18c81c6",
    "deepnote_app_coordinates": {
     "h": 5,
     "w": 12,
     "x": 0,
     "y": 1
    },
    "deepnote_cell_type": "markdown",
    "id": "JCZR-YdIyVty",
    "tags": []
   },
   "source": [
    "# Lab-List"
   ]
  },
  {
   "cell_type": "markdown",
   "metadata": {
    "cell_id": "86ee79beadcc42428c1eb925513b6899",
    "deepnote_app_coordinates": {
     "h": 5,
     "w": 12,
     "x": 0,
     "y": 7
    },
    "deepnote_cell_type": "markdown",
    "id": "AiW2esedyVtz",
    "tags": []
   },
   "source": [
    "## Data We Want to Organize\n",
    "You are given a dataset as below represented as a list. You should organize them in the required data structure in following tasks."
   ]
  },
  {
   "cell_type": "code",
   "execution_count": 1,
   "metadata": {
    "executionInfo": {
     "elapsed": 4,
     "status": "ok",
     "timestamp": 1684026364420,
     "user": {
      "displayName": "Di Wu",
      "userId": "12543708253923817022"
     },
     "user_tz": 240
    },
    "id": "imUa4OKxyrgX"
   },
   "outputs": [],
   "source": [
    "SIZE = 48"
   ]
  },
  {
   "cell_type": "code",
   "execution_count": 2,
   "metadata": {
    "cell_id": "1f194b2d55b24733b200a9b8fd669a3c",
    "colab": {
     "base_uri": "https://localhost:8080/"
    },
    "deepnote_app_coordinates": {
     "h": 5,
     "w": 12,
     "x": 0,
     "y": 13
    },
    "deepnote_cell_type": "code",
    "deepnote_to_be_reexecuted": false,
    "executionInfo": {
     "elapsed": 239,
     "status": "ok",
     "timestamp": 1684026367709,
     "user": {
      "displayName": "Di Wu",
      "userId": "12543708253923817022"
     },
     "user_tz": 240
    },
    "execution_millis": 276518,
    "execution_start": 1668293746532,
    "id": "xnKS-yqLyVtz",
    "outputId": "73f4f369-4a3a-4b12-f353-d3f629e88115",
    "source_hash": "d1526c0",
    "tags": []
   },
   "outputs": [
    {
     "data": {
      "text/plain": [
       "['STU100',\n",
       " 'STU101',\n",
       " 'STU102',\n",
       " 'STU103',\n",
       " 'STU104',\n",
       " 'STU105',\n",
       " 'STU106',\n",
       " 'STU107',\n",
       " 'STU108',\n",
       " 'STU109',\n",
       " 'STU110',\n",
       " 'STU111',\n",
       " 'STU112',\n",
       " 'STU113',\n",
       " 'STU114',\n",
       " 'STU115',\n",
       " 'STU116',\n",
       " 'STU117',\n",
       " 'STU118',\n",
       " 'STU119',\n",
       " 'STU120',\n",
       " 'STU121',\n",
       " 'STU122',\n",
       " 'STU123',\n",
       " 'STU124',\n",
       " 'STU125',\n",
       " 'STU126',\n",
       " 'STU127',\n",
       " 'STU128',\n",
       " 'STU129',\n",
       " 'STU130',\n",
       " 'STU131',\n",
       " 'STU132',\n",
       " 'STU133',\n",
       " 'STU134',\n",
       " 'STU135',\n",
       " 'STU136',\n",
       " 'STU137',\n",
       " 'STU138',\n",
       " 'STU139',\n",
       " 'STU140',\n",
       " 'STU141',\n",
       " 'STU142',\n",
       " 'STU143',\n",
       " 'STU144',\n",
       " 'STU145',\n",
       " 'STU146',\n",
       " 'STU147']"
      ]
     },
     "execution_count": 2,
     "metadata": {},
     "output_type": "execute_result"
    }
   ],
   "source": [
    "names = ['STU' + str(i) for i in range(100,100+SIZE)]\n",
    "names"
   ]
  },
  {
   "cell_type": "code",
   "execution_count": 4,
   "metadata": {
    "cell_id": "786ae477329b4e8cbb0b02c18cbc5107",
    "colab": {
     "base_uri": "https://localhost:8080/"
    },
    "deepnote_app_coordinates": {
     "h": 5,
     "w": 12,
     "x": 0,
     "y": 19
    },
    "deepnote_cell_type": "code",
    "deepnote_to_be_reexecuted": false,
    "executionInfo": {
     "elapsed": 232,
     "status": "ok",
     "timestamp": 1684026408233,
     "user": {
      "displayName": "Di Wu",
      "userId": "12543708253923817022"
     },
     "user_tz": 240
    },
    "execution_millis": 580,
    "execution_start": 1668293746579,
    "id": "aHXK7l7DyVt0",
    "outputId": "b9c4e837-fd60-4de6-ef5a-587ef76f644e",
    "source_hash": "3478a76d",
    "tags": []
   },
   "outputs": [
    {
     "data": {
      "text/plain": [
       "[89,\n",
       " 85,\n",
       " 60,\n",
       " 63,\n",
       " 82,\n",
       " 71,\n",
       " 98,\n",
       " 89,\n",
       " 62,\n",
       " 82,\n",
       " 84,\n",
       " 71,\n",
       " 68,\n",
       " 66,\n",
       " 94,\n",
       " 72,\n",
       " 62,\n",
       " 70,\n",
       " 79,\n",
       " 76,\n",
       " 71,\n",
       " 61,\n",
       " 72,\n",
       " 81,\n",
       " 96,\n",
       " 96,\n",
       " 63,\n",
       " 80,\n",
       " 75,\n",
       " 84,\n",
       " 73,\n",
       " 89,\n",
       " 66,\n",
       " 64,\n",
       " 71,\n",
       " 80,\n",
       " 74,\n",
       " 91,\n",
       " 98,\n",
       " 88,\n",
       " 95,\n",
       " 62,\n",
       " 63,\n",
       " 63,\n",
       " 95,\n",
       " 97,\n",
       " 60,\n",
       " 98]"
      ]
     },
     "execution_count": 4,
     "metadata": {},
     "output_type": "execute_result"
    }
   ],
   "source": [
    "import random\n",
    "\n",
    "scores1 = [ random.randint(60, 100) for i in range(SIZE)]\n",
    "scores1"
   ]
  },
  {
   "cell_type": "markdown",
   "metadata": {
    "cell_id": "a9e53779797b4237b76c5d2e9a737aaf",
    "deepnote_app_coordinates": {
     "h": 5,
     "w": 12,
     "x": 0,
     "y": 25
    },
    "deepnote_cell_type": "markdown",
    "id": "FeoRCIapyVt0",
    "tags": []
   },
   "source": [
    "## List\n"
   ]
  },
  {
   "cell_type": "markdown",
   "metadata": {
    "cell_id": "4a73a754655440f99f30dc404eb95cb0",
    "deepnote_app_coordinates": {
     "h": 5,
     "w": 12,
     "x": 0,
     "y": 31
    },
    "deepnote_cell_type": "markdown",
    "id": "UxPy2ygRyVt0",
    "tags": []
   },
   "source": [
    "Task: Create a grade book `gradebook` as a list, in which each element is a list and the first item is the name (from the `names` data), and second item is the score (from the `scores1` data)."
   ]
  },
  {
   "cell_type": "code",
   "execution_count": 5,
   "metadata": {
    "cell_id": "b873d76ad49a4d5781ab032af8b55e2b",
    "colab": {
     "base_uri": "https://localhost:8080/"
    },
    "deepnote_app_coordinates": {
     "h": 5,
     "w": 12,
     "x": 0,
     "y": 37
    },
    "deepnote_cell_type": "code",
    "deepnote_to_be_reexecuted": false,
    "executionInfo": {
     "elapsed": 226,
     "status": "ok",
     "timestamp": 1684026660582,
     "user": {
      "displayName": "Di Wu",
      "userId": "12543708253923817022"
     },
     "user_tz": 240
    },
    "execution_millis": 20,
    "execution_start": 1668293746580,
    "id": "jVv6y_LzyVt1",
    "outputId": "98a413c1-7434-4be7-d64c-603003dd33fd",
    "source_hash": "8812a278",
    "tags": []
   },
   "outputs": [
    {
     "data": {
      "text/plain": [
       "[['STU100', 89],\n",
       " ['STU101', 85],\n",
       " ['STU102', 60],\n",
       " ['STU103', 63],\n",
       " ['STU104', 82],\n",
       " ['STU105', 71],\n",
       " ['STU106', 98],\n",
       " ['STU107', 89],\n",
       " ['STU108', 62],\n",
       " ['STU109', 82],\n",
       " ['STU110', 84],\n",
       " ['STU111', 71],\n",
       " ['STU112', 68],\n",
       " ['STU113', 66],\n",
       " ['STU114', 94],\n",
       " ['STU115', 72],\n",
       " ['STU116', 62],\n",
       " ['STU117', 70],\n",
       " ['STU118', 79],\n",
       " ['STU119', 76],\n",
       " ['STU120', 71],\n",
       " ['STU121', 61],\n",
       " ['STU122', 72],\n",
       " ['STU123', 81],\n",
       " ['STU124', 96],\n",
       " ['STU125', 96],\n",
       " ['STU126', 63],\n",
       " ['STU127', 80],\n",
       " ['STU128', 75],\n",
       " ['STU129', 84],\n",
       " ['STU130', 73],\n",
       " ['STU131', 89],\n",
       " ['STU132', 66],\n",
       " ['STU133', 64],\n",
       " ['STU134', 71],\n",
       " ['STU135', 80],\n",
       " ['STU136', 74],\n",
       " ['STU137', 91],\n",
       " ['STU138', 98],\n",
       " ['STU139', 88],\n",
       " ['STU140', 95],\n",
       " ['STU141', 62],\n",
       " ['STU142', 63],\n",
       " ['STU143', 63],\n",
       " ['STU144', 95],\n",
       " ['STU145', 97],\n",
       " ['STU146', 60],\n",
       " ['STU147', 98]]"
      ]
     },
     "execution_count": 5,
     "metadata": {},
     "output_type": "execute_result"
    }
   ],
   "source": [
    "gradebook = [[name,score] for name,score in zip(names, scores1)]\n",
    "gradebook"
   ]
  },
  {
   "cell_type": "markdown",
   "metadata": {
    "cell_id": "08332d722c4e42a3bb416a6ad9b8ad1c",
    "deepnote_app_coordinates": {
     "h": 5,
     "w": 12,
     "x": 0,
     "y": 43
    },
    "deepnote_cell_type": "markdown",
    "id": "0Qu5ZN2nyVt1",
    "tags": []
   },
   "source": [
    "Task: Create a subset of the `gradebook` as `gb1`, which contains first 25 elements of the `gradebook`"
   ]
  },
  {
   "cell_type": "code",
   "execution_count": 6,
   "metadata": {
    "cell_id": "2553d9d494f945fd90607bc7d08c4e34",
    "colab": {
     "base_uri": "https://localhost:8080/"
    },
    "deepnote_app_coordinates": {
     "h": 5,
     "w": 12,
     "x": 0,
     "y": 49
    },
    "deepnote_cell_type": "code",
    "deepnote_to_be_reexecuted": false,
    "executionInfo": {
     "elapsed": 570,
     "status": "ok",
     "timestamp": 1684026664691,
     "user": {
      "displayName": "Di Wu",
      "userId": "12543708253923817022"
     },
     "user_tz": 240
    },
    "execution_millis": 562,
    "execution_start": 1668293746600,
    "id": "QDoKAGYvyVt1",
    "outputId": "93c00451-a1bb-4460-a390-fea687b08e42",
    "source_hash": "e20899d7",
    "tags": []
   },
   "outputs": [
    {
     "data": {
      "text/plain": [
       "[['STU100', 89],\n",
       " ['STU101', 85],\n",
       " ['STU102', 60],\n",
       " ['STU103', 63],\n",
       " ['STU104', 82],\n",
       " ['STU105', 71],\n",
       " ['STU106', 98],\n",
       " ['STU107', 89],\n",
       " ['STU108', 62],\n",
       " ['STU109', 82],\n",
       " ['STU110', 84],\n",
       " ['STU111', 71],\n",
       " ['STU112', 68],\n",
       " ['STU113', 66],\n",
       " ['STU114', 94],\n",
       " ['STU115', 72],\n",
       " ['STU116', 62],\n",
       " ['STU117', 70],\n",
       " ['STU118', 79],\n",
       " ['STU119', 76],\n",
       " ['STU120', 71],\n",
       " ['STU121', 61],\n",
       " ['STU122', 72],\n",
       " ['STU123', 81],\n",
       " ['STU124', 96]]"
      ]
     },
     "execution_count": 6,
     "metadata": {},
     "output_type": "execute_result"
    }
   ],
   "source": [
    "gb1 = gradebook[:25]\n",
    "gb1"
   ]
  },
  {
   "cell_type": "markdown",
   "metadata": {
    "cell_id": "0cfaf89c22d646da98b10f2211c85a8c",
    "deepnote_app_coordinates": {
     "h": 5,
     "w": 12,
     "x": 0,
     "y": 55
    },
    "deepnote_cell_type": "markdown",
    "id": "MSZ948xPyVt1",
    "tags": []
   },
   "source": [
    "Task: Create a subset of the `gradebook` as `gb2`, in which student name always ends with an even number"
   ]
  },
  {
   "cell_type": "code",
   "execution_count": 7,
   "metadata": {
    "cell_id": "592e49bc6d314951b261759dc7a92949",
    "colab": {
     "base_uri": "https://localhost:8080/"
    },
    "deepnote_app_coordinates": {
     "h": 5,
     "w": 12,
     "x": 0,
     "y": 61
    },
    "deepnote_cell_type": "code",
    "deepnote_to_be_reexecuted": false,
    "executionInfo": {
     "elapsed": 216,
     "status": "ok",
     "timestamp": 1684026671562,
     "user": {
      "displayName": "Di Wu",
      "userId": "12543708253923817022"
     },
     "user_tz": 240
    },
    "execution_millis": 561,
    "execution_start": 1668293746601,
    "id": "LW2XeL2DyVt1",
    "outputId": "bb2aea28-294b-46dd-f5c8-40051220d60c",
    "source_hash": "21bfb041",
    "tags": []
   },
   "outputs": [
    {
     "data": {
      "text/plain": [
       "[['STU100', 89],\n",
       " ['STU102', 60],\n",
       " ['STU104', 82],\n",
       " ['STU106', 98],\n",
       " ['STU108', 62],\n",
       " ['STU110', 84],\n",
       " ['STU112', 68],\n",
       " ['STU114', 94],\n",
       " ['STU116', 62],\n",
       " ['STU118', 79],\n",
       " ['STU120', 71],\n",
       " ['STU122', 72],\n",
       " ['STU124', 96],\n",
       " ['STU126', 63],\n",
       " ['STU128', 75],\n",
       " ['STU130', 73],\n",
       " ['STU132', 66],\n",
       " ['STU134', 71],\n",
       " ['STU136', 74],\n",
       " ['STU138', 98],\n",
       " ['STU140', 95],\n",
       " ['STU142', 63],\n",
       " ['STU144', 95],\n",
       " ['STU146', 60]]"
      ]
     },
     "execution_count": 7,
     "metadata": {},
     "output_type": "execute_result"
    }
   ],
   "source": [
    "gb2 = [v for v in gradebook if int(v[0][-1]) %2 == 0]\n",
    "gb2"
   ]
  },
  {
   "cell_type": "markdown",
   "metadata": {
    "cell_id": "71b0b2d1903f4f31b01504bd8c8edd23",
    "deepnote_app_coordinates": {
     "h": 5,
     "w": 12,
     "x": 0,
     "y": 67
    },
    "deepnote_cell_type": "markdown",
    "id": "dCSIn9myyVt1",
    "tags": []
   },
   "source": [
    "Task: Create a subset of the `gradebook` as `gb3`, in which student score always above 80"
   ]
  },
  {
   "cell_type": "code",
   "execution_count": 8,
   "metadata": {
    "cell_id": "fb18cabab0b148bc986c5a986e228fce",
    "colab": {
     "base_uri": "https://localhost:8080/"
    },
    "deepnote_app_coordinates": {
     "h": 5,
     "w": 12,
     "x": 0,
     "y": 73
    },
    "deepnote_cell_type": "code",
    "deepnote_to_be_reexecuted": false,
    "executionInfo": {
     "elapsed": 210,
     "status": "ok",
     "timestamp": 1684026677675,
     "user": {
      "displayName": "Di Wu",
      "userId": "12543708253923817022"
     },
     "user_tz": 240
    },
    "execution_millis": 561,
    "execution_start": 1668293746602,
    "id": "M5gq0YDdyVt1",
    "outputId": "3f71613c-47b8-460c-82ac-1f2bdef0a06e",
    "source_hash": "75dc9a58",
    "tags": []
   },
   "outputs": [
    {
     "data": {
      "text/plain": [
       "[['STU100', 89],\n",
       " ['STU101', 85],\n",
       " ['STU104', 82],\n",
       " ['STU106', 98],\n",
       " ['STU107', 89],\n",
       " ['STU109', 82],\n",
       " ['STU110', 84],\n",
       " ['STU114', 94],\n",
       " ['STU123', 81],\n",
       " ['STU124', 96],\n",
       " ['STU125', 96],\n",
       " ['STU129', 84],\n",
       " ['STU131', 89],\n",
       " ['STU137', 91],\n",
       " ['STU138', 98],\n",
       " ['STU139', 88],\n",
       " ['STU140', 95],\n",
       " ['STU144', 95],\n",
       " ['STU145', 97],\n",
       " ['STU147', 98]]"
      ]
     },
     "execution_count": 8,
     "metadata": {},
     "output_type": "execute_result"
    }
   ],
   "source": [
    "gb3 = [v for v in gradebook if v[1] > 80]\n",
    "gb3"
   ]
  },
  {
   "cell_type": "markdown",
   "metadata": {
    "id": "ZSAvgyz7zwYe"
   },
   "source": [
    "Task: Create a subset of the `gradebook` as `gb4`, in which student scores are below the average score"
   ]
  },
  {
   "cell_type": "code",
   "execution_count": 14,
   "metadata": {
    "colab": {
     "base_uri": "https://localhost:8080/"
    },
    "executionInfo": {
     "elapsed": 241,
     "status": "ok",
     "timestamp": 1684026865872,
     "user": {
      "displayName": "Di Wu",
      "userId": "12543708253923817022"
     },
     "user_tz": 240
    },
    "id": "ohPwjmvPzuhu",
    "outputId": "60894f7d-5dc6-4a5e-ac8d-5da25ab85ebb"
   },
   "outputs": [
    {
     "data": {
      "text/plain": [
       "[['STU102', 60],\n",
       " ['STU103', 63],\n",
       " ['STU105', 71],\n",
       " ['STU108', 62],\n",
       " ['STU111', 71],\n",
       " ['STU112', 68],\n",
       " ['STU113', 66],\n",
       " ['STU115', 72],\n",
       " ['STU116', 62],\n",
       " ['STU117', 70],\n",
       " ['STU119', 76],\n",
       " ['STU120', 71],\n",
       " ['STU121', 61],\n",
       " ['STU122', 72],\n",
       " ['STU126', 63],\n",
       " ['STU128', 75],\n",
       " ['STU130', 73],\n",
       " ['STU132', 66],\n",
       " ['STU133', 64],\n",
       " ['STU134', 71],\n",
       " ['STU136', 74],\n",
       " ['STU141', 62],\n",
       " ['STU142', 63],\n",
       " ['STU143', 63],\n",
       " ['STU146', 60]]"
      ]
     },
     "execution_count": 14,
     "metadata": {},
     "output_type": "execute_result"
    }
   ],
   "source": [
    "total = 0\n",
    "for s in scores1:\n",
    "  total += s\n",
    "avg = total / len(scores1)\n",
    "gb4 = [v for v in gradebook if v[1] < avg]\n",
    "gb4"
   ]
  },
  {
   "cell_type": "markdown",
   "metadata": {
    "cell_id": "76aa5362844c496bbea2b8bfdc0e08fb",
    "deepnote_app_coordinates": {
     "h": 5,
     "w": 12,
     "x": 0,
     "y": 79
    },
    "deepnote_cell_type": "markdown",
    "id": "omNbuMKDyVt1",
    "tags": []
   },
   "source": [
    "Task: Update the `gradebook` so the scores are converted to letter grade: >=90 is A, >=80 is B, etc."
   ]
  },
  {
   "cell_type": "code",
   "execution_count": null,
   "metadata": {
    "cell_id": "90006f5726414cbd8367c36a7f8a168d",
    "deepnote_app_coordinates": {
     "h": 5,
     "w": 12,
     "x": 0,
     "y": 85
    },
    "deepnote_cell_type": "code",
    "deepnote_to_be_reexecuted": false,
    "execution_millis": 520,
    "execution_start": 1668293746643,
    "id": "wQPipM1jyVt1",
    "outputId": "f741e49b-bd38-4814-c2e9-acfbb3107602",
    "source_hash": "354fcbfb",
    "tags": []
   },
   "outputs": [
    {
     "data": {
      "text/plain": [
       "[['STU100', 'A'],\n",
       " ['STU101', 'C'],\n",
       " ['STU102', 'D'],\n",
       " ['STU103', 'D'],\n",
       " ['STU104', 'C'],\n",
       " ['STU105', 'D'],\n",
       " ['STU106', 'C'],\n",
       " ['STU107', 'D'],\n",
       " ['STU108', 'C'],\n",
       " ['STU109', 'D'],\n",
       " ['STU110', 'C'],\n",
       " ['STU111', 'D'],\n",
       " ['STU112', 'D'],\n",
       " ['STU113', 'B'],\n",
       " ['STU114', 'B'],\n",
       " ['STU115', 'A'],\n",
       " ['STU116', 'C'],\n",
       " ['STU117', 'B'],\n",
       " ['STU118', 'C'],\n",
       " ['STU119', 'B'],\n",
       " ['STU120', 'B'],\n",
       " ['STU121', 'C'],\n",
       " ['STU122', 'D'],\n",
       " ['STU123', 'B'],\n",
       " ['STU124', 'B'],\n",
       " ['STU125', 'A'],\n",
       " ['STU126', 'A'],\n",
       " ['STU127', 'B'],\n",
       " ['STU128', 'C'],\n",
       " ['STU129', 'D'],\n",
       " ['STU130', 'D'],\n",
       " ['STU131', 'B'],\n",
       " ['STU132', 'D'],\n",
       " ['STU133', 'D'],\n",
       " ['STU134', 'C'],\n",
       " ['STU135', 'D'],\n",
       " ['STU136', 'B'],\n",
       " ['STU137', 'C'],\n",
       " ['STU138', 'D'],\n",
       " ['STU139', 'A'],\n",
       " ['STU140', 'D'],\n",
       " ['STU141', 'D'],\n",
       " ['STU142', 'D'],\n",
       " ['STU143', 'B'],\n",
       " ['STU144', 'D'],\n",
       " ['STU145', 'D'],\n",
       " ['STU146', 'B'],\n",
       " ['STU147', 'C']]"
      ]
     },
     "execution_count": 7,
     "metadata": {},
     "output_type": "execute_result"
    }
   ],
   "source": [
    "def g2l(score):\n",
    "    letters = ['F','F','F','F','F','F','D','C','B','A']\n",
    "    return letters[score//10]\n",
    "\n",
    "gradebook = [[v[0],g2l(v[1])] for v in gradebook]\n",
    "gradebook"
   ]
  }
 ],
 "metadata": {
  "colab": {
   "provenance": []
  },
  "deepnote": {},
  "deepnote_app_layout": "article",
  "deepnote_execution_queue": [],
  "deepnote_notebook_id": "0309c2b816a34a00bd52f3f4ec174672",
  "deepnote_persisted_session": {
   "createdAt": "2022-11-12T23:15:56.938Z"
  },
  "gpuClass": "standard",
  "kernelspec": {
   "display_name": "Python 3 (ipykernel)",
   "language": "python",
   "name": "python3"
  },
  "language_info": {
   "codemirror_mode": {
    "name": "ipython",
    "version": 3
   },
   "file_extension": ".py",
   "mimetype": "text/x-python",
   "name": "python",
   "nbconvert_exporter": "python",
   "pygments_lexer": "ipython3",
   "version": "3.12.2"
  }
 },
 "nbformat": 4,
 "nbformat_minor": 4
}
