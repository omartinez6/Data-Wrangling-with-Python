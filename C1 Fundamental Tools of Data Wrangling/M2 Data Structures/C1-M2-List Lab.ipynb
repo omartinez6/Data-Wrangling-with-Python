{
 "cells": [
  {
   "cell_type": "markdown",
   "metadata": {
    "cell_id": "8a2a2db403ec4b9d855e0c94b18c81c6",
    "deepnote_app_coordinates": {
     "h": 5,
     "w": 12,
     "x": 0,
     "y": 1
    },
    "deepnote_cell_type": "markdown",
    "id": "JCZR-YdIyVty",
    "tags": []
   },
   "source": [
    "# Lab-List"
   ]
  },
  {
   "cell_type": "markdown",
   "metadata": {
    "cell_id": "86ee79beadcc42428c1eb925513b6899",
    "deepnote_app_coordinates": {
     "h": 5,
     "w": 12,
     "x": 0,
     "y": 7
    },
    "deepnote_cell_type": "markdown",
    "id": "AiW2esedyVtz",
    "tags": []
   },
   "source": [
    "## Data We Want to Organize\n",
    "You are given a dataset as below represented as a list. You should organize them in the required data structure in following tasks."
   ]
  },
  {
   "cell_type": "code",
   "execution_count": 52,
   "metadata": {
    "id": "imUa4OKxyrgX"
   },
   "outputs": [],
   "source": [
    "SIZE = 48"
   ]
  },
  {
   "cell_type": "code",
   "execution_count": 53,
   "metadata": {
    "cell_id": "1f194b2d55b24733b200a9b8fd669a3c",
    "deepnote_app_coordinates": {
     "h": 5,
     "w": 12,
     "x": 0,
     "y": 13
    },
    "deepnote_cell_type": "code",
    "deepnote_to_be_reexecuted": false,
    "execution_millis": 276518,
    "execution_start": 1668293746532,
    "id": "xnKS-yqLyVtz",
    "source_hash": "d1526c0",
    "tags": []
   },
   "outputs": [
    {
     "data": {
      "text/plain": [
       "['STU100',\n",
       " 'STU101',\n",
       " 'STU102',\n",
       " 'STU103',\n",
       " 'STU104',\n",
       " 'STU105',\n",
       " 'STU106',\n",
       " 'STU107',\n",
       " 'STU108',\n",
       " 'STU109',\n",
       " 'STU110',\n",
       " 'STU111',\n",
       " 'STU112',\n",
       " 'STU113',\n",
       " 'STU114',\n",
       " 'STU115',\n",
       " 'STU116',\n",
       " 'STU117',\n",
       " 'STU118',\n",
       " 'STU119',\n",
       " 'STU120',\n",
       " 'STU121',\n",
       " 'STU122',\n",
       " 'STU123',\n",
       " 'STU124',\n",
       " 'STU125',\n",
       " 'STU126',\n",
       " 'STU127',\n",
       " 'STU128',\n",
       " 'STU129',\n",
       " 'STU130',\n",
       " 'STU131',\n",
       " 'STU132',\n",
       " 'STU133',\n",
       " 'STU134',\n",
       " 'STU135',\n",
       " 'STU136',\n",
       " 'STU137',\n",
       " 'STU138',\n",
       " 'STU139',\n",
       " 'STU140',\n",
       " 'STU141',\n",
       " 'STU142',\n",
       " 'STU143',\n",
       " 'STU144',\n",
       " 'STU145',\n",
       " 'STU146',\n",
       " 'STU147']"
      ]
     },
     "execution_count": 53,
     "metadata": {},
     "output_type": "execute_result"
    }
   ],
   "source": [
    "names = ['STU' + str(i) for i in range(100,100+SIZE)]\n",
    "names"
   ]
  },
  {
   "cell_type": "code",
   "execution_count": 54,
   "metadata": {
    "cell_id": "786ae477329b4e8cbb0b02c18cbc5107",
    "deepnote_app_coordinates": {
     "h": 5,
     "w": 12,
     "x": 0,
     "y": 19
    },
    "deepnote_cell_type": "code",
    "deepnote_to_be_reexecuted": false,
    "execution_millis": 580,
    "execution_start": 1668293746579,
    "id": "aHXK7l7DyVt0",
    "source_hash": "3478a76d",
    "tags": []
   },
   "outputs": [
    {
     "data": {
      "text/plain": [
       "[90,\n",
       " 67,\n",
       " 84,\n",
       " 79,\n",
       " 100,\n",
       " 73,\n",
       " 73,\n",
       " 60,\n",
       " 89,\n",
       " 78,\n",
       " 83,\n",
       " 95,\n",
       " 89,\n",
       " 92,\n",
       " 69,\n",
       " 75,\n",
       " 82,\n",
       " 97,\n",
       " 62,\n",
       " 85,\n",
       " 79,\n",
       " 89,\n",
       " 82,\n",
       " 83,\n",
       " 69,\n",
       " 72,\n",
       " 84,\n",
       " 68,\n",
       " 74,\n",
       " 99,\n",
       " 86,\n",
       " 97,\n",
       " 71,\n",
       " 71,\n",
       " 99,\n",
       " 99,\n",
       " 89,\n",
       " 78,\n",
       " 96,\n",
       " 89,\n",
       " 93,\n",
       " 76,\n",
       " 64,\n",
       " 63,\n",
       " 86,\n",
       " 98,\n",
       " 70,\n",
       " 93]"
      ]
     },
     "execution_count": 54,
     "metadata": {},
     "output_type": "execute_result"
    }
   ],
   "source": [
    "import random\n",
    "\n",
    "scores1 = [ random.randint(60, 100) for i in range(SIZE)]\n",
    "scores1"
   ]
  },
  {
   "cell_type": "markdown",
   "metadata": {
    "cell_id": "a9e53779797b4237b76c5d2e9a737aaf",
    "deepnote_app_coordinates": {
     "h": 5,
     "w": 12,
     "x": 0,
     "y": 25
    },
    "deepnote_cell_type": "markdown",
    "id": "FeoRCIapyVt0",
    "tags": []
   },
   "source": [
    "## List\n"
   ]
  },
  {
   "cell_type": "markdown",
   "metadata": {
    "cell_id": "4a73a754655440f99f30dc404eb95cb0",
    "deepnote_app_coordinates": {
     "h": 5,
     "w": 12,
     "x": 0,
     "y": 31
    },
    "deepnote_cell_type": "markdown",
    "id": "UxPy2ygRyVt0",
    "tags": []
   },
   "source": [
    "Task: Create a grade book `gradebook` as a list, in which each element is a list and the first item is the name (from the `names` data), and second item is the score (from the `scores1` data)."
   ]
  },
  {
   "cell_type": "code",
   "execution_count": 55,
   "metadata": {
    "cell_id": "b873d76ad49a4d5781ab032af8b55e2b",
    "deepnote_app_coordinates": {
     "h": 5,
     "w": 12,
     "x": 0,
     "y": 37
    },
    "deepnote_cell_type": "code",
    "deepnote_to_be_reexecuted": false,
    "execution_millis": 20,
    "execution_start": 1668293746580,
    "id": "jVv6y_LzyVt1",
    "source_hash": "8812a278",
    "tags": []
   },
   "outputs": [
    {
     "name": "stdout",
     "output_type": "stream",
     "text": [
      "[['STU100', 90], ['STU101', 67], ['STU102', 84], ['STU103', 79], ['STU104', 100], ['STU105', 73], ['STU106', 73], ['STU107', 60], ['STU108', 89], ['STU109', 78], ['STU110', 83], ['STU111', 95], ['STU112', 89], ['STU113', 92], ['STU114', 69], ['STU115', 75], ['STU116', 82], ['STU117', 97], ['STU118', 62], ['STU119', 85], ['STU120', 79], ['STU121', 89], ['STU122', 82], ['STU123', 83], ['STU124', 69], ['STU125', 72], ['STU126', 84], ['STU127', 68], ['STU128', 74], ['STU129', 99], ['STU130', 86], ['STU131', 97], ['STU132', 71], ['STU133', 71], ['STU134', 99], ['STU135', 99], ['STU136', 89], ['STU137', 78], ['STU138', 96], ['STU139', 89], ['STU140', 93], ['STU141', 76], ['STU142', 64], ['STU143', 63], ['STU144', 86], ['STU145', 98], ['STU146', 70], ['STU147', 93]]\n"
     ]
    }
   ],
   "source": [
    "# your code here\n",
    "gradebook = [[name, grade] for name, grade in zip(names, scores1) ]\n",
    "print(gradebook)"
   ]
  },
  {
   "cell_type": "markdown",
   "metadata": {
    "cell_id": "08332d722c4e42a3bb416a6ad9b8ad1c",
    "deepnote_app_coordinates": {
     "h": 5,
     "w": 12,
     "x": 0,
     "y": 43
    },
    "deepnote_cell_type": "markdown",
    "id": "0Qu5ZN2nyVt1",
    "tags": []
   },
   "source": [
    "Task: Create a subset of the `gradebook` as `gb1`, which contains first 25 elements of the `gradebook`"
   ]
  },
  {
   "cell_type": "code",
   "execution_count": 56,
   "metadata": {
    "cell_id": "2553d9d494f945fd90607bc7d08c4e34",
    "deepnote_app_coordinates": {
     "h": 5,
     "w": 12,
     "x": 0,
     "y": 49
    },
    "deepnote_cell_type": "code",
    "deepnote_to_be_reexecuted": false,
    "execution_millis": 562,
    "execution_start": 1668293746600,
    "id": "QDoKAGYvyVt1",
    "source_hash": "e20899d7",
    "tags": []
   },
   "outputs": [
    {
     "name": "stdout",
     "output_type": "stream",
     "text": [
      "[['STU100', 90], ['STU101', 67], ['STU102', 84], ['STU103', 79], ['STU104', 100], ['STU105', 73], ['STU106', 73], ['STU107', 60], ['STU108', 89], ['STU109', 78], ['STU110', 83], ['STU111', 95], ['STU112', 89], ['STU113', 92], ['STU114', 69], ['STU115', 75], ['STU116', 82], ['STU117', 97], ['STU118', 62], ['STU119', 85], ['STU120', 79], ['STU121', 89], ['STU122', 82], ['STU123', 83], ['STU124', 69]]\n"
     ]
    }
   ],
   "source": [
    "# your code here\n",
    "gb1 = gradebook[:25]\n",
    "print(gb1)"
   ]
  },
  {
   "cell_type": "markdown",
   "metadata": {
    "cell_id": "0cfaf89c22d646da98b10f2211c85a8c",
    "deepnote_app_coordinates": {
     "h": 5,
     "w": 12,
     "x": 0,
     "y": 55
    },
    "deepnote_cell_type": "markdown",
    "id": "MSZ948xPyVt1",
    "tags": []
   },
   "source": [
    "Task: Create a subset of the `gradebook` as `gb2`, in which student name always ends with an even number"
   ]
  },
  {
   "cell_type": "code",
   "execution_count": 57,
   "metadata": {
    "cell_id": "592e49bc6d314951b261759dc7a92949",
    "deepnote_app_coordinates": {
     "h": 5,
     "w": 12,
     "x": 0,
     "y": 61
    },
    "deepnote_cell_type": "code",
    "deepnote_to_be_reexecuted": false,
    "execution_millis": 561,
    "execution_start": 1668293746601,
    "id": "LW2XeL2DyVt1",
    "source_hash": "21bfb041",
    "tags": []
   },
   "outputs": [
    {
     "name": "stdout",
     "output_type": "stream",
     "text": [
      "[['STU100', 90], ['STU102', 84], ['STU104', 100], ['STU106', 73], ['STU108', 89], ['STU110', 83], ['STU112', 89], ['STU114', 69], ['STU116', 82], ['STU118', 62], ['STU120', 79], ['STU122', 82], ['STU124', 69], ['STU126', 84], ['STU128', 74], ['STU130', 86], ['STU132', 71], ['STU134', 99], ['STU136', 89], ['STU138', 96], ['STU140', 93], ['STU142', 64], ['STU144', 86], ['STU146', 70]]\n",
      "[['STU100', 90], ['STU102', 84], ['STU104', 100], ['STU106', 73], ['STU108', 89], ['STU110', 83], ['STU112', 89], ['STU114', 69], ['STU116', 82], ['STU118', 62], ['STU120', 79], ['STU122', 82], ['STU124', 69], ['STU126', 84], ['STU128', 74], ['STU130', 86], ['STU132', 71], ['STU134', 99], ['STU136', 89], ['STU138', 96], ['STU140', 93], ['STU142', 64], ['STU144', 86], ['STU146', 70]]\n"
     ]
    }
   ],
   "source": [
    "# your code here\n",
    "gb2 = gradebook[::2]\n",
    "print(gb2)\n",
    "\n",
    "gb2 = [lista for lista in gradebook if int(lista[0][-1]) % 2 == 0]\n",
    "print(gb2)"
   ]
  },
  {
   "cell_type": "markdown",
   "metadata": {
    "cell_id": "71b0b2d1903f4f31b01504bd8c8edd23",
    "deepnote_app_coordinates": {
     "h": 5,
     "w": 12,
     "x": 0,
     "y": 67
    },
    "deepnote_cell_type": "markdown",
    "id": "dCSIn9myyVt1",
    "tags": []
   },
   "source": [
    "Task: Create a subset of the `gradebook` as `gb3`, in which student score always above 80"
   ]
  },
  {
   "cell_type": "code",
   "execution_count": 58,
   "metadata": {
    "cell_id": "fb18cabab0b148bc986c5a986e228fce",
    "deepnote_app_coordinates": {
     "h": 5,
     "w": 12,
     "x": 0,
     "y": 73
    },
    "deepnote_cell_type": "code",
    "deepnote_to_be_reexecuted": false,
    "execution_millis": 561,
    "execution_start": 1668293746602,
    "id": "M5gq0YDdyVt1",
    "source_hash": "75dc9a58",
    "tags": []
   },
   "outputs": [
    {
     "name": "stdout",
     "output_type": "stream",
     "text": [
      "[['STU100', 90], ['STU102', 84], ['STU104', 100], ['STU108', 89], ['STU110', 83], ['STU111', 95], ['STU112', 89], ['STU113', 92], ['STU116', 82], ['STU117', 97], ['STU119', 85], ['STU121', 89], ['STU122', 82], ['STU123', 83], ['STU126', 84], ['STU129', 99], ['STU130', 86], ['STU131', 97], ['STU134', 99], ['STU135', 99], ['STU136', 89], ['STU138', 96], ['STU139', 89], ['STU140', 93], ['STU144', 86], ['STU145', 98], ['STU147', 93]]\n"
     ]
    }
   ],
   "source": [
    "# your code here\n",
    "gb3 = [lista for lista in gradebook if lista[1] > 80]\n",
    "print(gb3)"
   ]
  },
  {
   "cell_type": "markdown",
   "metadata": {
    "id": "ZSAvgyz7zwYe"
   },
   "source": [
    "Task: Create a subset of the `gradebook` as `gb4`, in which student scores are below the average score"
   ]
  },
  {
   "cell_type": "code",
   "execution_count": 59,
   "metadata": {
    "id": "ohPwjmvPzuhu"
   },
   "outputs": [
    {
     "name": "stdout",
     "output_type": "stream",
     "text": [
      "[['STU101', 67], ['STU103', 79], ['STU105', 73], ['STU106', 73], ['STU107', 60], ['STU109', 78], ['STU114', 69], ['STU115', 75], ['STU116', 82], ['STU118', 62], ['STU120', 79], ['STU122', 82], ['STU124', 69], ['STU125', 72], ['STU127', 68], ['STU128', 74], ['STU132', 71], ['STU133', 71], ['STU137', 78], ['STU141', 76], ['STU142', 64], ['STU143', 63], ['STU146', 70]]\n"
     ]
    }
   ],
   "source": [
    "# your code here\n",
    "average = sum([grade for name, grade in gradebook]) / len([name for name, grade in gradebook])\n",
    "\n",
    "gb4 = [lista for lista in gradebook if lista[1] < average]\n",
    "print(gb4)"
   ]
  },
  {
   "cell_type": "markdown",
   "metadata": {
    "cell_id": "76aa5362844c496bbea2b8bfdc0e08fb",
    "deepnote_app_coordinates": {
     "h": 5,
     "w": 12,
     "x": 0,
     "y": 79
    },
    "deepnote_cell_type": "markdown",
    "id": "omNbuMKDyVt1",
    "tags": []
   },
   "source": [
    "Task: Update the `gradebook` so the scores are converted to letter grade: >=90 is A, >=80 is B, etc."
   ]
  },
  {
   "cell_type": "code",
   "execution_count": 62,
   "metadata": {
    "cell_id": "90006f5726414cbd8367c36a7f8a168d",
    "deepnote_app_coordinates": {
     "h": 5,
     "w": 12,
     "x": 0,
     "y": 85
    },
    "deepnote_cell_type": "code",
    "deepnote_to_be_reexecuted": false,
    "execution_millis": 520,
    "execution_start": 1668293746643,
    "id": "wQPipM1jyVt1",
    "source_hash": "354fcbfb",
    "tags": []
   },
   "outputs": [
    {
     "name": "stdout",
     "output_type": "stream",
     "text": [
      "[['STU100', 'A'], ['STU101', 'D'], ['STU102', 'B'], ['STU103', 'C'], ['STU104', 'A'], ['STU105', 'C'], ['STU106', 'C'], ['STU107', 'D'], ['STU108', 'B'], ['STU109', 'C'], ['STU110', 'B'], ['STU111', 'A'], ['STU112', 'B'], ['STU113', 'A'], ['STU114', 'D'], ['STU115', 'C'], ['STU116', 'B'], ['STU117', 'A'], ['STU118', 'D'], ['STU119', 'B'], ['STU120', 'C'], ['STU121', 'B'], ['STU122', 'B'], ['STU123', 'B'], ['STU124', 'D'], ['STU125', 'C'], ['STU126', 'B'], ['STU127', 'D'], ['STU128', 'C'], ['STU129', 'A'], ['STU130', 'B'], ['STU131', 'A'], ['STU132', 'C'], ['STU133', 'C'], ['STU134', 'A'], ['STU135', 'A'], ['STU136', 'B'], ['STU137', 'C'], ['STU138', 'A'], ['STU139', 'B'], ['STU140', 'A'], ['STU141', 'C'], ['STU142', 'D'], ['STU143', 'D'], ['STU144', 'B'], ['STU145', 'A'], ['STU146', 'C'], ['STU147', 'A']]\n"
     ]
    }
   ],
   "source": [
    "# your code here\n",
    "def grade_to_letter(grade):\n",
    "    letters = ['F','F','F','F','F','F','D','C','B','A']\n",
    "    indice = grade // 10\n",
    "    if indice == 10:\n",
    "        return letters[indice - 1]\n",
    "    else:\n",
    "        return letters[indice]\n",
    "\n",
    "gradebook = [[name, grade_to_letter(grade)] for name, grade in gradebook]\n",
    "print(gradebook)"
   ]
  }
 ],
 "metadata": {
  "colab": {
   "provenance": []
  },
  "deepnote": {},
  "deepnote_app_layout": "article",
  "deepnote_execution_queue": [],
  "deepnote_notebook_id": "0309c2b816a34a00bd52f3f4ec174672",
  "deepnote_persisted_session": {
   "createdAt": "2022-11-12T23:15:56.938Z"
  },
  "gpuClass": "standard",
  "kernelspec": {
   "display_name": "Python 3 (ipykernel)",
   "language": "python",
   "name": "python3"
  },
  "language_info": {
   "codemirror_mode": {
    "name": "ipython",
    "version": 3
   },
   "file_extension": ".py",
   "mimetype": "text/x-python",
   "name": "python",
   "nbconvert_exporter": "python",
   "pygments_lexer": "ipython3",
   "version": "3.12.2"
  }
 },
 "nbformat": 4,
 "nbformat_minor": 4
}
